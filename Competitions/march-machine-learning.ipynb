{
 "cells": [
  {
   "cell_type": "code",
   "execution_count": 1,
   "id": "04859bc0",
   "metadata": {
    "_cell_guid": "b1076dfc-b9ad-4769-8c92-a6c4dae69d19",
    "_uuid": "8f2839f25d086af736a60e9eeb907d3b93b6e0e5",
    "execution": {
     "iopub.execute_input": "2025-02-17T09:37:42.343939Z",
     "iopub.status.busy": "2025-02-17T09:37:42.343407Z",
     "iopub.status.idle": "2025-02-17T09:37:43.555894Z",
     "shell.execute_reply": "2025-02-17T09:37:43.553835Z"
    },
    "papermill": {
     "duration": 1.220418,
     "end_time": "2025-02-17T09:37:43.558453",
     "exception": false,
     "start_time": "2025-02-17T09:37:42.338035",
     "status": "completed"
    },
    "tags": []
   },
   "outputs": [
    {
     "name": "stdout",
     "output_type": "stream",
     "text": [
      "/kaggle/input/march-machine-learning-mania-2025/Conferences.csv\n",
      "/kaggle/input/march-machine-learning-mania-2025/SeedBenchmarkStage1.csv\n",
      "/kaggle/input/march-machine-learning-mania-2025/WNCAATourneyDetailedResults.csv\n",
      "/kaggle/input/march-machine-learning-mania-2025/WRegularSeasonCompactResults.csv\n",
      "/kaggle/input/march-machine-learning-mania-2025/MNCAATourneySeedRoundSlots.csv\n",
      "/kaggle/input/march-machine-learning-mania-2025/MRegularSeasonDetailedResults.csv\n",
      "/kaggle/input/march-machine-learning-mania-2025/MNCAATourneyCompactResults.csv\n",
      "/kaggle/input/march-machine-learning-mania-2025/MGameCities.csv\n",
      "/kaggle/input/march-machine-learning-mania-2025/WSecondaryTourneyCompactResults.csv\n",
      "/kaggle/input/march-machine-learning-mania-2025/WGameCities.csv\n",
      "/kaggle/input/march-machine-learning-mania-2025/MSeasons.csv\n",
      "/kaggle/input/march-machine-learning-mania-2025/WNCAATourneySlots.csv\n",
      "/kaggle/input/march-machine-learning-mania-2025/MSecondaryTourneyTeams.csv\n",
      "/kaggle/input/march-machine-learning-mania-2025/Cities.csv\n",
      "/kaggle/input/march-machine-learning-mania-2025/MTeamSpellings.csv\n",
      "/kaggle/input/march-machine-learning-mania-2025/MRegularSeasonCompactResults.csv\n",
      "/kaggle/input/march-machine-learning-mania-2025/MMasseyOrdinals.csv\n",
      "/kaggle/input/march-machine-learning-mania-2025/MSecondaryTourneyCompactResults.csv\n",
      "/kaggle/input/march-machine-learning-mania-2025/WTeams.csv\n",
      "/kaggle/input/march-machine-learning-mania-2025/WConferenceTourneyGames.csv\n",
      "/kaggle/input/march-machine-learning-mania-2025/MNCAATourneySlots.csv\n",
      "/kaggle/input/march-machine-learning-mania-2025/MNCAATourneySeeds.csv\n",
      "/kaggle/input/march-machine-learning-mania-2025/WNCAATourneyCompactResults.csv\n",
      "/kaggle/input/march-machine-learning-mania-2025/WSeasons.csv\n",
      "/kaggle/input/march-machine-learning-mania-2025/WNCAATourneySeeds.csv\n",
      "/kaggle/input/march-machine-learning-mania-2025/MTeamCoaches.csv\n",
      "/kaggle/input/march-machine-learning-mania-2025/MConferenceTourneyGames.csv\n",
      "/kaggle/input/march-machine-learning-mania-2025/WRegularSeasonDetailedResults.csv\n",
      "/kaggle/input/march-machine-learning-mania-2025/MNCAATourneyDetailedResults.csv\n",
      "/kaggle/input/march-machine-learning-mania-2025/WTeamSpellings.csv\n",
      "/kaggle/input/march-machine-learning-mania-2025/MTeamConferences.csv\n",
      "/kaggle/input/march-machine-learning-mania-2025/MTeams.csv\n",
      "/kaggle/input/march-machine-learning-mania-2025/WTeamConferences.csv\n",
      "/kaggle/input/march-machine-learning-mania-2025/SampleSubmissionStage1.csv\n",
      "/kaggle/input/march-machine-learning-mania-2025/WSecondaryTourneyTeams.csv\n"
     ]
    }
   ],
   "source": [
    "# This Python 3 environment comes with many helpful analytics libraries installed\n",
    "# It is defined by the kaggle/python Docker image: https://github.com/kaggle/docker-python\n",
    "# For example, here's several helpful packages to load\n",
    "\n",
    "import numpy as np # linear algebra\n",
    "import pandas as pd # data processing, CSV file I/O (e.g. pd.read_csv)\n",
    "\n",
    "# Input data files are available in the read-only \"../input/\" directory\n",
    "# For example, running this (by clicking run or pressing Shift+Enter) will list all files under the input directory\n",
    "\n",
    "import os\n",
    "for dirname, _, filenames in os.walk('/kaggle/input'):\n",
    "    for filename in filenames:\n",
    "        print(os.path.join(dirname, filename))\n",
    "\n",
    "# You can write up to 20GB to the current directory (/kaggle/working/) that gets preserved as output when you create a version using \"Save & Run All\" \n",
    "# You can also write temporary files to /kaggle/temp/, but they won't be saved outside of the current session"
   ]
  },
  {
   "cell_type": "code",
   "execution_count": 2,
   "id": "4542a7fa",
   "metadata": {
    "execution": {
     "iopub.execute_input": "2025-02-17T09:37:43.568976Z",
     "iopub.status.busy": "2025-02-17T09:37:43.568321Z",
     "iopub.status.idle": "2025-02-17T09:37:47.682074Z",
     "shell.execute_reply": "2025-02-17T09:37:47.680839Z"
    },
    "papermill": {
     "duration": 4.121482,
     "end_time": "2025-02-17T09:37:47.684455",
     "exception": false,
     "start_time": "2025-02-17T09:37:43.562973",
     "status": "completed"
    },
    "tags": []
   },
   "outputs": [],
   "source": [
    "# Essential Libraries\n",
    "import numpy as np\n",
    "import pandas as pd\n",
    "import matplotlib.pyplot as plt\n",
    "import seaborn as sns\n",
    "import os\n",
    "\n",
    "# Machine Learning Libraries\n",
    "from sklearn.model_selection import train_test_split\n",
    "from sklearn.metrics import brier_score_loss\n",
    "import xgboost as xgb\n",
    "from sklearn.linear_model import LogisticRegression\n",
    "from sklearn.ensemble import RandomForestClassifier\n",
    "\n",
    "# Suppress Warnings\n",
    "import warnings\n",
    "warnings.filterwarnings(\"ignore\")\n"
   ]
  },
  {
   "cell_type": "code",
   "execution_count": 3,
   "id": "9444ec84",
   "metadata": {
    "execution": {
     "iopub.execute_input": "2025-02-17T09:37:47.694611Z",
     "iopub.status.busy": "2025-02-17T09:37:47.694031Z",
     "iopub.status.idle": "2025-02-17T09:37:51.683314Z",
     "shell.execute_reply": "2025-02-17T09:37:51.682131Z"
    },
    "papermill": {
     "duration": 3.997035,
     "end_time": "2025-02-17T09:37:51.685425",
     "exception": false,
     "start_time": "2025-02-17T09:37:47.688390",
     "status": "completed"
    },
    "tags": []
   },
   "outputs": [],
   "source": [
    "# Load Datasets\n",
    "df_seeds_m = pd.read_csv(\"/kaggle/input/march-machine-learning-mania-2025/MNCAATourneySeeds.csv\")\n",
    "df_seeds_w = pd.read_csv(\"/kaggle/input/march-machine-learning-mania-2025/WNCAATourneySeeds.csv\")\n",
    "\n",
    "df_regular_m = pd.read_csv(\"/kaggle/input/march-machine-learning-mania-2025/MRegularSeasonCompactResults.csv\")\n",
    "df_regular_w = pd.read_csv(\"/kaggle/input/march-machine-learning-mania-2025/WRegularSeasonCompactResults.csv\")\n",
    "\n",
    "df_tourney_m = pd.read_csv(\"/kaggle/input/march-machine-learning-mania-2025/MNCAATourneyCompactResults.csv\")\n",
    "df_tourney_w = pd.read_csv(\"/kaggle/input/march-machine-learning-mania-2025/WNCAATourneyCompactResults.csv\")\n",
    "\n",
    "df_rankings = pd.read_csv(\"/kaggle/input/march-machine-learning-mania-2025/MMasseyOrdinals.csv\")\n",
    "\n",
    "df_teams_m = pd.read_csv(\"/kaggle/input/march-machine-learning-mania-2025/MTeams.csv\")\n",
    "df_teams_w = pd.read_csv(\"/kaggle/input/march-machine-learning-mania-2025/WTeams.csv\")\n",
    "\n",
    "df_submission = pd.read_csv(\"/kaggle/input/march-machine-learning-mania-2025/SampleSubmissionStage1.csv\")\n"
   ]
  },
  {
   "cell_type": "code",
   "execution_count": 4,
   "id": "415f3955",
   "metadata": {
    "execution": {
     "iopub.execute_input": "2025-02-17T09:37:51.694174Z",
     "iopub.status.busy": "2025-02-17T09:37:51.693808Z",
     "iopub.status.idle": "2025-02-17T09:37:51.730965Z",
     "shell.execute_reply": "2025-02-17T09:37:51.729548Z"
    },
    "papermill": {
     "duration": 0.0439,
     "end_time": "2025-02-17T09:37:51.733072",
     "exception": false,
     "start_time": "2025-02-17T09:37:51.689172",
     "status": "completed"
    },
    "tags": []
   },
   "outputs": [
    {
     "name": "stdout",
     "output_type": "stream",
     "text": [
      "   Season Seed  TeamID\n",
      "0    1985  W01    1207\n",
      "1    1985  W02    1210\n",
      "2    1985  W03    1228\n",
      "3    1985  W04    1260\n",
      "4    1985  W05    1374\n",
      "   Season Seed  TeamID\n",
      "0    1998  W01    3330\n",
      "1    1998  W02    3163\n",
      "2    1998  W03    3112\n",
      "3    1998  W04    3301\n",
      "4    1998  W05    3272\n",
      "   Season  DayNum  WTeamID  WScore  LTeamID  LScore WLoc  NumOT\n",
      "0    1985      20     1228      81     1328      64    N      0\n",
      "1    1985      25     1106      77     1354      70    H      0\n",
      "2    1985      25     1112      63     1223      56    H      0\n",
      "3    1985      25     1165      70     1432      54    H      0\n",
      "4    1985      25     1192      86     1447      74    H      0\n",
      "   Season  DayNum  WTeamID  WScore  LTeamID  LScore WLoc  NumOT\n",
      "0    1998      18     3104      91     3202      41    H      0\n",
      "1    1998      18     3163      87     3221      76    H      0\n",
      "2    1998      18     3222      66     3261      59    H      0\n",
      "3    1998      18     3307      69     3365      62    H      0\n",
      "4    1998      18     3349     115     3411      35    H      0\n",
      "   Season  DayNum  WTeamID  WScore  LTeamID  LScore WLoc  NumOT\n",
      "0    1985     136     1116      63     1234      54    N      0\n",
      "1    1985     136     1120      59     1345      58    N      0\n",
      "2    1985     136     1207      68     1250      43    N      0\n",
      "3    1985     136     1229      58     1425      55    N      0\n",
      "4    1985     136     1242      49     1325      38    N      0\n",
      "   Season  DayNum  WTeamID  WScore  LTeamID  LScore WLoc  NumOT\n",
      "0    1998     137     3104      94     3422      46    H      0\n",
      "1    1998     137     3112      75     3365      63    H      0\n",
      "2    1998     137     3163      93     3193      52    H      0\n",
      "3    1998     137     3198      59     3266      45    H      0\n",
      "4    1998     137     3203      74     3208      72    A      0\n",
      "   Season  RankingDayNum SystemName  TeamID  OrdinalRank\n",
      "0    2003             35        SEL    1102          159\n",
      "1    2003             35        SEL    1103          229\n",
      "2    2003             35        SEL    1104           12\n",
      "3    2003             35        SEL    1105          314\n",
      "4    2003             35        SEL    1106          260\n",
      "   TeamID     TeamName  FirstD1Season  LastD1Season\n",
      "0    1101  Abilene Chr           2014          2025\n",
      "1    1102    Air Force           1985          2025\n",
      "2    1103        Akron           1985          2025\n",
      "3    1104      Alabama           1985          2025\n",
      "4    1105  Alabama A&M           2000          2025\n",
      "   TeamID     TeamName\n",
      "0    3101  Abilene Chr\n",
      "1    3102    Air Force\n",
      "2    3103        Akron\n",
      "3    3104      Alabama\n",
      "4    3105  Alabama A&M\n",
      "               ID  Pred\n",
      "0  2021_1101_1102   0.5\n",
      "1  2021_1101_1103   0.5\n",
      "2  2021_1101_1104   0.5\n",
      "3  2021_1101_1105   0.5\n",
      "4  2021_1101_1106   0.5\n"
     ]
    }
   ],
   "source": [
    "# View Seeds Data\n",
    "print(df_seeds_m.head())\n",
    "print(df_seeds_w.head())\n",
    "\n",
    "# View Regular Season Results\n",
    "print(df_regular_m.head())\n",
    "print(df_regular_w.head())\n",
    "\n",
    "# View Tournament Results\n",
    "print(df_tourney_m.head())\n",
    "print(df_tourney_w.head())\n",
    "\n",
    "# View Rankings Data\n",
    "print(df_rankings.head())\n",
    "\n",
    "# View Teams Metadata\n",
    "print(df_teams_m.head())\n",
    "print(df_teams_w.head())\n",
    "\n",
    "# View Submission Format\n",
    "print(df_submission.head())\n"
   ]
  },
  {
   "cell_type": "code",
   "execution_count": 5,
   "id": "4e8fbbb0",
   "metadata": {
    "execution": {
     "iopub.execute_input": "2025-02-17T09:37:51.742277Z",
     "iopub.status.busy": "2025-02-17T09:37:51.741879Z",
     "iopub.status.idle": "2025-02-17T09:37:51.773691Z",
     "shell.execute_reply": "2025-02-17T09:37:51.772060Z"
    },
    "papermill": {
     "duration": 0.038445,
     "end_time": "2025-02-17T09:37:51.775501",
     "exception": false,
     "start_time": "2025-02-17T09:37:51.737056",
     "status": "completed"
    },
    "tags": []
   },
   "outputs": [
    {
     "name": "stdout",
     "output_type": "stream",
     "text": [
      "   Season  TeamID  SeedNumber\n",
      "0    1985    1207           1\n",
      "1    1985    1210           2\n",
      "2    1985    1228           3\n",
      "3    1985    1260           4\n",
      "4    1985    1374           5\n",
      "   Season  TeamID  SeedNumber\n",
      "0    1998    3330           1\n",
      "1    1998    3163           2\n",
      "2    1998    3112           3\n",
      "3    1998    3301           4\n",
      "4    1998    3272           5\n"
     ]
    }
   ],
   "source": [
    "# Extract numeric seed values\n",
    "df_seeds_m[\"SeedNumber\"] = df_seeds_m[\"Seed\"].str.extract(\"(\\d+)\").astype(int)\n",
    "df_seeds_w[\"SeedNumber\"] = df_seeds_w[\"Seed\"].str.extract(\"(\\d+)\").astype(int)\n",
    "\n",
    "# Drop original Seed column\n",
    "df_seeds_m.drop(columns=[\"Seed\"], inplace=True)\n",
    "df_seeds_w.drop(columns=[\"Seed\"], inplace=True)\n",
    "\n",
    "print(df_seeds_m.head())\n",
    "print(df_seeds_w.head())\n"
   ]
  },
  {
   "cell_type": "code",
   "execution_count": 6,
   "id": "1a409058",
   "metadata": {
    "execution": {
     "iopub.execute_input": "2025-02-17T09:37:51.784853Z",
     "iopub.status.busy": "2025-02-17T09:37:51.784449Z",
     "iopub.status.idle": "2025-02-17T09:37:51.814149Z",
     "shell.execute_reply": "2025-02-17T09:37:51.812652Z"
    },
    "papermill": {
     "duration": 0.03669,
     "end_time": "2025-02-17T09:37:51.816201",
     "exception": false,
     "start_time": "2025-02-17T09:37:51.779511",
     "status": "completed"
    },
    "tags": []
   },
   "outputs": [
    {
     "name": "stdout",
     "output_type": "stream",
     "text": [
      "   TeamID  WinRatio\n",
      "0    1101  0.466238\n",
      "1    1102  0.359091\n",
      "2    1103  0.585261\n",
      "3    1104  0.630781\n",
      "4    1105  0.348703\n"
     ]
    }
   ],
   "source": [
    "# Compute win ratios for men\n",
    "df_team_wins = df_regular_m.groupby(\"WTeamID\").size().reset_index(name=\"Wins\")\n",
    "df_team_losses = df_regular_m.groupby(\"LTeamID\").size().reset_index(name=\"Losses\")\n",
    "\n",
    "df_win_ratio = pd.merge(df_team_wins, df_team_losses, left_on=\"WTeamID\", right_on=\"LTeamID\", how=\"outer\")\n",
    "df_win_ratio.fillna(0, inplace=True)\n",
    "\n",
    "df_win_ratio[\"TotalGames\"] = df_win_ratio[\"Wins\"] + df_win_ratio[\"Losses\"]\n",
    "df_win_ratio[\"WinRatio\"] = df_win_ratio[\"Wins\"] / df_win_ratio[\"TotalGames\"]\n",
    "\n",
    "df_win_ratio = df_win_ratio[[\"WTeamID\", \"WinRatio\"]]\n",
    "df_win_ratio.rename(columns={\"WTeamID\": \"TeamID\"}, inplace=True)\n",
    "\n",
    "print(df_win_ratio.head())\n"
   ]
  },
  {
   "cell_type": "code",
   "execution_count": 7,
   "id": "3b253311",
   "metadata": {
    "execution": {
     "iopub.execute_input": "2025-02-17T09:37:51.825820Z",
     "iopub.status.busy": "2025-02-17T09:37:51.825401Z",
     "iopub.status.idle": "2025-02-17T09:37:51.864411Z",
     "shell.execute_reply": "2025-02-17T09:37:51.862677Z"
    },
    "papermill": {
     "duration": 0.04634,
     "end_time": "2025-02-17T09:37:51.866591",
     "exception": false,
     "start_time": "2025-02-17T09:37:51.820251",
     "status": "completed"
    },
    "tags": []
   },
   "outputs": [
    {
     "name": "stdout",
     "output_type": "stream",
     "text": [
      "   TeamID  OrdinalRank\n",
      "0    1101   225.912206\n",
      "1    1102   296.702355\n",
      "2    1103   137.922912\n",
      "3    1104     7.683267\n",
      "4    1105   347.225322\n"
     ]
    }
   ],
   "source": [
    "# Get most recent ranking for each team\n",
    "df_rankings_latest = df_rankings[df_rankings[\"Season\"] == df_rankings[\"Season\"].max()]\n",
    "df_rankings_latest = df_rankings_latest.groupby(\"TeamID\")[\"OrdinalRank\"].mean().reset_index()\n",
    "\n",
    "print(df_rankings_latest.head())\n"
   ]
  },
  {
   "cell_type": "code",
   "execution_count": 8,
   "id": "713b256c",
   "metadata": {
    "execution": {
     "iopub.execute_input": "2025-02-17T09:37:51.877130Z",
     "iopub.status.busy": "2025-02-17T09:37:51.876521Z",
     "iopub.status.idle": "2025-02-17T09:37:52.949832Z",
     "shell.execute_reply": "2025-02-17T09:37:52.948475Z"
    },
    "papermill": {
     "duration": 1.081082,
     "end_time": "2025-02-17T09:37:52.951920",
     "exception": false,
     "start_time": "2025-02-17T09:37:51.870838",
     "status": "completed"
    },
    "tags": []
   },
   "outputs": [
    {
     "name": "stdout",
     "output_type": "stream",
     "text": [
      "               ID  Pred  Season  Team1  Team2\n",
      "0  2021_1101_1102   0.5    2021   1101   1102\n",
      "1  2021_1101_1103   0.5    2021   1101   1103\n",
      "2  2021_1101_1104   0.5    2021   1101   1104\n",
      "3  2021_1101_1105   0.5    2021   1101   1105\n",
      "4  2021_1101_1106   0.5    2021   1101   1106\n"
     ]
    }
   ],
   "source": [
    "df_matchups = df_submission.copy()\n",
    "\n",
    "# Split matchup IDs\n",
    "df_matchups[\"Season\"] = df_matchups[\"ID\"].apply(lambda x: int(x.split(\"_\")[0]))\n",
    "df_matchups[\"Team1\"] = df_matchups[\"ID\"].apply(lambda x: int(x.split(\"_\")[1]))\n",
    "df_matchups[\"Team2\"] = df_matchups[\"ID\"].apply(lambda x: int(x.split(\"_\")[2]))\n",
    "\n",
    "print(df_matchups.head())\n"
   ]
  },
  {
   "cell_type": "code",
   "execution_count": 9,
   "id": "2a79176f",
   "metadata": {
    "execution": {
     "iopub.execute_input": "2025-02-17T09:37:52.962262Z",
     "iopub.status.busy": "2025-02-17T09:37:52.961900Z",
     "iopub.status.idle": "2025-02-17T09:37:53.464396Z",
     "shell.execute_reply": "2025-02-17T09:37:53.462953Z"
    },
    "papermill": {
     "duration": 0.50976,
     "end_time": "2025-02-17T09:37:53.466175",
     "exception": false,
     "start_time": "2025-02-17T09:37:52.956415",
     "status": "completed"
    },
    "tags": []
   },
   "outputs": [
    {
     "name": "stdout",
     "output_type": "stream",
     "text": [
      "               ID  Pred  Season  Team1  Team2  Seed1  Seed2  WinRatio1  \\\n",
      "0  2021_1101_1102   0.5    2021   1101   1102   14.0    NaN   0.466238   \n",
      "1  2021_1101_1103   0.5    2021   1101   1103   14.0    NaN   0.466238   \n",
      "2  2021_1101_1104   0.5    2021   1101   1104   14.0    2.0   0.466238   \n",
      "3  2021_1101_1105   0.5    2021   1101   1105   14.0    NaN   0.466238   \n",
      "4  2021_1101_1106   0.5    2021   1101   1106   14.0    NaN   0.466238   \n",
      "\n",
      "   WinRatio2  SeedDiff  WinRatioDiff  \n",
      "0   0.359091       NaN      0.107147  \n",
      "1   0.585261       NaN     -0.119023  \n",
      "2   0.630781      12.0     -0.164544  \n",
      "3   0.348703       NaN      0.117535  \n",
      "4   0.420671       NaN      0.045567  \n"
     ]
    }
   ],
   "source": [
    "# Merge Seed Numbers\n",
    "df_matchups = df_matchups.merge(df_seeds_m, left_on=[\"Season\", \"Team1\"], right_on=[\"Season\", \"TeamID\"], how=\"left\").rename(columns={\"SeedNumber\": \"Seed1\"}).drop(columns=[\"TeamID\"])\n",
    "df_matchups = df_matchups.merge(df_seeds_m, left_on=[\"Season\", \"Team2\"], right_on=[\"Season\", \"TeamID\"], how=\"left\").rename(columns={\"SeedNumber\": \"Seed2\"}).drop(columns=[\"TeamID\"])\n",
    "\n",
    "# Merge Win Ratios\n",
    "df_matchups = df_matchups.merge(df_win_ratio, left_on=\"Team1\", right_on=\"TeamID\", how=\"left\").rename(columns={\"WinRatio\": \"WinRatio1\"}).drop(columns=[\"TeamID\"])\n",
    "df_matchups = df_matchups.merge(df_win_ratio, left_on=\"Team2\", right_on=\"TeamID\", how=\"left\").rename(columns={\"WinRatio\": \"WinRatio2\"}).drop(columns=[\"TeamID\"])\n",
    "\n",
    "# Compute Seed & Win Ratio Differences\n",
    "df_matchups[\"SeedDiff\"] = df_matchups[\"Seed1\"] - df_matchups[\"Seed2\"]\n",
    "df_matchups[\"WinRatioDiff\"] = df_matchups[\"WinRatio1\"] - df_matchups[\"WinRatio2\"]\n",
    "\n",
    "print(df_matchups.head())\n"
   ]
  },
  {
   "cell_type": "code",
   "execution_count": 10,
   "id": "bbb98cb1",
   "metadata": {
    "execution": {
     "iopub.execute_input": "2025-02-17T09:37:53.476838Z",
     "iopub.status.busy": "2025-02-17T09:37:53.476434Z",
     "iopub.status.idle": "2025-02-17T09:37:53.505016Z",
     "shell.execute_reply": "2025-02-17T09:37:53.503575Z"
    },
    "papermill": {
     "duration": 0.035697,
     "end_time": "2025-02-17T09:37:53.506985",
     "exception": false,
     "start_time": "2025-02-17T09:37:53.471288",
     "status": "completed"
    },
    "tags": []
   },
   "outputs": [
    {
     "name": "stdout",
     "output_type": "stream",
     "text": [
      "   SeedDiff  WinRatioDiff\n",
      "0         1      0.036668\n",
      "1         5     -0.121041\n",
      "2       -15      0.159391\n",
      "3         1      0.001428\n",
      "4       -11      0.232427 0    1\n",
      "1    1\n",
      "2    1\n",
      "3    1\n",
      "4    1\n",
      "Name: Winner, dtype: int64\n"
     ]
    }
   ],
   "source": [
    "# Prepare Training Data: Create target variable\n",
    "df_tourney_m[\"Winner\"] = (df_tourney_m[\"WTeamID\"] < df_tourney_m[\"LTeamID\"]).astype(int)\n",
    "\n",
    "# Merge Tournament Data with Features\n",
    "df_train = df_tourney_m.merge(df_seeds_m, left_on=[\"Season\", \"WTeamID\"], right_on=[\"Season\", \"TeamID\"], how=\"left\").rename(columns={\"SeedNumber\": \"Seed1\"}).drop(columns=[\"TeamID\"])\n",
    "df_train = df_train.merge(df_seeds_m, left_on=[\"Season\", \"LTeamID\"], right_on=[\"Season\", \"TeamID\"], how=\"left\").rename(columns={\"SeedNumber\": \"Seed2\"}).drop(columns=[\"TeamID\"])\n",
    "\n",
    "df_train = df_train.merge(df_win_ratio, left_on=\"WTeamID\", right_on=\"TeamID\", how=\"left\").rename(columns={\"WinRatio\": \"WinRatio1\"}).drop(columns=[\"TeamID\"])\n",
    "df_train = df_train.merge(df_win_ratio, left_on=\"LTeamID\", right_on=\"TeamID\", how=\"left\").rename(columns={\"WinRatio\": \"WinRatio2\"}).drop(columns=[\"TeamID\"])\n",
    "\n",
    "# Compute Seed & Win Ratio Differences\n",
    "df_train[\"SeedDiff\"] = df_train[\"Seed1\"] - df_train[\"Seed2\"]\n",
    "df_train[\"WinRatioDiff\"] = df_train[\"WinRatio1\"] - df_train[\"WinRatio2\"]\n",
    "\n",
    "# X (features) and y (target)\n",
    "X_train = df_train[[\"SeedDiff\", \"WinRatioDiff\"]]\n",
    "y_train = df_train[\"Winner\"]\n",
    "\n",
    "print(X_train.head(), y_train.head())\n"
   ]
  },
  {
   "cell_type": "code",
   "execution_count": 11,
   "id": "edfd7628",
   "metadata": {
    "execution": {
     "iopub.execute_input": "2025-02-17T09:37:53.516495Z",
     "iopub.status.busy": "2025-02-17T09:37:53.516114Z",
     "iopub.status.idle": "2025-02-17T09:37:56.267187Z",
     "shell.execute_reply": "2025-02-17T09:37:56.265627Z"
    },
    "papermill": {
     "duration": 2.757859,
     "end_time": "2025-02-17T09:37:56.269019",
     "exception": false,
     "start_time": "2025-02-17T09:37:53.511160",
     "status": "completed"
    },
    "tags": []
   },
   "outputs": [
    {
     "name": "stdout",
     "output_type": "stream",
     "text": [
      "✅ Submission file saved successfully!\n"
     ]
    }
   ],
   "source": [
    "import xgboost as xgb\n",
    "\n",
    "# Define XGBoost Model\n",
    "model = xgb.XGBClassifier(n_estimators=500, learning_rate=0.05, max_depth=5)\n",
    "\n",
    "# Train the model\n",
    "model.fit(X_train, y_train)\n",
    "\n",
    "# Predict on Kaggle Matchups\n",
    "X_test = df_matchups[[\"SeedDiff\", \"WinRatioDiff\"]]\n",
    "df_matchups[\"Pred\"] = model.predict_proba(X_test)[:, 1]\n",
    "\n",
    "# Save Submission File\n",
    "df_matchups[[\"ID\", \"Pred\"]].to_csv(\"submission.csv\", index=False)\n",
    "\n",
    "print(\"✅ Submission file saved successfully!\")\n"
   ]
  },
  {
   "cell_type": "code",
   "execution_count": null,
   "id": "a9a8156b",
   "metadata": {
    "papermill": {
     "duration": 0.003831,
     "end_time": "2025-02-17T09:37:56.277093",
     "exception": false,
     "start_time": "2025-02-17T09:37:56.273262",
     "status": "completed"
    },
    "tags": []
   },
   "outputs": [],
   "source": []
  }
 ],
 "metadata": {
  "kaggle": {
   "accelerator": "none",
   "dataSources": [
    {
     "databundleVersionId": 11018643,
     "sourceId": 91497,
     "sourceType": "competition"
    }
   ],
   "dockerImageVersionId": 30886,
   "isGpuEnabled": false,
   "isInternetEnabled": true,
   "language": "python",
   "sourceType": "notebook"
  },
  "kernelspec": {
   "display_name": "Python 3",
   "language": "python",
   "name": "python3"
  },
  "language_info": {
   "codemirror_mode": {
    "name": "ipython",
    "version": 3
   },
   "file_extension": ".py",
   "mimetype": "text/x-python",
   "name": "python",
   "nbconvert_exporter": "python",
   "pygments_lexer": "ipython3",
   "version": "3.10.12"
  },
  "papermill": {
   "default_parameters": {},
   "duration": 17.989081,
   "end_time": "2025-02-17T09:37:57.207901",
   "environment_variables": {},
   "exception": null,
   "input_path": "__notebook__.ipynb",
   "output_path": "__notebook__.ipynb",
   "parameters": {},
   "start_time": "2025-02-17T09:37:39.218820",
   "version": "2.6.0"
  }
 },
 "nbformat": 4,
 "nbformat_minor": 5
}
