{
 "cells": [
  {
   "cell_type": "code",
   "execution_count": 1,
   "id": "76b25a37",
   "metadata": {
    "_cell_guid": "b1076dfc-b9ad-4769-8c92-a6c4dae69d19",
    "_uuid": "8f2839f25d086af736a60e9eeb907d3b93b6e0e5",
    "execution": {
     "iopub.execute_input": "2025-03-04T16:25:30.563228Z",
     "iopub.status.busy": "2025-03-04T16:25:30.562846Z",
     "iopub.status.idle": "2025-03-04T16:25:48.988750Z",
     "shell.execute_reply": "2025-03-04T16:25:48.987101Z"
    },
    "papermill": {
     "duration": 18.432687,
     "end_time": "2025-03-04T16:25:48.990724",
     "exception": false,
     "start_time": "2025-03-04T16:25:30.558037",
     "status": "completed"
    },
    "tags": []
   },
   "outputs": [],
   "source": [
    "import pandas as pd\n",
    "import numpy as np\n",
    "import matplotlib.pyplot as plt\n",
    "import seaborn as sns\n",
    "import tensorflow as tf\n",
    "from tensorflow.keras.models import Model\n",
    "from tensorflow.keras.layers import Input, Embedding, Conv1D, BatchNormalization, Dropout\n",
    "import os\n",
    "from tensorflow.keras.preprocessing.sequence import pad_sequences\n",
    "from tensorflow.keras.callbacks import EarlyStopping\n",
    "np.random.seed(42)\n",
    "tf.random.set_seed(42)"
   ]
  },
  {
   "cell_type": "code",
   "execution_count": 2,
   "id": "64a80511",
   "metadata": {
    "execution": {
     "iopub.execute_input": "2025-03-04T16:25:48.998707Z",
     "iopub.status.busy": "2025-03-04T16:25:48.998069Z",
     "iopub.status.idle": "2025-03-04T16:25:49.336204Z",
     "shell.execute_reply": "2025-03-04T16:25:49.335348Z"
    },
    "papermill": {
     "duration": 0.343389,
     "end_time": "2025-03-04T16:25:49.337729",
     "exception": false,
     "start_time": "2025-03-04T16:25:48.994340",
     "status": "completed"
    },
    "tags": []
   },
   "outputs": [],
   "source": [
    "train_seq = pd.read_csv(\"/kaggle/input/stanford-rna-3d-folding/test_sequences.csv\")\n",
    "train_lab = pd.read_csv(\"/kaggle/input/stanford-rna-3d-folding/train_labels.csv\")\n",
    "test_seq = pd.read_csv(\"/kaggle/input/stanford-rna-3d-folding/test_sequences.csv\")\n",
    "val_lab = pd.read_csv(\"/kaggle/input/stanford-rna-3d-folding/validation_labels.csv\")\n",
    "val_seq = pd.read_csv(\"/kaggle/input/stanford-rna-3d-folding/validation_sequences.csv\")\n",
    "sub_sample = pd.read_csv(\"/kaggle/input/stanford-rna-3d-folding/sample_submission.csv\")\n",
    "\n"
   ]
  },
  {
   "cell_type": "code",
   "execution_count": 3,
   "id": "d3bd185e",
   "metadata": {
    "execution": {
     "iopub.execute_input": "2025-03-04T16:25:49.344491Z",
     "iopub.status.busy": "2025-03-04T16:25:49.344110Z",
     "iopub.status.idle": "2025-03-04T16:25:49.410819Z",
     "shell.execute_reply": "2025-03-04T16:25:49.409447Z"
    },
    "papermill": {
     "duration": 0.071524,
     "end_time": "2025-03-04T16:25:49.412294",
     "exception": false,
     "start_time": "2025-03-04T16:25:49.340770",
     "status": "completed"
    },
    "tags": []
   },
   "outputs": [
    {
     "name": "stdout",
     "output_type": "stream",
     "text": [
      "DataFrame 1 Info:\n",
      "<class 'pandas.core.frame.DataFrame'>\n",
      "RangeIndex: 12 entries, 0 to 11\n",
      "Data columns (total 5 columns):\n",
      " #   Column           Non-Null Count  Dtype \n",
      "---  ------           --------------  ----- \n",
      " 0   target_id        12 non-null     object\n",
      " 1   sequence         12 non-null     object\n",
      " 2   temporal_cutoff  12 non-null     object\n",
      " 3   description      12 non-null     object\n",
      " 4   all_sequences    12 non-null     object\n",
      "dtypes: object(5)\n",
      "memory usage: 608.0+ bytes\n",
      "None\n",
      "\n",
      "==================================================\n",
      "\n",
      "DataFrame 2 Info:\n",
      "<class 'pandas.core.frame.DataFrame'>\n",
      "RangeIndex: 137095 entries, 0 to 137094\n",
      "Data columns (total 6 columns):\n",
      " #   Column   Non-Null Count   Dtype  \n",
      "---  ------   --------------   -----  \n",
      " 0   ID       137095 non-null  object \n",
      " 1   resname  137095 non-null  object \n",
      " 2   resid    137095 non-null  int64  \n",
      " 3   x_1      130950 non-null  float64\n",
      " 4   y_1      130950 non-null  float64\n",
      " 5   z_1      130950 non-null  float64\n",
      "dtypes: float64(3), int64(1), object(2)\n",
      "memory usage: 6.3+ MB\n",
      "None\n",
      "\n",
      "==================================================\n",
      "\n",
      "DataFrame 3 Info:\n",
      "<class 'pandas.core.frame.DataFrame'>\n",
      "RangeIndex: 12 entries, 0 to 11\n",
      "Data columns (total 5 columns):\n",
      " #   Column           Non-Null Count  Dtype \n",
      "---  ------           --------------  ----- \n",
      " 0   target_id        12 non-null     object\n",
      " 1   sequence         12 non-null     object\n",
      " 2   temporal_cutoff  12 non-null     object\n",
      " 3   description      12 non-null     object\n",
      " 4   all_sequences    12 non-null     object\n",
      "dtypes: object(5)\n",
      "memory usage: 608.0+ bytes\n",
      "None\n",
      "\n",
      "==================================================\n",
      "\n",
      "DataFrame 4 Info:\n",
      "<class 'pandas.core.frame.DataFrame'>\n",
      "RangeIndex: 2515 entries, 0 to 2514\n",
      "Columns: 123 entries, ID to z_40\n",
      "dtypes: float64(120), int64(1), object(2)\n",
      "memory usage: 2.4+ MB\n",
      "None\n",
      "\n",
      "==================================================\n",
      "\n",
      "DataFrame 5 Info:\n",
      "<class 'pandas.core.frame.DataFrame'>\n",
      "RangeIndex: 12 entries, 0 to 11\n",
      "Data columns (total 5 columns):\n",
      " #   Column           Non-Null Count  Dtype \n",
      "---  ------           --------------  ----- \n",
      " 0   target_id        12 non-null     object\n",
      " 1   sequence         12 non-null     object\n",
      " 2   temporal_cutoff  12 non-null     object\n",
      " 3   description      12 non-null     object\n",
      " 4   all_sequences    12 non-null     object\n",
      "dtypes: object(5)\n",
      "memory usage: 608.0+ bytes\n",
      "None\n",
      "\n",
      "==================================================\n",
      "\n",
      "DataFrame 6 Info:\n",
      "<class 'pandas.core.frame.DataFrame'>\n",
      "RangeIndex: 2515 entries, 0 to 2514\n",
      "Data columns (total 18 columns):\n",
      " #   Column   Non-Null Count  Dtype  \n",
      "---  ------   --------------  -----  \n",
      " 0   ID       2515 non-null   object \n",
      " 1   resname  2515 non-null   object \n",
      " 2   resid    2515 non-null   int64  \n",
      " 3   x_1      2515 non-null   float64\n",
      " 4   y_1      2515 non-null   float64\n",
      " 5   z_1      2515 non-null   float64\n",
      " 6   x_2      2515 non-null   float64\n",
      " 7   y_2      2515 non-null   float64\n",
      " 8   z_2      2515 non-null   float64\n",
      " 9   x_3      2515 non-null   float64\n",
      " 10  y_3      2515 non-null   float64\n",
      " 11  z_3      2515 non-null   float64\n",
      " 12  x_4      2515 non-null   float64\n",
      " 13  y_4      2515 non-null   float64\n",
      " 14  z_4      2515 non-null   float64\n",
      " 15  x_5      2515 non-null   float64\n",
      " 16  y_5      2515 non-null   float64\n",
      " 17  z_5      2515 non-null   float64\n",
      "dtypes: float64(15), int64(1), object(2)\n",
      "memory usage: 353.8+ KB\n",
      "None\n",
      "\n",
      "==================================================\n",
      "\n"
     ]
    }
   ],
   "source": [
    "dfs = [train_seq, train_lab, test_seq, val_lab, val_seq, sub_sample]\n",
    "\n",
    "for i, df in enumerate(dfs):\n",
    "    print(f\"DataFrame {i+1} Info:\")\n",
    "    print(df.info())\n",
    "    print(\"\\n\" + \"=\"*50 + \"\\n\")\n"
   ]
  },
  {
   "cell_type": "code",
   "execution_count": 4,
   "id": "6837e156",
   "metadata": {
    "execution": {
     "iopub.execute_input": "2025-03-04T16:25:49.420863Z",
     "iopub.status.busy": "2025-03-04T16:25:49.420502Z",
     "iopub.status.idle": "2025-03-04T16:25:49.438906Z",
     "shell.execute_reply": "2025-03-04T16:25:49.437567Z"
    },
    "papermill": {
     "duration": 0.025411,
     "end_time": "2025-03-04T16:25:49.440941",
     "exception": false,
     "start_time": "2025-03-04T16:25:49.415530",
     "status": "completed"
    },
    "tags": []
   },
   "outputs": [
    {
     "data": {
      "text/plain": [
       "ID            0\n",
       "resname       0\n",
       "resid         0\n",
       "x_1        6145\n",
       "y_1        6145\n",
       "z_1        6145\n",
       "dtype: int64"
      ]
     },
     "execution_count": 4,
     "metadata": {},
     "output_type": "execute_result"
    }
   ],
   "source": [
    "train_lab.isnull().sum()"
   ]
  },
  {
   "cell_type": "code",
   "execution_count": 5,
   "id": "8140ad0f",
   "metadata": {
    "execution": {
     "iopub.execute_input": "2025-03-04T16:25:49.448941Z",
     "iopub.status.busy": "2025-03-04T16:25:49.448574Z",
     "iopub.status.idle": "2025-03-04T16:25:49.471026Z",
     "shell.execute_reply": "2025-03-04T16:25:49.470155Z"
    },
    "papermill": {
     "duration": 0.027662,
     "end_time": "2025-03-04T16:25:49.472341",
     "exception": false,
     "start_time": "2025-03-04T16:25:49.444679",
     "status": "completed"
    },
    "tags": []
   },
   "outputs": [
    {
     "data": {
      "text/html": [
       "<div>\n",
       "<style scoped>\n",
       "    .dataframe tbody tr th:only-of-type {\n",
       "        vertical-align: middle;\n",
       "    }\n",
       "\n",
       "    .dataframe tbody tr th {\n",
       "        vertical-align: top;\n",
       "    }\n",
       "\n",
       "    .dataframe thead th {\n",
       "        text-align: right;\n",
       "    }\n",
       "</style>\n",
       "<table border=\"1\" class=\"dataframe\">\n",
       "  <thead>\n",
       "    <tr style=\"text-align: right;\">\n",
       "      <th></th>\n",
       "      <th>ID</th>\n",
       "      <th>resname</th>\n",
       "      <th>resid</th>\n",
       "      <th>x_1</th>\n",
       "      <th>y_1</th>\n",
       "      <th>z_1</th>\n",
       "    </tr>\n",
       "  </thead>\n",
       "  <tbody>\n",
       "    <tr>\n",
       "      <th>0</th>\n",
       "      <td>1SCL_A_1</td>\n",
       "      <td>G</td>\n",
       "      <td>1</td>\n",
       "      <td>13.760</td>\n",
       "      <td>-25.974001</td>\n",
       "      <td>0.102</td>\n",
       "    </tr>\n",
       "    <tr>\n",
       "      <th>1</th>\n",
       "      <td>1SCL_A_2</td>\n",
       "      <td>G</td>\n",
       "      <td>2</td>\n",
       "      <td>9.310</td>\n",
       "      <td>-29.638000</td>\n",
       "      <td>2.669</td>\n",
       "    </tr>\n",
       "    <tr>\n",
       "      <th>2</th>\n",
       "      <td>1SCL_A_3</td>\n",
       "      <td>G</td>\n",
       "      <td>3</td>\n",
       "      <td>5.529</td>\n",
       "      <td>-27.813000</td>\n",
       "      <td>5.878</td>\n",
       "    </tr>\n",
       "    <tr>\n",
       "      <th>3</th>\n",
       "      <td>1SCL_A_4</td>\n",
       "      <td>U</td>\n",
       "      <td>4</td>\n",
       "      <td>2.678</td>\n",
       "      <td>-24.900999</td>\n",
       "      <td>9.793</td>\n",
       "    </tr>\n",
       "    <tr>\n",
       "      <th>4</th>\n",
       "      <td>1SCL_A_5</td>\n",
       "      <td>G</td>\n",
       "      <td>5</td>\n",
       "      <td>1.827</td>\n",
       "      <td>-20.136000</td>\n",
       "      <td>11.793</td>\n",
       "    </tr>\n",
       "  </tbody>\n",
       "</table>\n",
       "</div>"
      ],
      "text/plain": [
       "         ID resname  resid     x_1        y_1     z_1\n",
       "0  1SCL_A_1       G      1  13.760 -25.974001   0.102\n",
       "1  1SCL_A_2       G      2   9.310 -29.638000   2.669\n",
       "2  1SCL_A_3       G      3   5.529 -27.813000   5.878\n",
       "3  1SCL_A_4       U      4   2.678 -24.900999   9.793\n",
       "4  1SCL_A_5       G      5   1.827 -20.136000  11.793"
      ]
     },
     "execution_count": 5,
     "metadata": {},
     "output_type": "execute_result"
    }
   ],
   "source": [
    "train_lab.head()"
   ]
  },
  {
   "cell_type": "code",
   "execution_count": 6,
   "id": "e142ccff",
   "metadata": {
    "execution": {
     "iopub.execute_input": "2025-03-04T16:25:49.482256Z",
     "iopub.status.busy": "2025-03-04T16:25:49.481837Z",
     "iopub.status.idle": "2025-03-04T16:25:49.515215Z",
     "shell.execute_reply": "2025-03-04T16:25:49.513837Z"
    },
    "papermill": {
     "duration": 0.04065,
     "end_time": "2025-03-04T16:25:49.517113",
     "exception": false,
     "start_time": "2025-03-04T16:25:49.476463",
     "status": "completed"
    },
    "tags": []
   },
   "outputs": [
    {
     "name": "stdout",
     "output_type": "stream",
     "text": [
      "DataFrame 1 Info:\n",
      "  target_id                                           sequence  \\\n",
      "0     R1107  GGGGGCCACAGCAGAAGCGUUCACGUCGCAGCCCCUGUCAGCCAUU...   \n",
      "1     R1108  GGGGGCCACAGCAGAAGCGUUCACGUCGCGGCCCCUGUCAGCCAUU...   \n",
      "2     R1116  CGCCCGGAUAGCUCAGUCGGUAGAGCAGCGGCUAAAACAGCUCUGG...   \n",
      "3   R1117v2                     UUGGGUUCCCUCACCCCAAUCAUAAAAAGG   \n",
      "4     R1126  GGAAUCUCGCCCGAUGUUCGCAUCGGGAUUUGCAGGUCCAUGGAUU...   \n",
      "\n",
      "  temporal_cutoff                                        description  \\\n",
      "0      2022-05-28  CPEB3 ribozyme\\nHuman\\nhuman CPEB3 HDV-like ri...   \n",
      "1      2022-05-27  CPEB3 ribozyme\\nChimpanzee\\nChimpanzee CPEB3 H...   \n",
      "2      2022-06-04  Cloverleaf RNA\\nPoliovirus\\nCrystal Structure ...   \n",
      "3      2022-06-03  PreQ1 class I type III riboswitch\\nK. pneumoni...   \n",
      "4      2022-06-11  Traptamer\\nSynthetic\\nAdditional Information: ...   \n",
      "\n",
      "                                       all_sequences  \n",
      "0  >7QR4_1|Chain A|U1 small nuclear ribonucleopro...  \n",
      "1  >7QR3_1|Chains A, B|U1 small nuclear ribonucle...  \n",
      "2  >8S95_1|Chain A[auth C]|Lysine tRNA scaffold,P...  \n",
      "3  >8FZA_1|Chains A, B|PreQ1 Riboswitch (30-MER)|...  \n",
      "4  >8TVZ_1|Chain A[auth C]|RNA (363-MER)|syntheti...  \n",
      "\n",
      "==================================================\n",
      "\n",
      "DataFrame 2 Info:\n",
      "         ID resname  resid     x_1        y_1     z_1\n",
      "0  1SCL_A_1       G      1  13.760 -25.974001   0.102\n",
      "1  1SCL_A_2       G      2   9.310 -29.638000   2.669\n",
      "2  1SCL_A_3       G      3   5.529 -27.813000   5.878\n",
      "3  1SCL_A_4       U      4   2.678 -24.900999   9.793\n",
      "4  1SCL_A_5       G      5   1.827 -20.136000  11.793\n",
      "\n",
      "==================================================\n",
      "\n",
      "DataFrame 3 Info:\n",
      "  target_id                                           sequence  \\\n",
      "0     R1107  GGGGGCCACAGCAGAAGCGUUCACGUCGCAGCCCCUGUCAGCCAUU...   \n",
      "1     R1108  GGGGGCCACAGCAGAAGCGUUCACGUCGCGGCCCCUGUCAGCCAUU...   \n",
      "2     R1116  CGCCCGGAUAGCUCAGUCGGUAGAGCAGCGGCUAAAACAGCUCUGG...   \n",
      "3   R1117v2                     UUGGGUUCCCUCACCCCAAUCAUAAAAAGG   \n",
      "4     R1126  GGAAUCUCGCCCGAUGUUCGCAUCGGGAUUUGCAGGUCCAUGGAUU...   \n",
      "\n",
      "  temporal_cutoff                                        description  \\\n",
      "0      2022-05-28  CPEB3 ribozyme\\nHuman\\nhuman CPEB3 HDV-like ri...   \n",
      "1      2022-05-27  CPEB3 ribozyme\\nChimpanzee\\nChimpanzee CPEB3 H...   \n",
      "2      2022-06-04  Cloverleaf RNA\\nPoliovirus\\nCrystal Structure ...   \n",
      "3      2022-06-03  PreQ1 class I type III riboswitch\\nK. pneumoni...   \n",
      "4      2022-06-11  Traptamer\\nSynthetic\\nAdditional Information: ...   \n",
      "\n",
      "                                       all_sequences  \n",
      "0  >7QR4_1|Chain A|U1 small nuclear ribonucleopro...  \n",
      "1  >7QR3_1|Chains A, B|U1 small nuclear ribonucle...  \n",
      "2  >8S95_1|Chain A[auth C]|Lysine tRNA scaffold,P...  \n",
      "3  >8FZA_1|Chains A, B|PreQ1 Riboswitch (30-MER)|...  \n",
      "4  >8TVZ_1|Chain A[auth C]|RNA (363-MER)|syntheti...  \n",
      "\n",
      "==================================================\n",
      "\n",
      "DataFrame 4 Info:\n",
      "        ID resname  resid    x_1        y_1        z_1           x_2  \\\n",
      "0  R1107_1       G      1 -5.499   8.520000   8.605000 -1.000000e+18   \n",
      "1  R1107_2       G      2 -5.826  10.453000  14.010000 -1.000000e+18   \n",
      "2  R1107_3       G      3 -5.849  14.768000  17.584999 -1.000000e+18   \n",
      "3  R1107_4       G      4 -5.784  19.985001  18.666000 -1.000000e+18   \n",
      "4  R1107_5       G      5 -5.755  25.533001  17.132999 -1.000000e+18   \n",
      "\n",
      "            y_2           z_2           x_3  ...          z_37          x_38  \\\n",
      "0 -1.000000e+18 -1.000000e+18 -1.000000e+18  ... -1.000000e+18 -1.000000e+18   \n",
      "1 -1.000000e+18 -1.000000e+18 -1.000000e+18  ... -1.000000e+18 -1.000000e+18   \n",
      "2 -1.000000e+18 -1.000000e+18 -1.000000e+18  ... -1.000000e+18 -1.000000e+18   \n",
      "3 -1.000000e+18 -1.000000e+18 -1.000000e+18  ... -1.000000e+18 -1.000000e+18   \n",
      "4 -1.000000e+18 -1.000000e+18 -1.000000e+18  ... -1.000000e+18 -1.000000e+18   \n",
      "\n",
      "           y_38          z_38          x_39          y_39          z_39  \\\n",
      "0 -1.000000e+18 -1.000000e+18 -1.000000e+18 -1.000000e+18 -1.000000e+18   \n",
      "1 -1.000000e+18 -1.000000e+18 -1.000000e+18 -1.000000e+18 -1.000000e+18   \n",
      "2 -1.000000e+18 -1.000000e+18 -1.000000e+18 -1.000000e+18 -1.000000e+18   \n",
      "3 -1.000000e+18 -1.000000e+18 -1.000000e+18 -1.000000e+18 -1.000000e+18   \n",
      "4 -1.000000e+18 -1.000000e+18 -1.000000e+18 -1.000000e+18 -1.000000e+18   \n",
      "\n",
      "           x_40          y_40          z_40  \n",
      "0 -1.000000e+18 -1.000000e+18 -1.000000e+18  \n",
      "1 -1.000000e+18 -1.000000e+18 -1.000000e+18  \n",
      "2 -1.000000e+18 -1.000000e+18 -1.000000e+18  \n",
      "3 -1.000000e+18 -1.000000e+18 -1.000000e+18  \n",
      "4 -1.000000e+18 -1.000000e+18 -1.000000e+18  \n",
      "\n",
      "[5 rows x 123 columns]\n",
      "\n",
      "==================================================\n",
      "\n",
      "DataFrame 5 Info:\n",
      "  target_id                                           sequence  \\\n",
      "0     R1107  GGGGGCCACAGCAGAAGCGUUCACGUCGCAGCCCCUGUCAGCCAUU...   \n",
      "1     R1108  GGGGGCCACAGCAGAAGCGUUCACGUCGCGGCCCCUGUCAGCCAUU...   \n",
      "2     R1116  CGCCCGGAUAGCUCAGUCGGUAGAGCAGCGGCUAAAACAGCUCUGG...   \n",
      "3   R1117v2                     UUGGGUUCCCUCACCCCAAUCAUAAAAAGG   \n",
      "4     R1126  GGAAUCUCGCCCGAUGUUCGCAUCGGGAUUUGCAGGUCCAUGGAUU...   \n",
      "\n",
      "  temporal_cutoff                                        description  \\\n",
      "0      2022-05-28  CPEB3 ribozyme\\nHuman\\nhuman CPEB3 HDV-like ri...   \n",
      "1      2022-05-27  CPEB3 ribozyme\\nChimpanzee\\nChimpanzee CPEB3 H...   \n",
      "2      2022-06-04  Cloverleaf RNA\\nPoliovirus\\nCrystal Structure ...   \n",
      "3      2022-06-03  PreQ1 class I type III riboswitch\\nK. pneumoni...   \n",
      "4      2022-06-11  Traptamer\\nSynthetic\\nAdditional Information: ...   \n",
      "\n",
      "                                       all_sequences  \n",
      "0  >7QR4_1|Chain A|U1 small nuclear ribonucleopro...  \n",
      "1  >7QR3_1|Chains A, B|U1 small nuclear ribonucle...  \n",
      "2  >8S95_1|Chain A[auth C]|Lysine tRNA scaffold,P...  \n",
      "3  >8FZA_1|Chains A, B|PreQ1 Riboswitch (30-MER)|...  \n",
      "4  >8TVZ_1|Chain A[auth C]|RNA (363-MER)|syntheti...  \n",
      "\n",
      "==================================================\n",
      "\n",
      "DataFrame 6 Info:\n",
      "        ID resname  resid  x_1  y_1  z_1  x_2  y_2  z_2  x_3  y_3  z_3  x_4  \\\n",
      "0  R1107_1       G      1  0.0  0.0  0.0  0.0  0.0  0.0  0.0  0.0  0.0  0.0   \n",
      "1  R1107_2       G      2  0.0  0.0  0.0  0.0  0.0  0.0  0.0  0.0  0.0  0.0   \n",
      "2  R1107_3       G      3  0.0  0.0  0.0  0.0  0.0  0.0  0.0  0.0  0.0  0.0   \n",
      "3  R1107_4       G      4  0.0  0.0  0.0  0.0  0.0  0.0  0.0  0.0  0.0  0.0   \n",
      "4  R1107_5       G      5  0.0  0.0  0.0  0.0  0.0  0.0  0.0  0.0  0.0  0.0   \n",
      "\n",
      "   y_4  z_4  x_5  y_5  z_5  \n",
      "0  0.0  0.0  0.0  0.0  0.0  \n",
      "1  0.0  0.0  0.0  0.0  0.0  \n",
      "2  0.0  0.0  0.0  0.0  0.0  \n",
      "3  0.0  0.0  0.0  0.0  0.0  \n",
      "4  0.0  0.0  0.0  0.0  0.0  \n",
      "\n",
      "==================================================\n",
      "\n"
     ]
    }
   ],
   "source": [
    "for i, df in enumerate(dfs):\n",
    "    print(f\"DataFrame {i+1} Info:\")\n",
    "    print(df.head())\n",
    "    print(\"\\n\" + \"=\"*50 + \"\\n\")\n"
   ]
  },
  {
   "cell_type": "code",
   "execution_count": 7,
   "id": "1cf8aa21",
   "metadata": {
    "execution": {
     "iopub.execute_input": "2025-03-04T16:25:49.526056Z",
     "iopub.status.busy": "2025-03-04T16:25:49.525589Z",
     "iopub.status.idle": "2025-03-04T16:25:49.548652Z",
     "shell.execute_reply": "2025-03-04T16:25:49.547854Z"
    },
    "papermill": {
     "duration": 0.029717,
     "end_time": "2025-03-04T16:25:49.550776",
     "exception": false,
     "start_time": "2025-03-04T16:25:49.521059",
     "status": "completed"
    },
    "tags": []
   },
   "outputs": [
    {
     "name": "stdout",
     "output_type": "stream",
     "text": [
      "DataFrame 1 Missing Values:\n",
      "target_id          0\n",
      "sequence           0\n",
      "temporal_cutoff    0\n",
      "description        0\n",
      "all_sequences      0\n",
      "dtype: int64\n",
      "\n",
      "==================================================\n",
      "\n",
      "DataFrame 2 Missing Values:\n",
      "ID            0\n",
      "resname       0\n",
      "resid         0\n",
      "x_1        6145\n",
      "y_1        6145\n",
      "z_1        6145\n",
      "dtype: int64\n",
      "\n",
      "==================================================\n",
      "\n",
      "DataFrame 3 Missing Values:\n",
      "target_id          0\n",
      "sequence           0\n",
      "temporal_cutoff    0\n",
      "description        0\n",
      "all_sequences      0\n",
      "dtype: int64\n",
      "\n",
      "==================================================\n",
      "\n",
      "DataFrame 4 Missing Values:\n",
      "ID         0\n",
      "resname    0\n",
      "resid      0\n",
      "x_1        0\n",
      "y_1        0\n",
      "          ..\n",
      "y_39       0\n",
      "z_39       0\n",
      "x_40       0\n",
      "y_40       0\n",
      "z_40       0\n",
      "Length: 123, dtype: int64\n",
      "\n",
      "==================================================\n",
      "\n",
      "DataFrame 5 Missing Values:\n",
      "target_id          0\n",
      "sequence           0\n",
      "temporal_cutoff    0\n",
      "description        0\n",
      "all_sequences      0\n",
      "dtype: int64\n",
      "\n",
      "==================================================\n",
      "\n",
      "DataFrame 6 Missing Values:\n",
      "ID         0\n",
      "resname    0\n",
      "resid      0\n",
      "x_1        0\n",
      "y_1        0\n",
      "z_1        0\n",
      "x_2        0\n",
      "y_2        0\n",
      "z_2        0\n",
      "x_3        0\n",
      "y_3        0\n",
      "z_3        0\n",
      "x_4        0\n",
      "y_4        0\n",
      "z_4        0\n",
      "x_5        0\n",
      "y_5        0\n",
      "z_5        0\n",
      "dtype: int64\n",
      "\n",
      "==================================================\n",
      "\n"
     ]
    }
   ],
   "source": [
    "for i, df in enumerate(dfs):\n",
    "    print(f\"DataFrame {i+1} Missing Values:\")\n",
    "    print(df.isnull().sum())  # Check for missing values\n",
    "    print(\"\\n\" + \"=\"*50 + \"\\n\")\n"
   ]
  },
  {
   "cell_type": "raw",
   "id": "be65fa75",
   "metadata": {
    "papermill": {
     "duration": 0.002949,
     "end_time": "2025-03-04T16:25:49.557662",
     "exception": false,
     "start_time": "2025-03-04T16:25:49.554713",
     "status": "completed"
    },
    "tags": []
   },
   "source": [
    "train_seq[\"sequence_length\"] = train_seq[\"sequence\"].apply(len)\n",
    "test_seq[\"sequence_length\"] = test_seq[\"sequence\"].apply(len)\n",
    "\n",
    "\n",
    "plt.figure(figsize=(10,5))\n",
    "sns.histplot(train_seq[\"sequence_length\"], bins=30, kde=True)\n",
    "plt.xlabel(\"RNA Sequence Length\")\n",
    "plt.ylabel(\"Count\")\n",
    "plt.title(\"Distribution of RNA Sequence Lengths in Training Data\")\n",
    "plt.show()\n"
   ]
  },
  {
   "cell_type": "code",
   "execution_count": 8,
   "id": "26ab36f7",
   "metadata": {
    "execution": {
     "iopub.execute_input": "2025-03-04T16:25:49.565442Z",
     "iopub.status.busy": "2025-03-04T16:25:49.565123Z",
     "iopub.status.idle": "2025-03-04T16:25:49.578832Z",
     "shell.execute_reply": "2025-03-04T16:25:49.577563Z"
    },
    "papermill": {
     "duration": 0.019832,
     "end_time": "2025-03-04T16:25:49.580794",
     "exception": false,
     "start_time": "2025-03-04T16:25:49.560962",
     "status": "completed"
    },
    "tags": []
   },
   "outputs": [],
   "source": [
    "train_lab[['x_1', 'y_1', 'z_1']] = train_lab[['x_1', 'y_1', 'z_1']].fillna(train_lab[['x_1', 'y_1', 'z_1']].median())"
   ]
  },
  {
   "cell_type": "code",
   "execution_count": 9,
   "id": "2c37687f",
   "metadata": {
    "execution": {
     "iopub.execute_input": "2025-03-04T16:25:49.589006Z",
     "iopub.status.busy": "2025-03-04T16:25:49.588647Z",
     "iopub.status.idle": "2025-03-04T16:25:49.614845Z",
     "shell.execute_reply": "2025-03-04T16:25:49.613623Z"
    },
    "papermill": {
     "duration": 0.031824,
     "end_time": "2025-03-04T16:25:49.616418",
     "exception": false,
     "start_time": "2025-03-04T16:25:49.584594",
     "status": "completed"
    },
    "tags": []
   },
   "outputs": [
    {
     "name": "stdout",
     "output_type": "stream",
     "text": [
      "DataFrame 1 Missing Values:\n",
      "target_id          0\n",
      "sequence           0\n",
      "temporal_cutoff    0\n",
      "description        0\n",
      "all_sequences      0\n",
      "dtype: int64\n",
      "\n",
      "==================================================\n",
      "\n",
      "DataFrame 2 Missing Values:\n",
      "ID         0\n",
      "resname    0\n",
      "resid      0\n",
      "x_1        0\n",
      "y_1        0\n",
      "z_1        0\n",
      "dtype: int64\n",
      "\n",
      "==================================================\n",
      "\n",
      "DataFrame 3 Missing Values:\n",
      "target_id          0\n",
      "sequence           0\n",
      "temporal_cutoff    0\n",
      "description        0\n",
      "all_sequences      0\n",
      "dtype: int64\n",
      "\n",
      "==================================================\n",
      "\n",
      "DataFrame 4 Missing Values:\n",
      "ID         0\n",
      "resname    0\n",
      "resid      0\n",
      "x_1        0\n",
      "y_1        0\n",
      "          ..\n",
      "y_39       0\n",
      "z_39       0\n",
      "x_40       0\n",
      "y_40       0\n",
      "z_40       0\n",
      "Length: 123, dtype: int64\n",
      "\n",
      "==================================================\n",
      "\n",
      "DataFrame 5 Missing Values:\n",
      "target_id          0\n",
      "sequence           0\n",
      "temporal_cutoff    0\n",
      "description        0\n",
      "all_sequences      0\n",
      "dtype: int64\n",
      "\n",
      "==================================================\n",
      "\n",
      "DataFrame 6 Missing Values:\n",
      "ID         0\n",
      "resname    0\n",
      "resid      0\n",
      "x_1        0\n",
      "y_1        0\n",
      "z_1        0\n",
      "x_2        0\n",
      "y_2        0\n",
      "z_2        0\n",
      "x_3        0\n",
      "y_3        0\n",
      "z_3        0\n",
      "x_4        0\n",
      "y_4        0\n",
      "z_4        0\n",
      "x_5        0\n",
      "y_5        0\n",
      "z_5        0\n",
      "dtype: int64\n",
      "\n",
      "==================================================\n",
      "\n"
     ]
    }
   ],
   "source": [
    "for i, df in enumerate(dfs):\n",
    "    print(f\"DataFrame {i+1} Missing Values:\")\n",
    "    print(df.isnull().sum())  # Check for missing values\n",
    "    print(\"\\n\" + \"=\"*50 + \"\\n\")"
   ]
  },
  {
   "cell_type": "code",
   "execution_count": 10,
   "id": "ce2db8e6",
   "metadata": {
    "execution": {
     "iopub.execute_input": "2025-03-04T16:25:49.625126Z",
     "iopub.status.busy": "2025-03-04T16:25:49.624750Z",
     "iopub.status.idle": "2025-03-04T16:25:50.460803Z",
     "shell.execute_reply": "2025-03-04T16:25:50.459043Z"
    },
    "papermill": {
     "duration": 0.84227,
     "end_time": "2025-03-04T16:25:50.462578",
     "exception": false,
     "start_time": "2025-03-04T16:25:49.620308",
     "status": "completed"
    },
    "tags": []
   },
   "outputs": [
    {
     "data": {
      "image/png": "[encoded data removed]",
      "text/plain": [
       "<Figure size 1000x500 with 4 Axes>"
      ]
     },
     "metadata": {},
     "output_type": "display_data"
    }
   ],
   "source": [
    "train_lab[['x_1', 'y_1', 'z_1']].hist(bins=30, figsize=(10, 5))\n",
    "plt.show()"
   ]
  },
  {
   "cell_type": "code",
   "execution_count": 11,
   "id": "69d34d22",
   "metadata": {
    "execution": {
     "iopub.execute_input": "2025-03-04T16:25:50.472053Z",
     "iopub.status.busy": "2025-03-04T16:25:50.471654Z",
     "iopub.status.idle": "2025-03-04T16:25:50.538745Z",
     "shell.execute_reply": "2025-03-04T16:25:50.537337Z"
    },
    "papermill": {
     "duration": 0.07392,
     "end_time": "2025-03-04T16:25:50.540748",
     "exception": false,
     "start_time": "2025-03-04T16:25:50.466828",
     "status": "completed"
    },
    "tags": []
   },
   "outputs": [
    {
     "name": "stdout",
     "output_type": "stream",
     "text": [
      "DataFrame 1 Duplicates:\n",
      "0\n",
      "\n",
      "==================================================\n",
      "\n",
      "DataFrame 2 Duplicates:\n",
      "0\n",
      "\n",
      "==================================================\n",
      "\n",
      "DataFrame 3 Duplicates:\n",
      "0\n",
      "\n",
      "==================================================\n",
      "\n",
      "DataFrame 4 Duplicates:\n",
      "0\n",
      "\n",
      "==================================================\n",
      "\n",
      "DataFrame 5 Duplicates:\n",
      "0\n",
      "\n",
      "==================================================\n",
      "\n",
      "DataFrame 6 Duplicates:\n",
      "0\n",
      "\n",
      "==================================================\n",
      "\n"
     ]
    }
   ],
   "source": [
    "for i, df in enumerate(dfs):\n",
    "    print(f\"DataFrame {i+1} Duplicates:\")\n",
    "    print(df.duplicated().sum())  \n",
    "    print(\"\\n\" + \"=\"*50 + \"\\n\")"
   ]
  },
  {
   "cell_type": "code",
   "execution_count": 12,
   "id": "c859afb4",
   "metadata": {
    "execution": {
     "iopub.execute_input": "2025-03-04T16:25:50.550932Z",
     "iopub.status.busy": "2025-03-04T16:25:50.550521Z",
     "iopub.status.idle": "2025-03-04T16:25:50.556779Z",
     "shell.execute_reply": "2025-03-04T16:25:50.555986Z"
    },
    "papermill": {
     "duration": 0.012615,
     "end_time": "2025-03-04T16:25:50.558187",
     "exception": false,
     "start_time": "2025-03-04T16:25:50.545572",
     "status": "completed"
    },
    "tags": []
   },
   "outputs": [],
   "source": [
    "from collections import Counter\n",
    "\n",
    "def kmer_freq(sequence, k=3):\n",
    "    kmers = [sequence[i:i+k] for i in range(len(sequence) - k + 1)]\n",
    "    return Counter(kmers)\n",
    "\n",
    "train_seq['kmer_features'] = train_seq['sequence'].apply(lambda x: kmer_freq(x, k=3))\n"
   ]
  },
  {
   "cell_type": "code",
   "execution_count": 13,
   "id": "1b8873af",
   "metadata": {
    "execution": {
     "iopub.execute_input": "2025-03-04T16:25:50.569044Z",
     "iopub.status.busy": "2025-03-04T16:25:50.568678Z",
     "iopub.status.idle": "2025-03-04T16:26:34.961914Z",
     "shell.execute_reply": "2025-03-04T16:26:34.960712Z"
    },
    "papermill": {
     "duration": 44.403872,
     "end_time": "2025-03-04T16:26:34.966620",
     "exception": false,
     "start_time": "2025-03-04T16:25:50.562748",
     "status": "completed"
    },
    "tags": []
   },
   "outputs": [
    {
     "name": "stdout",
     "output_type": "stream",
     "text": [
      "MSE: 1.9680287207608675\n"
     ]
    }
   ],
   "source": [
    "from sklearn.model_selection import train_test_split\n",
    "from sklearn.ensemble import RandomForestRegressor\n",
    "from sklearn.metrics import mean_squared_error\n",
    "\n",
    "X = train_lab.drop(columns=['ID', 'resname', 'resid'])\n",
    "y = train_lab[['x_1', 'y_1', 'z_1']]\n",
    "\n",
    "X_train, X_test, y_train, y_test = train_test_split(X, y, test_size=0.2, random_state=42)\n",
    "\n",
    "model = RandomForestRegressor(n_estimators=100, random_state=42)\n",
    "model.fit(X_train, y_train)\n",
    "\n",
    "predictions = model.predict(X_test)\n",
    "print(f'MSE: {mean_squared_error(y_test, predictions)}')\n"
   ]
  },
  {
   "cell_type": "code",
   "execution_count": 14,
   "id": "79a73acd",
   "metadata": {
    "execution": {
     "iopub.execute_input": "2025-03-04T16:26:34.975942Z",
     "iopub.status.busy": "2025-03-04T16:26:34.975559Z",
     "iopub.status.idle": "2025-03-04T16:31:49.980935Z",
     "shell.execute_reply": "2025-03-04T16:31:49.979974Z"
    },
    "papermill": {
     "duration": 315.011966,
     "end_time": "2025-03-04T16:31:49.982479",
     "exception": false,
     "start_time": "2025-03-04T16:26:34.970513",
     "status": "completed"
    },
    "tags": []
   },
   "outputs": [
    {
     "name": "stdout",
     "output_type": "stream",
     "text": [
      "Epoch 1/50\n"
     ]
    },
    {
     "name": "stderr",
     "output_type": "stream",
     "text": [
      "/usr/local/lib/python3.10/dist-packages/keras/src/layers/convolutional/base_conv.py:107: UserWarning: Do not pass an `input_shape`/`input_dim` argument to a layer. When using Sequential models, prefer using an `Input(shape)` object as the first layer in the model instead.\n",
      "  super().__init__(activity_regularizer=activity_regularizer, **kwargs)\n"
     ]
    },
    {
     "name": "stdout",
     "output_type": "stream",
     "text": [
      "\u001b[1m3428/3428\u001b[0m \u001b[32m━━━━━━━━━━━━━━━━━━━━\u001b[0m\u001b[37m\u001b[0m \u001b[1m7s\u001b[0m 2ms/step - loss: 1325.8016 - val_loss: 1206.6256\n",
      "Epoch 2/50\n",
      "\u001b[1m3428/3428\u001b[0m \u001b[32m━━━━━━━━━━━━━━━━━━━━\u001b[0m\u001b[37m\u001b[0m \u001b[1m6s\u001b[0m 2ms/step - loss: 214.0548 - val_loss: 1623.4122\n",
      "Epoch 3/50\n",
      "\u001b[1m3428/3428\u001b[0m \u001b[32m━━━━━━━━━━━━━━━━━━━━\u001b[0m\u001b[37m\u001b[0m \u001b[1m6s\u001b[0m 2ms/step - loss: 157.7924 - val_loss: 1747.1908\n",
      "Epoch 4/50\n",
      "\u001b[1m3428/3428\u001b[0m \u001b[32m━━━━━━━━━━━━━━━━━━━━\u001b[0m\u001b[37m\u001b[0m \u001b[1m6s\u001b[0m 2ms/step - loss: 124.6985 - val_loss: 1824.6478\n",
      "Epoch 5/50\n",
      "\u001b[1m3428/3428\u001b[0m \u001b[32m━━━━━━━━━━━━━━━━━━━━\u001b[0m\u001b[37m\u001b[0m \u001b[1m6s\u001b[0m 2ms/step - loss: 111.3700 - val_loss: 1878.5448\n",
      "Epoch 6/50\n",
      "\u001b[1m3428/3428\u001b[0m \u001b[32m━━━━━━━━━━━━━━━━━━━━\u001b[0m\u001b[37m\u001b[0m \u001b[1m6s\u001b[0m 2ms/step - loss: 95.4058 - val_loss: 1961.7075\n",
      "Epoch 7/50\n",
      "\u001b[1m3428/3428\u001b[0m \u001b[32m━━━━━━━━━━━━━━━━━━━━\u001b[0m\u001b[37m\u001b[0m \u001b[1m7s\u001b[0m 2ms/step - loss: 81.9102 - val_loss: 2098.4185\n",
      "Epoch 8/50\n",
      "\u001b[1m3428/3428\u001b[0m \u001b[32m━━━━━━━━━━━━━━━━━━━━\u001b[0m\u001b[37m\u001b[0m \u001b[1m7s\u001b[0m 2ms/step - loss: 68.8029 - val_loss: 2014.3760\n",
      "Epoch 9/50\n",
      "\u001b[1m3428/3428\u001b[0m \u001b[32m━━━━━━━━━━━━━━━━━━━━\u001b[0m\u001b[37m\u001b[0m \u001b[1m6s\u001b[0m 2ms/step - loss: 64.8103 - val_loss: 1997.8972\n",
      "Epoch 10/50\n",
      "\u001b[1m3428/3428\u001b[0m \u001b[32m━━━━━━━━━━━━━━━━━━━━\u001b[0m\u001b[37m\u001b[0m \u001b[1m6s\u001b[0m 2ms/step - loss: 56.4774 - val_loss: 2021.2845\n",
      "Epoch 11/50\n",
      "\u001b[1m3428/3428\u001b[0m \u001b[32m━━━━━━━━━━━━━━━━━━━━\u001b[0m\u001b[37m\u001b[0m \u001b[1m6s\u001b[0m 2ms/step - loss: 51.8137 - val_loss: 2020.5398\n",
      "Epoch 12/50\n",
      "\u001b[1m3428/3428\u001b[0m \u001b[32m━━━━━━━━━━━━━━━━━━━━\u001b[0m\u001b[37m\u001b[0m \u001b[1m7s\u001b[0m 2ms/step - loss: 49.7459 - val_loss: 2138.4417\n",
      "Epoch 13/50\n",
      "\u001b[1m3428/3428\u001b[0m \u001b[32m━━━━━━━━━━━━━━━━━━━━\u001b[0m\u001b[37m\u001b[0m \u001b[1m6s\u001b[0m 2ms/step - loss: 48.2187 - val_loss: 2049.5103\n",
      "Epoch 14/50\n",
      "\u001b[1m3428/3428\u001b[0m \u001b[32m━━━━━━━━━━━━━━━━━━━━\u001b[0m\u001b[37m\u001b[0m \u001b[1m6s\u001b[0m 2ms/step - loss: 45.2051 - val_loss: 2063.8833\n",
      "Epoch 15/50\n",
      "\u001b[1m3428/3428\u001b[0m \u001b[32m━━━━━━━━━━━━━━━━━━━━\u001b[0m\u001b[37m\u001b[0m \u001b[1m6s\u001b[0m 2ms/step - loss: 47.9317 - val_loss: 2020.6613\n",
      "Epoch 16/50\n",
      "\u001b[1m3428/3428\u001b[0m \u001b[32m━━━━━━━━━━━━━━━━━━━━\u001b[0m\u001b[37m\u001b[0m \u001b[1m7s\u001b[0m 2ms/step - loss: 43.6569 - val_loss: 2062.3071\n",
      "Epoch 17/50\n",
      "\u001b[1m3428/3428\u001b[0m \u001b[32m━━━━━━━━━━━━━━━━━━━━\u001b[0m\u001b[37m\u001b[0m \u001b[1m7s\u001b[0m 2ms/step - loss: 42.2950 - val_loss: 2062.2632\n",
      "Epoch 18/50\n",
      "\u001b[1m3428/3428\u001b[0m \u001b[32m━━━━━━━━━━━━━━━━━━━━\u001b[0m\u001b[37m\u001b[0m \u001b[1m7s\u001b[0m 2ms/step - loss: 39.2688 - val_loss: 2021.3308\n",
      "Epoch 19/50\n",
      "\u001b[1m3428/3428\u001b[0m \u001b[32m━━━━━━━━━━━━━━━━━━━━\u001b[0m\u001b[37m\u001b[0m \u001b[1m7s\u001b[0m 2ms/step - loss: 41.6881 - val_loss: 2067.8628\n",
      "Epoch 20/50\n",
      "\u001b[1m3428/3428\u001b[0m \u001b[32m━━━━━━━━━━━━━━━━━━━━\u001b[0m\u001b[37m\u001b[0m \u001b[1m7s\u001b[0m 2ms/step - loss: 32.2552 - val_loss: 2041.2543\n",
      "Epoch 21/50\n",
      "\u001b[1m3428/3428\u001b[0m \u001b[32m━━━━━━━━━━━━━━━━━━━━\u001b[0m\u001b[37m\u001b[0m \u001b[1m6s\u001b[0m 2ms/step - loss: 30.8017 - val_loss: 2062.1902\n",
      "Epoch 22/50\n",
      "\u001b[1m3428/3428\u001b[0m \u001b[32m━━━━━━━━━━━━━━━━━━━━\u001b[0m\u001b[37m\u001b[0m \u001b[1m6s\u001b[0m 2ms/step - loss: 32.4992 - val_loss: 2124.3296\n",
      "Epoch 23/50\n",
      "\u001b[1m3428/3428\u001b[0m \u001b[32m━━━━━━━━━━━━━━━━━━━━\u001b[0m\u001b[37m\u001b[0m \u001b[1m7s\u001b[0m 2ms/step - loss: 27.9511 - val_loss: 2062.7722\n",
      "Epoch 24/50\n",
      "\u001b[1m3428/3428\u001b[0m \u001b[32m━━━━━━━━━━━━━━━━━━━━\u001b[0m\u001b[37m\u001b[0m \u001b[1m6s\u001b[0m 2ms/step - loss: 26.6056 - val_loss: 2122.1187\n",
      "Epoch 25/50\n",
      "\u001b[1m3428/3428\u001b[0m \u001b[32m━━━━━━━━━━━━━━━━━━━━\u001b[0m\u001b[37m\u001b[0m \u001b[1m7s\u001b[0m 2ms/step - loss: 23.5534 - val_loss: 2076.3823\n",
      "Epoch 26/50\n",
      "\u001b[1m3428/3428\u001b[0m \u001b[32m━━━━━━━━━━━━━━━━━━━━\u001b[0m\u001b[37m\u001b[0m \u001b[1m6s\u001b[0m 2ms/step - loss: 29.6019 - val_loss: 2127.6296\n",
      "Epoch 27/50\n",
      "\u001b[1m3428/3428\u001b[0m \u001b[32m━━━━━━━━━━━━━━━━━━━━\u001b[0m\u001b[37m\u001b[0m \u001b[1m6s\u001b[0m 2ms/step - loss: 26.6360 - val_loss: 2094.0566\n",
      "Epoch 28/50\n",
      "\u001b[1m3428/3428\u001b[0m \u001b[32m━━━━━━━━━━━━━━━━━━━━\u001b[0m\u001b[37m\u001b[0m \u001b[1m6s\u001b[0m 2ms/step - loss: 24.2559 - val_loss: 2091.9932\n",
      "Epoch 29/50\n",
      "\u001b[1m3428/3428\u001b[0m \u001b[32m━━━━━━━━━━━━━━━━━━━━\u001b[0m\u001b[37m\u001b[0m \u001b[1m6s\u001b[0m 2ms/step - loss: 19.9457 - val_loss: 2084.3450\n",
      "Epoch 30/50\n",
      "\u001b[1m3428/3428\u001b[0m \u001b[32m━━━━━━━━━━━━━━━━━━━━\u001b[0m\u001b[37m\u001b[0m \u001b[1m7s\u001b[0m 2ms/step - loss: 25.0765 - val_loss: 2128.1499\n",
      "Epoch 31/50\n",
      "\u001b[1m3428/3428\u001b[0m \u001b[32m━━━━━━━━━━━━━━━━━━━━\u001b[0m\u001b[37m\u001b[0m \u001b[1m6s\u001b[0m 2ms/step - loss: 25.6992 - val_loss: 2153.6067\n",
      "Epoch 32/50\n",
      "\u001b[1m3428/3428\u001b[0m \u001b[32m━━━━━━━━━━━━━━━━━━━━\u001b[0m\u001b[37m\u001b[0m \u001b[1m6s\u001b[0m 2ms/step - loss: 19.0585 - val_loss: 2106.6497\n",
      "Epoch 33/50\n",
      "\u001b[1m3428/3428\u001b[0m \u001b[32m━━━━━━━━━━━━━━━━━━━━\u001b[0m\u001b[37m\u001b[0m \u001b[1m6s\u001b[0m 2ms/step - loss: 17.9418 - val_loss: 2118.6926\n",
      "Epoch 34/50\n",
      "\u001b[1m3428/3428\u001b[0m \u001b[32m━━━━━━━━━━━━━━━━━━━━\u001b[0m\u001b[37m\u001b[0m \u001b[1m6s\u001b[0m 2ms/step - loss: 17.3058 - val_loss: 2089.6770\n",
      "Epoch 35/50\n",
      "\u001b[1m3428/3428\u001b[0m \u001b[32m━━━━━━━━━━━━━━━━━━━━\u001b[0m\u001b[37m\u001b[0m \u001b[1m6s\u001b[0m 2ms/step - loss: 18.3769 - val_loss: 2128.3826\n",
      "Epoch 36/50\n",
      "\u001b[1m3428/3428\u001b[0m \u001b[32m━━━━━━━━━━━━━━━━━━━━\u001b[0m\u001b[37m\u001b[0m \u001b[1m6s\u001b[0m 2ms/step - loss: 16.4243 - val_loss: 2112.1882\n",
      "Epoch 37/50\n",
      "\u001b[1m3428/3428\u001b[0m \u001b[32m━━━━━━━━━━━━━━━━━━━━\u001b[0m\u001b[37m\u001b[0m \u001b[1m6s\u001b[0m 2ms/step - loss: 16.7016 - val_loss: 2112.4275\n",
      "Epoch 38/50\n",
      "\u001b[1m3428/3428\u001b[0m \u001b[32m━━━━━━━━━━━━━━━━━━━━\u001b[0m\u001b[37m\u001b[0m \u001b[1m6s\u001b[0m 2ms/step - loss: 17.8650 - val_loss: 2132.3284\n",
      "Epoch 39/50\n",
      "\u001b[1m3428/3428\u001b[0m \u001b[32m━━━━━━━━━━━━━━━━━━━━\u001b[0m\u001b[37m\u001b[0m \u001b[1m6s\u001b[0m 2ms/step - loss: 17.5597 - val_loss: 2121.1938\n",
      "Epoch 40/50\n",
      "\u001b[1m3428/3428\u001b[0m \u001b[32m━━━━━━━━━━━━━━━━━━━━\u001b[0m\u001b[37m\u001b[0m \u001b[1m6s\u001b[0m 2ms/step - loss: 17.3359 - val_loss: 2133.8499\n",
      "Epoch 41/50\n",
      "\u001b[1m3428/3428\u001b[0m \u001b[32m━━━━━━━━━━━━━━━━━━━━\u001b[0m\u001b[37m\u001b[0m \u001b[1m6s\u001b[0m 2ms/step - loss: 15.0230 - val_loss: 2132.1956\n",
      "Epoch 42/50\n",
      "\u001b[1m3428/3428\u001b[0m \u001b[32m━━━━━━━━━━━━━━━━━━━━\u001b[0m\u001b[37m\u001b[0m \u001b[1m6s\u001b[0m 2ms/step - loss: 16.2047 - val_loss: 2090.0444\n",
      "Epoch 43/50\n",
      "\u001b[1m3428/3428\u001b[0m \u001b[32m━━━━━━━━━━━━━━━━━━━━\u001b[0m\u001b[37m\u001b[0m \u001b[1m6s\u001b[0m 2ms/step - loss: 16.5426 - val_loss: 2117.7192\n",
      "Epoch 44/50\n",
      "\u001b[1m3428/3428\u001b[0m \u001b[32m━━━━━━━━━━━━━━━━━━━━\u001b[0m\u001b[37m\u001b[0m \u001b[1m6s\u001b[0m 2ms/step - loss: 12.8259 - val_loss: 2112.9229\n",
      "Epoch 45/50\n",
      "\u001b[1m3428/3428\u001b[0m \u001b[32m━━━━━━━━━━━━━━━━━━━━\u001b[0m\u001b[37m\u001b[0m \u001b[1m6s\u001b[0m 2ms/step - loss: 12.6975 - val_loss: 2123.8704\n",
      "Epoch 46/50\n",
      "\u001b[1m3428/3428\u001b[0m \u001b[32m━━━━━━━━━━━━━━━━━━━━\u001b[0m\u001b[37m\u001b[0m \u001b[1m6s\u001b[0m 2ms/step - loss: 13.4762 - val_loss: 2115.4275\n",
      "Epoch 47/50\n",
      "\u001b[1m3428/3428\u001b[0m \u001b[32m━━━━━━━━━━━━━━━━━━━━\u001b[0m\u001b[37m\u001b[0m \u001b[1m6s\u001b[0m 2ms/step - loss: 11.6241 - val_loss: 2117.7583\n",
      "Epoch 48/50\n",
      "\u001b[1m3428/3428\u001b[0m \u001b[32m━━━━━━━━━━━━━━━━━━━━\u001b[0m\u001b[37m\u001b[0m \u001b[1m6s\u001b[0m 2ms/step - loss: 11.0525 - val_loss: 2140.5396\n",
      "Epoch 49/50\n",
      "\u001b[1m3428/3428\u001b[0m \u001b[32m━━━━━━━━━━━━━━━━━━━━\u001b[0m\u001b[37m\u001b[0m \u001b[1m6s\u001b[0m 2ms/step - loss: 12.7716 - val_loss: 2117.7710\n",
      "Epoch 50/50\n",
      "\u001b[1m3428/3428\u001b[0m \u001b[32m━━━━━━━━━━━━━━━━━━━━\u001b[0m\u001b[37m\u001b[0m \u001b[1m6s\u001b[0m 2ms/step - loss: 12.6719 - val_loss: 2153.7161\n"
     ]
    },
    {
     "data": {
      "text/plain": [
       "<keras.src.callbacks.history.History at 0x7bdba2a3fdf0>"
      ]
     },
     "execution_count": 14,
     "metadata": {},
     "output_type": "execute_result"
    }
   ],
   "source": [
    "from tensorflow.keras.models import Sequential\n",
    "from tensorflow.keras.layers import Conv1D, Flatten, Dense, Dropout\n",
    "\n",
    "cnn_model = Sequential([\n",
    "    Conv1D(filters=64, kernel_size=3, activation='relu', input_shape=(X_train.shape[1], 1)),\n",
    "    Dropout(0.3),\n",
    "    Flatten(),\n",
    "    Dense(64, activation='relu'),\n",
    "    Dense(3)  # Predicting x, y, z coordinates\n",
    "])\n",
    "\n",
    "cnn_model.compile(optimizer='adam', loss='mse')\n",
    "cnn_model.fit(X_train, y_train, epochs=50, batch_size=32, validation_data=(X_test, y_test))\n"
   ]
  },
  {
   "cell_type": "code",
   "execution_count": null,
   "id": "36b07904",
   "metadata": {
    "papermill": {
     "duration": 0.284544,
     "end_time": "2025-03-04T16:31:50.493959",
     "exception": false,
     "start_time": "2025-03-04T16:31:50.209415",
     "status": "completed"
    },
    "tags": []
   },
   "outputs": [],
   "source": []
  }
 ],
 "metadata": {
  "kaggle": {
   "accelerator": "none",
   "dataSources": [
    {
     "databundleVersionId": 11228175,
     "sourceId": 87793,
     "sourceType": "competition"
    }
   ],
   "dockerImageVersionId": 30918,
   "isGpuEnabled": false,
   "isInternetEnabled": true,
   "language": "python",
   "sourceType": "notebook"
  },
  "kernelspec": {
   "display_name": "Python 3",
   "language": "python",
   "name": "python3"
  },
  "language_info": {
   "codemirror_mode": {
    "name": "ipython",
    "version": 3
   },
   "file_extension": ".py",
   "mimetype": "text/x-python",
   "name": "python",
   "nbconvert_exporter": "python",
   "pygments_lexer": "ipython3",
   "version": "3.10.12"
  },
  "papermill": {
   "default_parameters": {},
   "duration": 384.508646,
   "end_time": "2025-03-04T16:31:52.541493",
   "environment_variables": {},
   "exception": null,
   "input_path": "__notebook__.ipynb",
   "output_path": "__notebook__.ipynb",
   "parameters": {},
   "start_time": "2025-03-04T16:25:28.032847",
   "version": "2.6.0"
  }
 },
 "nbformat": 4,
 "nbformat_minor": 5
}
