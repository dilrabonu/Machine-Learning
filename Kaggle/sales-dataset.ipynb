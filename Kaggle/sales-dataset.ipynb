{
 "cells": [
  {
   "cell_type": "code",
   "execution_count": 1,
   "id": "48338613",
   "metadata": {
    "_cell_guid": "b1076dfc-b9ad-4769-8c92-a6c4dae69d19",
    "_uuid": "8f2839f25d086af736a60e9eeb907d3b93b6e0e5",
    "execution": {
     "iopub.execute_input": "2025-02-19T16:55:03.181876Z",
     "iopub.status.busy": "2025-02-19T16:55:03.181537Z",
     "iopub.status.idle": "2025-02-19T16:55:04.349591Z",
     "shell.execute_reply": "2025-02-19T16:55:04.348457Z"
    },
    "papermill": {
     "duration": 1.176102,
     "end_time": "2025-02-19T16:55:04.350784",
     "exception": false,
     "start_time": "2025-02-19T16:55:03.174682",
     "status": "completed"
    },
    "tags": []
   },
   "outputs": [
    {
     "name": "stdout",
     "output_type": "stream",
     "text": [
      "/kaggle/input/sales-dataset/sales_data.csv\n"
     ]
    }
   ],
   "source": [
    "# This Python 3 environment comes with many helpful analytics libraries installed\n",
    "# It is defined by the kaggle/python Docker image: https://github.com/kaggle/docker-python\n",
    "# For example, here's several helpful packages to load\n",
    "\n",
    "import numpy as np # linear algebra\n",
    "import pandas as pd # data processing, CSV file I/O (e.g. pd.read_csv)\n",
    "\n",
    "# Input data files are available in the read-only \"../input/\" directory\n",
    "# For example, running this (by clicking run or pressing Shift+Enter) will list all files under the input directory\n",
    "\n",
    "import os\n",
    "for dirname, _, filenames in os.walk('/kaggle/input'):\n",
    "    for filename in filenames:\n",
    "        print(os.path.join(dirname, filename))\n",
    "\n",
    "# You can write up to 20GB to the current directory (/kaggle/working/) that gets preserved as output when you create a version using \"Save & Run All\" \n",
    "# You can also write temporary files to /kaggle/temp/, but they won't be saved outside of the current session"
   ]
  },
  {
   "cell_type": "code",
   "execution_count": 2,
   "id": "98e0b8e2",
   "metadata": {
    "execution": {
     "iopub.execute_input": "2025-02-19T16:55:04.362383Z",
     "iopub.status.busy": "2025-02-19T16:55:04.361960Z",
     "iopub.status.idle": "2025-02-19T16:55:04.416479Z",
     "shell.execute_reply": "2025-02-19T16:55:04.415573Z"
    },
    "papermill": {
     "duration": 0.061511,
     "end_time": "2025-02-19T16:55:04.417857",
     "exception": false,
     "start_time": "2025-02-19T16:55:04.356346",
     "status": "completed"
    },
    "tags": []
   },
   "outputs": [
    {
     "data": {
      "text/html": [
       "<div>\n",
       "<style scoped>\n",
       "    .dataframe tbody tr th:only-of-type {\n",
       "        vertical-align: middle;\n",
       "    }\n",
       "\n",
       "    .dataframe tbody tr th {\n",
       "        vertical-align: top;\n",
       "    }\n",
       "\n",
       "    .dataframe thead th {\n",
       "        text-align: right;\n",
       "    }\n",
       "</style>\n",
       "<table border=\"1\" class=\"dataframe\">\n",
       "  <thead>\n",
       "    <tr style=\"text-align: right;\">\n",
       "      <th></th>\n",
       "      <th>Product_ID</th>\n",
       "      <th>Sale_Date</th>\n",
       "      <th>Sales_Rep</th>\n",
       "      <th>Region</th>\n",
       "      <th>Sales_Amount</th>\n",
       "      <th>Quantity_Sold</th>\n",
       "      <th>Product_Category</th>\n",
       "      <th>Unit_Cost</th>\n",
       "      <th>Unit_Price</th>\n",
       "      <th>Customer_Type</th>\n",
       "      <th>Discount</th>\n",
       "      <th>Payment_Method</th>\n",
       "      <th>Sales_Channel</th>\n",
       "      <th>Region_and_Sales_Rep</th>\n",
       "    </tr>\n",
       "  </thead>\n",
       "  <tbody>\n",
       "    <tr>\n",
       "      <th>0</th>\n",
       "      <td>1052</td>\n",
       "      <td>2023-02-03</td>\n",
       "      <td>Bob</td>\n",
       "      <td>North</td>\n",
       "      <td>5053.97</td>\n",
       "      <td>18</td>\n",
       "      <td>Furniture</td>\n",
       "      <td>152.75</td>\n",
       "      <td>267.22</td>\n",
       "      <td>Returning</td>\n",
       "      <td>0.09</td>\n",
       "      <td>Cash</td>\n",
       "      <td>Online</td>\n",
       "      <td>North-Bob</td>\n",
       "    </tr>\n",
       "    <tr>\n",
       "      <th>1</th>\n",
       "      <td>1093</td>\n",
       "      <td>2023-04-21</td>\n",
       "      <td>Bob</td>\n",
       "      <td>West</td>\n",
       "      <td>4384.02</td>\n",
       "      <td>17</td>\n",
       "      <td>Furniture</td>\n",
       "      <td>3816.39</td>\n",
       "      <td>4209.44</td>\n",
       "      <td>Returning</td>\n",
       "      <td>0.11</td>\n",
       "      <td>Cash</td>\n",
       "      <td>Retail</td>\n",
       "      <td>West-Bob</td>\n",
       "    </tr>\n",
       "    <tr>\n",
       "      <th>2</th>\n",
       "      <td>1015</td>\n",
       "      <td>2023-09-21</td>\n",
       "      <td>David</td>\n",
       "      <td>South</td>\n",
       "      <td>4631.23</td>\n",
       "      <td>30</td>\n",
       "      <td>Food</td>\n",
       "      <td>261.56</td>\n",
       "      <td>371.40</td>\n",
       "      <td>Returning</td>\n",
       "      <td>0.20</td>\n",
       "      <td>Bank Transfer</td>\n",
       "      <td>Retail</td>\n",
       "      <td>South-David</td>\n",
       "    </tr>\n",
       "    <tr>\n",
       "      <th>3</th>\n",
       "      <td>1072</td>\n",
       "      <td>2023-08-24</td>\n",
       "      <td>Bob</td>\n",
       "      <td>South</td>\n",
       "      <td>2167.94</td>\n",
       "      <td>39</td>\n",
       "      <td>Clothing</td>\n",
       "      <td>4330.03</td>\n",
       "      <td>4467.75</td>\n",
       "      <td>New</td>\n",
       "      <td>0.02</td>\n",
       "      <td>Credit Card</td>\n",
       "      <td>Retail</td>\n",
       "      <td>South-Bob</td>\n",
       "    </tr>\n",
       "    <tr>\n",
       "      <th>4</th>\n",
       "      <td>1061</td>\n",
       "      <td>2023-03-24</td>\n",
       "      <td>Charlie</td>\n",
       "      <td>East</td>\n",
       "      <td>3750.20</td>\n",
       "      <td>13</td>\n",
       "      <td>Electronics</td>\n",
       "      <td>637.37</td>\n",
       "      <td>692.71</td>\n",
       "      <td>New</td>\n",
       "      <td>0.08</td>\n",
       "      <td>Credit Card</td>\n",
       "      <td>Online</td>\n",
       "      <td>East-Charlie</td>\n",
       "    </tr>\n",
       "    <tr>\n",
       "      <th>...</th>\n",
       "      <td>...</td>\n",
       "      <td>...</td>\n",
       "      <td>...</td>\n",
       "      <td>...</td>\n",
       "      <td>...</td>\n",
       "      <td>...</td>\n",
       "      <td>...</td>\n",
       "      <td>...</td>\n",
       "      <td>...</td>\n",
       "      <td>...</td>\n",
       "      <td>...</td>\n",
       "      <td>...</td>\n",
       "      <td>...</td>\n",
       "      <td>...</td>\n",
       "    </tr>\n",
       "    <tr>\n",
       "      <th>995</th>\n",
       "      <td>1010</td>\n",
       "      <td>2023-04-15</td>\n",
       "      <td>Charlie</td>\n",
       "      <td>North</td>\n",
       "      <td>4733.88</td>\n",
       "      <td>4</td>\n",
       "      <td>Food</td>\n",
       "      <td>4943.03</td>\n",
       "      <td>5442.15</td>\n",
       "      <td>Returning</td>\n",
       "      <td>0.29</td>\n",
       "      <td>Cash</td>\n",
       "      <td>Online</td>\n",
       "      <td>North-Charlie</td>\n",
       "    </tr>\n",
       "    <tr>\n",
       "      <th>996</th>\n",
       "      <td>1067</td>\n",
       "      <td>2023-09-07</td>\n",
       "      <td>Bob</td>\n",
       "      <td>North</td>\n",
       "      <td>4716.36</td>\n",
       "      <td>37</td>\n",
       "      <td>Clothing</td>\n",
       "      <td>1754.32</td>\n",
       "      <td>1856.40</td>\n",
       "      <td>New</td>\n",
       "      <td>0.21</td>\n",
       "      <td>Bank Transfer</td>\n",
       "      <td>Retail</td>\n",
       "      <td>North-Bob</td>\n",
       "    </tr>\n",
       "    <tr>\n",
       "      <th>997</th>\n",
       "      <td>1018</td>\n",
       "      <td>2023-04-27</td>\n",
       "      <td>David</td>\n",
       "      <td>South</td>\n",
       "      <td>7629.70</td>\n",
       "      <td>17</td>\n",
       "      <td>Clothing</td>\n",
       "      <td>355.72</td>\n",
       "      <td>438.27</td>\n",
       "      <td>Returning</td>\n",
       "      <td>0.06</td>\n",
       "      <td>Bank Transfer</td>\n",
       "      <td>Online</td>\n",
       "      <td>South-David</td>\n",
       "    </tr>\n",
       "    <tr>\n",
       "      <th>998</th>\n",
       "      <td>1100</td>\n",
       "      <td>2023-12-20</td>\n",
       "      <td>David</td>\n",
       "      <td>West</td>\n",
       "      <td>1629.47</td>\n",
       "      <td>39</td>\n",
       "      <td>Electronics</td>\n",
       "      <td>3685.03</td>\n",
       "      <td>3743.39</td>\n",
       "      <td>New</td>\n",
       "      <td>0.01</td>\n",
       "      <td>Bank Transfer</td>\n",
       "      <td>Online</td>\n",
       "      <td>West-David</td>\n",
       "    </tr>\n",
       "    <tr>\n",
       "      <th>999</th>\n",
       "      <td>1086</td>\n",
       "      <td>2023-08-16</td>\n",
       "      <td>Alice</td>\n",
       "      <td>East</td>\n",
       "      <td>4923.93</td>\n",
       "      <td>48</td>\n",
       "      <td>Food</td>\n",
       "      <td>2632.58</td>\n",
       "      <td>2926.68</td>\n",
       "      <td>Returning</td>\n",
       "      <td>0.14</td>\n",
       "      <td>Cash</td>\n",
       "      <td>Online</td>\n",
       "      <td>East-Alice</td>\n",
       "    </tr>\n",
       "  </tbody>\n",
       "</table>\n",
       "<p>1000 rows × 14 columns</p>\n",
       "</div>"
      ],
      "text/plain": [
       "     Product_ID   Sale_Date Sales_Rep Region  Sales_Amount  Quantity_Sold  \\\n",
       "0          1052  2023-02-03       Bob  North       5053.97             18   \n",
       "1          1093  2023-04-21       Bob   West       4384.02             17   \n",
       "2          1015  2023-09-21     David  South       4631.23             30   \n",
       "3          1072  2023-08-24       Bob  South       2167.94             39   \n",
       "4          1061  2023-03-24   Charlie   East       3750.20             13   \n",
       "..          ...         ...       ...    ...           ...            ...   \n",
       "995        1010  2023-04-15   Charlie  North       4733.88              4   \n",
       "996        1067  2023-09-07       Bob  North       4716.36             37   \n",
       "997        1018  2023-04-27     David  South       7629.70             17   \n",
       "998        1100  2023-12-20     David   West       1629.47             39   \n",
       "999        1086  2023-08-16     Alice   East       4923.93             48   \n",
       "\n",
       "    Product_Category  Unit_Cost  Unit_Price Customer_Type  Discount  \\\n",
       "0          Furniture     152.75      267.22     Returning      0.09   \n",
       "1          Furniture    3816.39     4209.44     Returning      0.11   \n",
       "2               Food     261.56      371.40     Returning      0.20   \n",
       "3           Clothing    4330.03     4467.75           New      0.02   \n",
       "4        Electronics     637.37      692.71           New      0.08   \n",
       "..               ...        ...         ...           ...       ...   \n",
       "995             Food    4943.03     5442.15     Returning      0.29   \n",
       "996         Clothing    1754.32     1856.40           New      0.21   \n",
       "997         Clothing     355.72      438.27     Returning      0.06   \n",
       "998      Electronics    3685.03     3743.39           New      0.01   \n",
       "999             Food    2632.58     2926.68     Returning      0.14   \n",
       "\n",
       "    Payment_Method Sales_Channel Region_and_Sales_Rep  \n",
       "0             Cash        Online            North-Bob  \n",
       "1             Cash        Retail             West-Bob  \n",
       "2    Bank Transfer        Retail          South-David  \n",
       "3      Credit Card        Retail            South-Bob  \n",
       "4      Credit Card        Online         East-Charlie  \n",
       "..             ...           ...                  ...  \n",
       "995           Cash        Online        North-Charlie  \n",
       "996  Bank Transfer        Retail            North-Bob  \n",
       "997  Bank Transfer        Online          South-David  \n",
       "998  Bank Transfer        Online           West-David  \n",
       "999           Cash        Online           East-Alice  \n",
       "\n",
       "[1000 rows x 14 columns]"
      ]
     },
     "execution_count": 2,
     "metadata": {},
     "output_type": "execute_result"
    }
   ],
   "source": [
    "df = pd.read_csv(\"/kaggle/input/sales-dataset/sales_data.csv\")\n",
    "df"
   ]
  },
  {
   "cell_type": "code",
   "execution_count": 3,
   "id": "302f039a",
   "metadata": {
    "execution": {
     "iopub.execute_input": "2025-02-19T16:55:04.429961Z",
     "iopub.status.busy": "2025-02-19T16:55:04.429608Z",
     "iopub.status.idle": "2025-02-19T16:55:04.455647Z",
     "shell.execute_reply": "2025-02-19T16:55:04.454822Z"
    },
    "papermill": {
     "duration": 0.033341,
     "end_time": "2025-02-19T16:55:04.456861",
     "exception": false,
     "start_time": "2025-02-19T16:55:04.423520",
     "status": "completed"
    },
    "tags": []
   },
   "outputs": [
    {
     "name": "stdout",
     "output_type": "stream",
     "text": [
      "<class 'pandas.core.frame.DataFrame'>\n",
      "RangeIndex: 1000 entries, 0 to 999\n",
      "Data columns (total 14 columns):\n",
      " #   Column                Non-Null Count  Dtype  \n",
      "---  ------                --------------  -----  \n",
      " 0   Product_ID            1000 non-null   int64  \n",
      " 1   Sale_Date             1000 non-null   object \n",
      " 2   Sales_Rep             1000 non-null   object \n",
      " 3   Region                1000 non-null   object \n",
      " 4   Sales_Amount          1000 non-null   float64\n",
      " 5   Quantity_Sold         1000 non-null   int64  \n",
      " 6   Product_Category      1000 non-null   object \n",
      " 7   Unit_Cost             1000 non-null   float64\n",
      " 8   Unit_Price            1000 non-null   float64\n",
      " 9   Customer_Type         1000 non-null   object \n",
      " 10  Discount              1000 non-null   float64\n",
      " 11  Payment_Method        1000 non-null   object \n",
      " 12  Sales_Channel         1000 non-null   object \n",
      " 13  Region_and_Sales_Rep  1000 non-null   object \n",
      "dtypes: float64(4), int64(2), object(8)\n",
      "memory usage: 109.5+ KB\n"
     ]
    }
   ],
   "source": [
    "df.info()"
   ]
  },
  {
   "cell_type": "code",
   "execution_count": 4,
   "id": "b87dbb2b",
   "metadata": {
    "execution": {
     "iopub.execute_input": "2025-02-19T16:55:04.468853Z",
     "iopub.status.busy": "2025-02-19T16:55:04.468572Z",
     "iopub.status.idle": "2025-02-19T16:55:04.475158Z",
     "shell.execute_reply": "2025-02-19T16:55:04.474097Z"
    },
    "papermill": {
     "duration": 0.014258,
     "end_time": "2025-02-19T16:55:04.476910",
     "exception": false,
     "start_time": "2025-02-19T16:55:04.462652",
     "status": "completed"
    },
    "tags": []
   },
   "outputs": [
    {
     "data": {
      "text/plain": [
       "Product_ID              0\n",
       "Sale_Date               0\n",
       "Sales_Rep               0\n",
       "Region                  0\n",
       "Sales_Amount            0\n",
       "Quantity_Sold           0\n",
       "Product_Category        0\n",
       "Unit_Cost               0\n",
       "Unit_Price              0\n",
       "Customer_Type           0\n",
       "Discount                0\n",
       "Payment_Method          0\n",
       "Sales_Channel           0\n",
       "Region_and_Sales_Rep    0\n",
       "dtype: int64"
      ]
     },
     "execution_count": 4,
     "metadata": {},
     "output_type": "execute_result"
    }
   ],
   "source": [
    "df.isnull().sum()"
   ]
  },
  {
   "cell_type": "code",
   "execution_count": 5,
   "id": "d62fed04",
   "metadata": {
    "execution": {
     "iopub.execute_input": "2025-02-19T16:55:04.489918Z",
     "iopub.status.busy": "2025-02-19T16:55:04.489580Z",
     "iopub.status.idle": "2025-02-19T16:55:04.513676Z",
     "shell.execute_reply": "2025-02-19T16:55:04.512937Z"
    },
    "papermill": {
     "duration": 0.031673,
     "end_time": "2025-02-19T16:55:04.514942",
     "exception": false,
     "start_time": "2025-02-19T16:55:04.483269",
     "status": "completed"
    },
    "tags": []
   },
   "outputs": [
    {
     "data": {
      "text/html": [
       "<div>\n",
       "<style scoped>\n",
       "    .dataframe tbody tr th:only-of-type {\n",
       "        vertical-align: middle;\n",
       "    }\n",
       "\n",
       "    .dataframe tbody tr th {\n",
       "        vertical-align: top;\n",
       "    }\n",
       "\n",
       "    .dataframe thead th {\n",
       "        text-align: right;\n",
       "    }\n",
       "</style>\n",
       "<table border=\"1\" class=\"dataframe\">\n",
       "  <thead>\n",
       "    <tr style=\"text-align: right;\">\n",
       "      <th></th>\n",
       "      <th>Product_ID</th>\n",
       "      <th>Sales_Amount</th>\n",
       "      <th>Quantity_Sold</th>\n",
       "      <th>Unit_Cost</th>\n",
       "      <th>Unit_Price</th>\n",
       "      <th>Discount</th>\n",
       "    </tr>\n",
       "  </thead>\n",
       "  <tbody>\n",
       "    <tr>\n",
       "      <th>count</th>\n",
       "      <td>1000.000000</td>\n",
       "      <td>1000.000000</td>\n",
       "      <td>1000.000000</td>\n",
       "      <td>1000.000000</td>\n",
       "      <td>1000.000000</td>\n",
       "      <td>1000.00000</td>\n",
       "    </tr>\n",
       "    <tr>\n",
       "      <th>mean</th>\n",
       "      <td>1050.128000</td>\n",
       "      <td>5019.265230</td>\n",
       "      <td>25.355000</td>\n",
       "      <td>2475.304550</td>\n",
       "      <td>2728.440120</td>\n",
       "      <td>0.15239</td>\n",
       "    </tr>\n",
       "    <tr>\n",
       "      <th>std</th>\n",
       "      <td>29.573505</td>\n",
       "      <td>2846.790126</td>\n",
       "      <td>14.159006</td>\n",
       "      <td>1417.872546</td>\n",
       "      <td>1419.399839</td>\n",
       "      <td>0.08720</td>\n",
       "    </tr>\n",
       "    <tr>\n",
       "      <th>min</th>\n",
       "      <td>1001.000000</td>\n",
       "      <td>100.120000</td>\n",
       "      <td>1.000000</td>\n",
       "      <td>60.280000</td>\n",
       "      <td>167.120000</td>\n",
       "      <td>0.00000</td>\n",
       "    </tr>\n",
       "    <tr>\n",
       "      <th>25%</th>\n",
       "      <td>1024.000000</td>\n",
       "      <td>2550.297500</td>\n",
       "      <td>13.000000</td>\n",
       "      <td>1238.380000</td>\n",
       "      <td>1509.085000</td>\n",
       "      <td>0.08000</td>\n",
       "    </tr>\n",
       "    <tr>\n",
       "      <th>50%</th>\n",
       "      <td>1051.000000</td>\n",
       "      <td>5019.300000</td>\n",
       "      <td>25.000000</td>\n",
       "      <td>2467.235000</td>\n",
       "      <td>2696.400000</td>\n",
       "      <td>0.15000</td>\n",
       "    </tr>\n",
       "    <tr>\n",
       "      <th>75%</th>\n",
       "      <td>1075.000000</td>\n",
       "      <td>7507.445000</td>\n",
       "      <td>38.000000</td>\n",
       "      <td>3702.865000</td>\n",
       "      <td>3957.970000</td>\n",
       "      <td>0.23000</td>\n",
       "    </tr>\n",
       "    <tr>\n",
       "      <th>max</th>\n",
       "      <td>1100.000000</td>\n",
       "      <td>9989.040000</td>\n",
       "      <td>49.000000</td>\n",
       "      <td>4995.300000</td>\n",
       "      <td>5442.150000</td>\n",
       "      <td>0.30000</td>\n",
       "    </tr>\n",
       "  </tbody>\n",
       "</table>\n",
       "</div>"
      ],
      "text/plain": [
       "        Product_ID  Sales_Amount  Quantity_Sold    Unit_Cost   Unit_Price  \\\n",
       "count  1000.000000   1000.000000    1000.000000  1000.000000  1000.000000   \n",
       "mean   1050.128000   5019.265230      25.355000  2475.304550  2728.440120   \n",
       "std      29.573505   2846.790126      14.159006  1417.872546  1419.399839   \n",
       "min    1001.000000    100.120000       1.000000    60.280000   167.120000   \n",
       "25%    1024.000000   2550.297500      13.000000  1238.380000  1509.085000   \n",
       "50%    1051.000000   5019.300000      25.000000  2467.235000  2696.400000   \n",
       "75%    1075.000000   7507.445000      38.000000  3702.865000  3957.970000   \n",
       "max    1100.000000   9989.040000      49.000000  4995.300000  5442.150000   \n",
       "\n",
       "         Discount  \n",
       "count  1000.00000  \n",
       "mean      0.15239  \n",
       "std       0.08720  \n",
       "min       0.00000  \n",
       "25%       0.08000  \n",
       "50%       0.15000  \n",
       "75%       0.23000  \n",
       "max       0.30000  "
      ]
     },
     "execution_count": 5,
     "metadata": {},
     "output_type": "execute_result"
    }
   ],
   "source": [
    "df.describe()"
   ]
  },
  {
   "cell_type": "code",
   "execution_count": 6,
   "id": "d59c4960",
   "metadata": {
    "execution": {
     "iopub.execute_input": "2025-02-19T16:55:04.527276Z",
     "iopub.status.busy": "2025-02-19T16:55:04.526963Z",
     "iopub.status.idle": "2025-02-19T16:55:04.535285Z",
     "shell.execute_reply": "2025-02-19T16:55:04.534533Z"
    },
    "papermill": {
     "duration": 0.016064,
     "end_time": "2025-02-19T16:55:04.536943",
     "exception": false,
     "start_time": "2025-02-19T16:55:04.520879",
     "status": "completed"
    },
    "tags": []
   },
   "outputs": [
    {
     "data": {
      "text/plain": [
       "0"
      ]
     },
     "execution_count": 6,
     "metadata": {},
     "output_type": "execute_result"
    }
   ],
   "source": [
    "df.duplicated().sum()"
   ]
  },
  {
   "cell_type": "code",
   "execution_count": 7,
   "id": "9b2c4886",
   "metadata": {
    "execution": {
     "iopub.execute_input": "2025-02-19T16:55:04.550093Z",
     "iopub.status.busy": "2025-02-19T16:55:04.549760Z",
     "iopub.status.idle": "2025-02-19T16:55:04.567317Z",
     "shell.execute_reply": "2025-02-19T16:55:04.566546Z"
    },
    "papermill": {
     "duration": 0.025842,
     "end_time": "2025-02-19T16:55:04.568995",
     "exception": false,
     "start_time": "2025-02-19T16:55:04.543153",
     "status": "completed"
    },
    "tags": []
   },
   "outputs": [
    {
     "data": {
      "text/html": [
       "<div>\n",
       "<style scoped>\n",
       "    .dataframe tbody tr th:only-of-type {\n",
       "        vertical-align: middle;\n",
       "    }\n",
       "\n",
       "    .dataframe tbody tr th {\n",
       "        vertical-align: top;\n",
       "    }\n",
       "\n",
       "    .dataframe thead th {\n",
       "        text-align: right;\n",
       "    }\n",
       "</style>\n",
       "<table border=\"1\" class=\"dataframe\">\n",
       "  <thead>\n",
       "    <tr style=\"text-align: right;\">\n",
       "      <th></th>\n",
       "      <th>Product_ID</th>\n",
       "      <th>Sale_Date</th>\n",
       "      <th>Sales_Rep</th>\n",
       "      <th>Region</th>\n",
       "      <th>Sales_Amount</th>\n",
       "      <th>Quantity_Sold</th>\n",
       "      <th>Product_Category</th>\n",
       "      <th>Unit_Cost</th>\n",
       "      <th>Unit_Price</th>\n",
       "      <th>Customer_Type</th>\n",
       "      <th>Discount</th>\n",
       "      <th>Payment_Method</th>\n",
       "      <th>Sales_Channel</th>\n",
       "      <th>Region_and_Sales_Rep</th>\n",
       "    </tr>\n",
       "  </thead>\n",
       "  <tbody>\n",
       "    <tr>\n",
       "      <th>0</th>\n",
       "      <td>1052</td>\n",
       "      <td>2023-02-03</td>\n",
       "      <td>Bob</td>\n",
       "      <td>North</td>\n",
       "      <td>5053.97</td>\n",
       "      <td>18</td>\n",
       "      <td>Furniture</td>\n",
       "      <td>152.75</td>\n",
       "      <td>267.22</td>\n",
       "      <td>Returning</td>\n",
       "      <td>0.09</td>\n",
       "      <td>Cash</td>\n",
       "      <td>Online</td>\n",
       "      <td>North-Bob</td>\n",
       "    </tr>\n",
       "    <tr>\n",
       "      <th>1</th>\n",
       "      <td>1093</td>\n",
       "      <td>2023-04-21</td>\n",
       "      <td>Bob</td>\n",
       "      <td>West</td>\n",
       "      <td>4384.02</td>\n",
       "      <td>17</td>\n",
       "      <td>Furniture</td>\n",
       "      <td>3816.39</td>\n",
       "      <td>4209.44</td>\n",
       "      <td>Returning</td>\n",
       "      <td>0.11</td>\n",
       "      <td>Cash</td>\n",
       "      <td>Retail</td>\n",
       "      <td>West-Bob</td>\n",
       "    </tr>\n",
       "    <tr>\n",
       "      <th>2</th>\n",
       "      <td>1015</td>\n",
       "      <td>2023-09-21</td>\n",
       "      <td>David</td>\n",
       "      <td>South</td>\n",
       "      <td>4631.23</td>\n",
       "      <td>30</td>\n",
       "      <td>Food</td>\n",
       "      <td>261.56</td>\n",
       "      <td>371.40</td>\n",
       "      <td>Returning</td>\n",
       "      <td>0.20</td>\n",
       "      <td>Bank Transfer</td>\n",
       "      <td>Retail</td>\n",
       "      <td>South-David</td>\n",
       "    </tr>\n",
       "    <tr>\n",
       "      <th>3</th>\n",
       "      <td>1072</td>\n",
       "      <td>2023-08-24</td>\n",
       "      <td>Bob</td>\n",
       "      <td>South</td>\n",
       "      <td>2167.94</td>\n",
       "      <td>39</td>\n",
       "      <td>Clothing</td>\n",
       "      <td>4330.03</td>\n",
       "      <td>4467.75</td>\n",
       "      <td>New</td>\n",
       "      <td>0.02</td>\n",
       "      <td>Credit Card</td>\n",
       "      <td>Retail</td>\n",
       "      <td>South-Bob</td>\n",
       "    </tr>\n",
       "    <tr>\n",
       "      <th>4</th>\n",
       "      <td>1061</td>\n",
       "      <td>2023-03-24</td>\n",
       "      <td>Charlie</td>\n",
       "      <td>East</td>\n",
       "      <td>3750.20</td>\n",
       "      <td>13</td>\n",
       "      <td>Electronics</td>\n",
       "      <td>637.37</td>\n",
       "      <td>692.71</td>\n",
       "      <td>New</td>\n",
       "      <td>0.08</td>\n",
       "      <td>Credit Card</td>\n",
       "      <td>Online</td>\n",
       "      <td>East-Charlie</td>\n",
       "    </tr>\n",
       "  </tbody>\n",
       "</table>\n",
       "</div>"
      ],
      "text/plain": [
       "   Product_ID  Sale_Date Sales_Rep Region  Sales_Amount  Quantity_Sold  \\\n",
       "0        1052 2023-02-03       Bob  North       5053.97             18   \n",
       "1        1093 2023-04-21       Bob   West       4384.02             17   \n",
       "2        1015 2023-09-21     David  South       4631.23             30   \n",
       "3        1072 2023-08-24       Bob  South       2167.94             39   \n",
       "4        1061 2023-03-24   Charlie   East       3750.20             13   \n",
       "\n",
       "  Product_Category  Unit_Cost  Unit_Price Customer_Type  Discount  \\\n",
       "0        Furniture     152.75      267.22     Returning      0.09   \n",
       "1        Furniture    3816.39     4209.44     Returning      0.11   \n",
       "2             Food     261.56      371.40     Returning      0.20   \n",
       "3         Clothing    4330.03     4467.75           New      0.02   \n",
       "4      Electronics     637.37      692.71           New      0.08   \n",
       "\n",
       "  Payment_Method Sales_Channel Region_and_Sales_Rep  \n",
       "0           Cash        Online            North-Bob  \n",
       "1           Cash        Retail             West-Bob  \n",
       "2  Bank Transfer        Retail          South-David  \n",
       "3    Credit Card        Retail            South-Bob  \n",
       "4    Credit Card        Online         East-Charlie  "
      ]
     },
     "execution_count": 7,
     "metadata": {},
     "output_type": "execute_result"
    }
   ],
   "source": [
    "df['Sale_Date'] = pd.to_datetime(df['Sale_Date'])\n",
    "df.head(5)"
   ]
  },
  {
   "cell_type": "code",
   "execution_count": 8,
   "id": "19935f47",
   "metadata": {
    "execution": {
     "iopub.execute_input": "2025-02-19T16:55:04.582290Z",
     "iopub.status.busy": "2025-02-19T16:55:04.581998Z",
     "iopub.status.idle": "2025-02-19T16:55:04.590773Z",
     "shell.execute_reply": "2025-02-19T16:55:04.589568Z"
    },
    "papermill": {
     "duration": 0.017213,
     "end_time": "2025-02-19T16:55:04.592559",
     "exception": false,
     "start_time": "2025-02-19T16:55:04.575346",
     "status": "completed"
    },
    "tags": []
   },
   "outputs": [
    {
     "name": "stdout",
     "output_type": "stream",
     "text": [
      "<class 'pandas.core.frame.DataFrame'>\n",
      "RangeIndex: 1000 entries, 0 to 999\n",
      "Data columns (total 14 columns):\n",
      " #   Column                Non-Null Count  Dtype         \n",
      "---  ------                --------------  -----         \n",
      " 0   Product_ID            1000 non-null   int64         \n",
      " 1   Sale_Date             1000 non-null   datetime64[ns]\n",
      " 2   Sales_Rep             1000 non-null   object        \n",
      " 3   Region                1000 non-null   object        \n",
      " 4   Sales_Amount          1000 non-null   float64       \n",
      " 5   Quantity_Sold         1000 non-null   int64         \n",
      " 6   Product_Category      1000 non-null   object        \n",
      " 7   Unit_Cost             1000 non-null   float64       \n",
      " 8   Unit_Price            1000 non-null   float64       \n",
      " 9   Customer_Type         1000 non-null   object        \n",
      " 10  Discount              1000 non-null   float64       \n",
      " 11  Payment_Method        1000 non-null   object        \n",
      " 12  Sales_Channel         1000 non-null   object        \n",
      " 13  Region_and_Sales_Rep  1000 non-null   object        \n",
      "dtypes: datetime64[ns](1), float64(4), int64(2), object(7)\n",
      "memory usage: 109.5+ KB\n"
     ]
    }
   ],
   "source": [
    "df.info()"
   ]
  },
  {
   "cell_type": "markdown",
   "id": "8a9313ff",
   "metadata": {
    "papermill": {
     "duration": 0.006005,
     "end_time": "2025-02-19T16:55:04.604889",
     "exception": false,
     "start_time": "2025-02-19T16:55:04.598884",
     "status": "completed"
    },
    "tags": []
   },
   "source": [
    "Data Visualization"
   ]
  },
  {
   "cell_type": "code",
   "execution_count": 9,
   "id": "5a7edcf1",
   "metadata": {
    "execution": {
     "iopub.execute_input": "2025-02-19T16:55:04.617731Z",
     "iopub.status.busy": "2025-02-19T16:55:04.617344Z",
     "iopub.status.idle": "2025-02-19T16:55:07.021660Z",
     "shell.execute_reply": "2025-02-19T16:55:07.020695Z"
    },
    "papermill": {
     "duration": 2.412455,
     "end_time": "2025-02-19T16:55:07.023129",
     "exception": false,
     "start_time": "2025-02-19T16:55:04.610674",
     "status": "completed"
    },
    "tags": []
   },
   "outputs": [
    {
     "name": "stderr",
     "output_type": "stream",
     "text": [
      "/usr/local/lib/python3.10/dist-packages/seaborn/_oldcore.py:1119: FutureWarning: use_inf_as_na option is deprecated and will be removed in a future version. Convert inf values to NaN before operating instead.\n",
      "  with pd.option_context('mode.use_inf_as_na', True):\n"
     ]
    },
    {
     "data": {
      "image/png": "[encoded data removed]",
      "text/plain": [
       "<Figure size 1000x800 with 1 Axes>"
      ]
     },
     "metadata": {},
     "output_type": "display_data"
    }
   ],
   "source": [
    "import matplotlib.pyplot as plt\n",
    "import seaborn as sns\n",
    "\n",
    "plt.figure(figsize=(10,8))\n",
    "sns.histplot(df['Sales_Amount'], bins=30, kde=True)\n",
    "plt.xlabel('Slaes Amount')\n",
    "plt.ylabel('Frequency')\n",
    "plt.title(\"Distribution of Sales Amount\")\n",
    "plt.show()"
   ]
  },
  {
   "cell_type": "code",
   "execution_count": 10,
   "id": "85e6deb3",
   "metadata": {
    "execution": {
     "iopub.execute_input": "2025-02-19T16:55:07.038404Z",
     "iopub.status.busy": "2025-02-19T16:55:07.037983Z",
     "iopub.status.idle": "2025-02-19T16:55:07.178979Z",
     "shell.execute_reply": "2025-02-19T16:55:07.178043Z"
    },
    "papermill": {
     "duration": 0.14973,
     "end_time": "2025-02-19T16:55:07.180221",
     "exception": false,
     "start_time": "2025-02-19T16:55:07.030491",
     "status": "completed"
    },
    "tags": []
   },
   "outputs": [
    {
     "data": {
      "image/png": "[encoded data removed]",
      "text/plain": [
       "<Figure size 1000x500 with 1 Axes>"
      ]
     },
     "metadata": {},
     "output_type": "display_data"
    }
   ],
   "source": [
    "top_products = df.groupby('Product_Category')[\"Sales_Amount\"].sum().sort_values(ascending=False)\n",
    "\n",
    "plt.figure(figsize=(10,5))\n",
    "sns.barplot(x=top_products.index, y=top_products.values)\n",
    "plt.title(\"Top Selling Product Categories\")\n",
    "plt.xlabel(\"Product Category\")\n",
    "plt.ylabel(\"Total Sales\")\n",
    "plt.show()"
   ]
  },
  {
   "cell_type": "code",
   "execution_count": 11,
   "id": "b12148b9",
   "metadata": {
    "execution": {
     "iopub.execute_input": "2025-02-19T16:55:07.195301Z",
     "iopub.status.busy": "2025-02-19T16:55:07.195016Z",
     "iopub.status.idle": "2025-02-19T16:55:07.378323Z",
     "shell.execute_reply": "2025-02-19T16:55:07.377369Z"
    },
    "papermill": {
     "duration": 0.192219,
     "end_time": "2025-02-19T16:55:07.379538",
     "exception": false,
     "start_time": "2025-02-19T16:55:07.187319",
     "status": "completed"
    },
    "tags": []
   },
   "outputs": [
    {
     "data": {
      "image/png": "[encoded data removed]",
      "text/plain": [
       "<Figure size 1000x500 with 1 Axes>"
      ]
     },
     "metadata": {},
     "output_type": "display_data"
    }
   ],
   "source": [
    "region_sales = df.groupby(\"Region\")[\"Sales_Amount\"].sum()\n",
    "\n",
    "colors = ['skyblue', 'lightcoral', 'lightgreen', 'gold']\n",
    "\n",
    "plt.figure(figsize=(10,5))\n",
    "region_sales.plot(kind='bar', color= colors)\n",
    "plt.title(\"Total Sales by Region\")\n",
    "plt.xlabel(\"Region\")\n",
    "plt.ylabel('Total Sales')\n",
    "plt.show()"
   ]
  },
  {
   "cell_type": "code",
   "execution_count": 12,
   "id": "da677bf4",
   "metadata": {
    "execution": {
     "iopub.execute_input": "2025-02-19T16:55:07.394864Z",
     "iopub.status.busy": "2025-02-19T16:55:07.394544Z",
     "iopub.status.idle": "2025-02-19T16:55:07.533407Z",
     "shell.execute_reply": "2025-02-19T16:55:07.532344Z"
    },
    "papermill": {
     "duration": 0.148496,
     "end_time": "2025-02-19T16:55:07.535188",
     "exception": false,
     "start_time": "2025-02-19T16:55:07.386692",
     "status": "completed"
    },
    "tags": []
   },
   "outputs": [
    {
     "data": {
      "image/png": "[encoded data removed]",
      "text/plain": [
       "<Figure size 1000x500 with 1 Axes>"
      ]
     },
     "metadata": {},
     "output_type": "display_data"
    }
   ],
   "source": [
    "sales_rep_performance = df.groupby('Sales_Rep')[\"Sales_Amount\"].sum().sort_values(ascending=False)\n",
    "\n",
    "plt.figure(figsize=(10,5))\n",
    "sns.barplot(x=sales_rep_performance.index, y=sales_rep_performance.values)\n",
    "plt.title(\"Sales by Sales Representative\")\n",
    "plt.xlabel(\"Sales Representative\")\n",
    "plt.ylabel(\"Total Sales\")\n",
    "plt.xticks(rotation=45)\n",
    "plt.show()"
   ]
  },
  {
   "cell_type": "code",
   "execution_count": 13,
   "id": "4a23ba1d",
   "metadata": {
    "execution": {
     "iopub.execute_input": "2025-02-19T16:55:07.552499Z",
     "iopub.status.busy": "2025-02-19T16:55:07.552164Z",
     "iopub.status.idle": "2025-02-19T16:55:07.566562Z",
     "shell.execute_reply": "2025-02-19T16:55:07.565566Z"
    },
    "papermill": {
     "duration": 0.025085,
     "end_time": "2025-02-19T16:55:07.568553",
     "exception": false,
     "start_time": "2025-02-19T16:55:07.543468",
     "status": "completed"
    },
    "tags": []
   },
   "outputs": [
    {
     "data": {
      "text/html": [
       "<div>\n",
       "<style scoped>\n",
       "    .dataframe tbody tr th:only-of-type {\n",
       "        vertical-align: middle;\n",
       "    }\n",
       "\n",
       "    .dataframe tbody tr th {\n",
       "        vertical-align: top;\n",
       "    }\n",
       "\n",
       "    .dataframe thead th {\n",
       "        text-align: right;\n",
       "    }\n",
       "</style>\n",
       "<table border=\"1\" class=\"dataframe\">\n",
       "  <thead>\n",
       "    <tr style=\"text-align: right;\">\n",
       "      <th></th>\n",
       "      <th>Product_ID</th>\n",
       "      <th>Sale_Date</th>\n",
       "      <th>Sales_Rep</th>\n",
       "      <th>Region</th>\n",
       "      <th>Sales_Amount</th>\n",
       "      <th>Quantity_Sold</th>\n",
       "      <th>Product_Category</th>\n",
       "      <th>Unit_Cost</th>\n",
       "      <th>Unit_Price</th>\n",
       "      <th>Customer_Type</th>\n",
       "      <th>Discount</th>\n",
       "      <th>Payment_Method</th>\n",
       "      <th>Sales_Channel</th>\n",
       "      <th>Region_and_Sales_Rep</th>\n",
       "      <th>Profit</th>\n",
       "    </tr>\n",
       "  </thead>\n",
       "  <tbody>\n",
       "    <tr>\n",
       "      <th>0</th>\n",
       "      <td>1052</td>\n",
       "      <td>2023-02-03</td>\n",
       "      <td>Bob</td>\n",
       "      <td>North</td>\n",
       "      <td>5053.97</td>\n",
       "      <td>18</td>\n",
       "      <td>Furniture</td>\n",
       "      <td>152.75</td>\n",
       "      <td>267.22</td>\n",
       "      <td>Returning</td>\n",
       "      <td>0.09</td>\n",
       "      <td>Cash</td>\n",
       "      <td>Online</td>\n",
       "      <td>North-Bob</td>\n",
       "      <td>2304.47</td>\n",
       "    </tr>\n",
       "    <tr>\n",
       "      <th>1</th>\n",
       "      <td>1093</td>\n",
       "      <td>2023-04-21</td>\n",
       "      <td>Bob</td>\n",
       "      <td>West</td>\n",
       "      <td>4384.02</td>\n",
       "      <td>17</td>\n",
       "      <td>Furniture</td>\n",
       "      <td>3816.39</td>\n",
       "      <td>4209.44</td>\n",
       "      <td>Returning</td>\n",
       "      <td>0.11</td>\n",
       "      <td>Cash</td>\n",
       "      <td>Retail</td>\n",
       "      <td>West-Bob</td>\n",
       "      <td>-60494.61</td>\n",
       "    </tr>\n",
       "    <tr>\n",
       "      <th>2</th>\n",
       "      <td>1015</td>\n",
       "      <td>2023-09-21</td>\n",
       "      <td>David</td>\n",
       "      <td>South</td>\n",
       "      <td>4631.23</td>\n",
       "      <td>30</td>\n",
       "      <td>Food</td>\n",
       "      <td>261.56</td>\n",
       "      <td>371.40</td>\n",
       "      <td>Returning</td>\n",
       "      <td>0.20</td>\n",
       "      <td>Bank Transfer</td>\n",
       "      <td>Retail</td>\n",
       "      <td>South-David</td>\n",
       "      <td>-3215.57</td>\n",
       "    </tr>\n",
       "    <tr>\n",
       "      <th>3</th>\n",
       "      <td>1072</td>\n",
       "      <td>2023-08-24</td>\n",
       "      <td>Bob</td>\n",
       "      <td>South</td>\n",
       "      <td>2167.94</td>\n",
       "      <td>39</td>\n",
       "      <td>Clothing</td>\n",
       "      <td>4330.03</td>\n",
       "      <td>4467.75</td>\n",
       "      <td>New</td>\n",
       "      <td>0.02</td>\n",
       "      <td>Credit Card</td>\n",
       "      <td>Retail</td>\n",
       "      <td>South-Bob</td>\n",
       "      <td>-166703.23</td>\n",
       "    </tr>\n",
       "    <tr>\n",
       "      <th>4</th>\n",
       "      <td>1061</td>\n",
       "      <td>2023-03-24</td>\n",
       "      <td>Charlie</td>\n",
       "      <td>East</td>\n",
       "      <td>3750.20</td>\n",
       "      <td>13</td>\n",
       "      <td>Electronics</td>\n",
       "      <td>637.37</td>\n",
       "      <td>692.71</td>\n",
       "      <td>New</td>\n",
       "      <td>0.08</td>\n",
       "      <td>Credit Card</td>\n",
       "      <td>Online</td>\n",
       "      <td>East-Charlie</td>\n",
       "      <td>-4535.61</td>\n",
       "    </tr>\n",
       "  </tbody>\n",
       "</table>\n",
       "</div>"
      ],
      "text/plain": [
       "   Product_ID  Sale_Date Sales_Rep Region  Sales_Amount  Quantity_Sold  \\\n",
       "0        1052 2023-02-03       Bob  North       5053.97             18   \n",
       "1        1093 2023-04-21       Bob   West       4384.02             17   \n",
       "2        1015 2023-09-21     David  South       4631.23             30   \n",
       "3        1072 2023-08-24       Bob  South       2167.94             39   \n",
       "4        1061 2023-03-24   Charlie   East       3750.20             13   \n",
       "\n",
       "  Product_Category  Unit_Cost  Unit_Price Customer_Type  Discount  \\\n",
       "0        Furniture     152.75      267.22     Returning      0.09   \n",
       "1        Furniture    3816.39     4209.44     Returning      0.11   \n",
       "2             Food     261.56      371.40     Returning      0.20   \n",
       "3         Clothing    4330.03     4467.75           New      0.02   \n",
       "4      Electronics     637.37      692.71           New      0.08   \n",
       "\n",
       "  Payment_Method Sales_Channel Region_and_Sales_Rep     Profit  \n",
       "0           Cash        Online            North-Bob    2304.47  \n",
       "1           Cash        Retail             West-Bob  -60494.61  \n",
       "2  Bank Transfer        Retail          South-David   -3215.57  \n",
       "3    Credit Card        Retail            South-Bob -166703.23  \n",
       "4    Credit Card        Online         East-Charlie   -4535.61  "
      ]
     },
     "execution_count": 13,
     "metadata": {},
     "output_type": "execute_result"
    }
   ],
   "source": [
    "df[\"Profit\"] = df[\"Sales_Amount\"] - (df[\"Unit_Cost\"] * df[\"Quantity_Sold\"])\n",
    "df.head()"
   ]
  },
  {
   "cell_type": "code",
   "execution_count": 14,
   "id": "0ccc7fdf",
   "metadata": {
    "execution": {
     "iopub.execute_input": "2025-02-19T16:55:07.585696Z",
     "iopub.status.busy": "2025-02-19T16:55:07.585367Z",
     "iopub.status.idle": "2025-02-19T16:55:07.590375Z",
     "shell.execute_reply": "2025-02-19T16:55:07.589585Z"
    },
    "papermill": {
     "duration": 0.014797,
     "end_time": "2025-02-19T16:55:07.591538",
     "exception": false,
     "start_time": "2025-02-19T16:55:07.576741",
     "status": "completed"
    },
    "tags": []
   },
   "outputs": [
    {
     "name": "stdout",
     "output_type": "stream",
     "text": [
      "Categorical Columns: Index(['Sales_Rep', 'Region', 'Product_Category', 'Customer_Type',\n",
      "       'Payment_Method', 'Sales_Channel', 'Region_and_Sales_Rep'],\n",
      "      dtype='object')\n"
     ]
    }
   ],
   "source": [
    "# Identify categorical columns\n",
    "categorical_cols = df.select_dtypes(include=['object']).columns\n",
    "print(\"Categorical Columns:\", categorical_cols)\n"
   ]
  },
  {
   "cell_type": "code",
   "execution_count": 15,
   "id": "4d266b92",
   "metadata": {
    "execution": {
     "iopub.execute_input": "2025-02-19T16:55:07.608586Z",
     "iopub.status.busy": "2025-02-19T16:55:07.608257Z",
     "iopub.status.idle": "2025-02-19T16:55:07.813036Z",
     "shell.execute_reply": "2025-02-19T16:55:07.812290Z"
    },
    "papermill": {
     "duration": 0.214461,
     "end_time": "2025-02-19T16:55:07.814208",
     "exception": false,
     "start_time": "2025-02-19T16:55:07.599747",
     "status": "completed"
    },
    "tags": []
   },
   "outputs": [
    {
     "name": "stdout",
     "output_type": "stream",
     "text": [
      "[1 0]\n"
     ]
    }
   ],
   "source": [
    "from sklearn.preprocessing import LabelEncoder\n",
    "\n",
    "\n",
    "label_encoder = LabelEncoder()\n",
    "df[\"Customer_Type\"] = label_encoder.fit_transform(df[\"Customer_Type\"])\n",
    "\n",
    "\n",
    "print(df[\"Customer_Type\"].unique())\n"
   ]
  },
  {
   "cell_type": "code",
   "execution_count": 16,
   "id": "7f588eff",
   "metadata": {
    "execution": {
     "iopub.execute_input": "2025-02-19T16:55:07.831466Z",
     "iopub.status.busy": "2025-02-19T16:55:07.831124Z",
     "iopub.status.idle": "2025-02-19T16:55:07.848102Z",
     "shell.execute_reply": "2025-02-19T16:55:07.846823Z"
    },
    "papermill": {
     "duration": 0.027205,
     "end_time": "2025-02-19T16:55:07.849564",
     "exception": false,
     "start_time": "2025-02-19T16:55:07.822359",
     "status": "completed"
    },
    "tags": []
   },
   "outputs": [
    {
     "name": "stdout",
     "output_type": "stream",
     "text": [
      "Average Sales by Sales_Rep:\n",
      "Sales_Rep\n",
      "Alice      5028.863385\n",
      "Bob        5197.070337\n",
      "Charlie    5093.559053\n",
      "David      5142.961081\n",
      "Eve        4642.028660\n",
      "Name: Sales_Amount, dtype: float64 \n",
      "\n",
      "Average Sales by Region:\n",
      "Region\n",
      "East     4790.087186\n",
      "North    5129.634869\n",
      "South    5107.304690\n",
      "West     5063.971025\n",
      "Name: Sales_Amount, dtype: float64 \n",
      "\n",
      "Average Sales by Product_Category:\n",
      "Product_Category\n",
      "Clothing       4901.023731\n",
      "Electronics    5054.876585\n",
      "Food           5317.582035\n",
      "Furniture      4848.144962\n",
      "Name: Sales_Amount, dtype: float64 \n",
      "\n",
      "Average Sales by Customer_Type:\n",
      "Customer_Type\n",
      "0    4972.734722\n",
      "1    5066.546230\n",
      "Name: Sales_Amount, dtype: float64 \n",
      "\n",
      "Average Sales by Payment_Method:\n",
      "Payment_Method\n",
      "Bank Transfer    5021.529737\n",
      "Cash             4933.988946\n",
      "Credit Card      5094.387014\n",
      "Name: Sales_Amount, dtype: float64 \n",
      "\n",
      "Average Sales by Sales_Channel:\n",
      "Sales_Channel\n",
      "Online    5038.594119\n",
      "Retail    5000.842383\n",
      "Name: Sales_Amount, dtype: float64 \n",
      "\n",
      "Average Sales by Region_and_Sales_Rep:\n",
      "Region_and_Sales_Rep\n",
      "East-Alice       5015.182115\n",
      "East-Bob         5164.601833\n",
      "East-Charlie     4464.133514\n",
      "East-David       4823.957797\n",
      "East-Eve         4351.652727\n",
      "North-Alice      5200.983750\n",
      "North-Bob        5306.018409\n",
      "North-Charlie    5450.709273\n",
      "North-David      5045.344107\n",
      "North-Eve        4752.690625\n",
      "South-Alice      5320.323111\n",
      "South-Bob        5024.008600\n",
      "South-Charlie    4879.396250\n",
      "South-David      5561.017679\n",
      "South-Eve        4559.958605\n",
      "West-Alice       4589.160426\n",
      "West-Bob         5304.616296\n",
      "West-Charlie     5326.863333\n",
      "West-David       5160.148824\n",
      "West-Eve         4906.227021\n",
      "Name: Sales_Amount, dtype: float64 \n",
      "\n"
     ]
    }
   ],
   "source": [
    "for col in categorical_cols:\n",
    "    print(f\"Average Sales by {col}:\")\n",
    "    print(df.groupby(col)['Sales_Amount'].mean(), \"\\n\")\n"
   ]
  },
  {
   "cell_type": "code",
   "execution_count": 17,
   "id": "be6a9d0e",
   "metadata": {
    "execution": {
     "iopub.execute_input": "2025-02-19T16:55:07.867460Z",
     "iopub.status.busy": "2025-02-19T16:55:07.867083Z",
     "iopub.status.idle": "2025-02-19T16:55:07.875324Z",
     "shell.execute_reply": "2025-02-19T16:55:07.874383Z"
    },
    "papermill": {
     "duration": 0.018633,
     "end_time": "2025-02-19T16:55:07.876671",
     "exception": false,
     "start_time": "2025-02-19T16:55:07.858038",
     "status": "completed"
    },
    "tags": []
   },
   "outputs": [
    {
     "name": "stdout",
     "output_type": "stream",
     "text": [
      "Dropped columns: ['Payment_Method', 'Sales_Channel', 'Region_and_Sales_Rep']\n"
     ]
    }
   ],
   "source": [
    "\n",
    "\n",
    "drop_categorical = ['Payment_Method', 'Sales_Channel', 'Region_and_Sales_Rep']\n",
    "df = df.drop(columns=drop_categorical)\n",
    "\n",
    "print(\"Dropped columns:\", drop_categorical)\n"
   ]
  },
  {
   "cell_type": "code",
   "execution_count": 18,
   "id": "d2a0f53e",
   "metadata": {
    "execution": {
     "iopub.execute_input": "2025-02-19T16:55:07.893949Z",
     "iopub.status.busy": "2025-02-19T16:55:07.893688Z",
     "iopub.status.idle": "2025-02-19T16:55:07.905995Z",
     "shell.execute_reply": "2025-02-19T16:55:07.904984Z"
    },
    "papermill": {
     "duration": 0.022278,
     "end_time": "2025-02-19T16:55:07.907305",
     "exception": false,
     "start_time": "2025-02-19T16:55:07.885027",
     "status": "completed"
    },
    "tags": []
   },
   "outputs": [
    {
     "data": {
      "text/html": [
       "<div>\n",
       "<style scoped>\n",
       "    .dataframe tbody tr th:only-of-type {\n",
       "        vertical-align: middle;\n",
       "    }\n",
       "\n",
       "    .dataframe tbody tr th {\n",
       "        vertical-align: top;\n",
       "    }\n",
       "\n",
       "    .dataframe thead th {\n",
       "        text-align: right;\n",
       "    }\n",
       "</style>\n",
       "<table border=\"1\" class=\"dataframe\">\n",
       "  <thead>\n",
       "    <tr style=\"text-align: right;\">\n",
       "      <th></th>\n",
       "      <th>Product_ID</th>\n",
       "      <th>Sale_Date</th>\n",
       "      <th>Sales_Rep</th>\n",
       "      <th>Region</th>\n",
       "      <th>Sales_Amount</th>\n",
       "      <th>Quantity_Sold</th>\n",
       "      <th>Product_Category</th>\n",
       "      <th>Unit_Cost</th>\n",
       "      <th>Unit_Price</th>\n",
       "      <th>Customer_Type</th>\n",
       "      <th>Discount</th>\n",
       "      <th>Profit</th>\n",
       "    </tr>\n",
       "  </thead>\n",
       "  <tbody>\n",
       "    <tr>\n",
       "      <th>0</th>\n",
       "      <td>1052</td>\n",
       "      <td>2023-02-03</td>\n",
       "      <td>Bob</td>\n",
       "      <td>North</td>\n",
       "      <td>5053.97</td>\n",
       "      <td>18</td>\n",
       "      <td>Furniture</td>\n",
       "      <td>152.75</td>\n",
       "      <td>267.22</td>\n",
       "      <td>1</td>\n",
       "      <td>0.09</td>\n",
       "      <td>2304.47</td>\n",
       "    </tr>\n",
       "    <tr>\n",
       "      <th>1</th>\n",
       "      <td>1093</td>\n",
       "      <td>2023-04-21</td>\n",
       "      <td>Bob</td>\n",
       "      <td>West</td>\n",
       "      <td>4384.02</td>\n",
       "      <td>17</td>\n",
       "      <td>Furniture</td>\n",
       "      <td>3816.39</td>\n",
       "      <td>4209.44</td>\n",
       "      <td>1</td>\n",
       "      <td>0.11</td>\n",
       "      <td>-60494.61</td>\n",
       "    </tr>\n",
       "    <tr>\n",
       "      <th>2</th>\n",
       "      <td>1015</td>\n",
       "      <td>2023-09-21</td>\n",
       "      <td>David</td>\n",
       "      <td>South</td>\n",
       "      <td>4631.23</td>\n",
       "      <td>30</td>\n",
       "      <td>Food</td>\n",
       "      <td>261.56</td>\n",
       "      <td>371.40</td>\n",
       "      <td>1</td>\n",
       "      <td>0.20</td>\n",
       "      <td>-3215.57</td>\n",
       "    </tr>\n",
       "    <tr>\n",
       "      <th>3</th>\n",
       "      <td>1072</td>\n",
       "      <td>2023-08-24</td>\n",
       "      <td>Bob</td>\n",
       "      <td>South</td>\n",
       "      <td>2167.94</td>\n",
       "      <td>39</td>\n",
       "      <td>Clothing</td>\n",
       "      <td>4330.03</td>\n",
       "      <td>4467.75</td>\n",
       "      <td>0</td>\n",
       "      <td>0.02</td>\n",
       "      <td>-166703.23</td>\n",
       "    </tr>\n",
       "    <tr>\n",
       "      <th>4</th>\n",
       "      <td>1061</td>\n",
       "      <td>2023-03-24</td>\n",
       "      <td>Charlie</td>\n",
       "      <td>East</td>\n",
       "      <td>3750.20</td>\n",
       "      <td>13</td>\n",
       "      <td>Electronics</td>\n",
       "      <td>637.37</td>\n",
       "      <td>692.71</td>\n",
       "      <td>0</td>\n",
       "      <td>0.08</td>\n",
       "      <td>-4535.61</td>\n",
       "    </tr>\n",
       "  </tbody>\n",
       "</table>\n",
       "</div>"
      ],
      "text/plain": [
       "   Product_ID  Sale_Date Sales_Rep Region  Sales_Amount  Quantity_Sold  \\\n",
       "0        1052 2023-02-03       Bob  North       5053.97             18   \n",
       "1        1093 2023-04-21       Bob   West       4384.02             17   \n",
       "2        1015 2023-09-21     David  South       4631.23             30   \n",
       "3        1072 2023-08-24       Bob  South       2167.94             39   \n",
       "4        1061 2023-03-24   Charlie   East       3750.20             13   \n",
       "\n",
       "  Product_Category  Unit_Cost  Unit_Price  Customer_Type  Discount     Profit  \n",
       "0        Furniture     152.75      267.22              1      0.09    2304.47  \n",
       "1        Furniture    3816.39     4209.44              1      0.11  -60494.61  \n",
       "2             Food     261.56      371.40              1      0.20   -3215.57  \n",
       "3         Clothing    4330.03     4467.75              0      0.02 -166703.23  \n",
       "4      Electronics     637.37      692.71              0      0.08   -4535.61  "
      ]
     },
     "execution_count": 18,
     "metadata": {},
     "output_type": "execute_result"
    }
   ],
   "source": [
    "df.head()"
   ]
  },
  {
   "cell_type": "code",
   "execution_count": 19,
   "id": "b085fa61",
   "metadata": {
    "execution": {
     "iopub.execute_input": "2025-02-19T16:55:07.924737Z",
     "iopub.status.busy": "2025-02-19T16:55:07.924432Z",
     "iopub.status.idle": "2025-02-19T16:55:07.929635Z",
     "shell.execute_reply": "2025-02-19T16:55:07.928754Z"
    },
    "papermill": {
     "duration": 0.015564,
     "end_time": "2025-02-19T16:55:07.931392",
     "exception": false,
     "start_time": "2025-02-19T16:55:07.915828",
     "status": "completed"
    },
    "tags": []
   },
   "outputs": [
    {
     "data": {
      "text/plain": [
       "array(['North', 'West', 'South', 'East'], dtype=object)"
      ]
     },
     "execution_count": 19,
     "metadata": {},
     "output_type": "execute_result"
    }
   ],
   "source": [
    "df['Region'].unique()"
   ]
  },
  {
   "cell_type": "code",
   "execution_count": 20,
   "id": "343d67e1",
   "metadata": {
    "execution": {
     "iopub.execute_input": "2025-02-19T16:55:07.950623Z",
     "iopub.status.busy": "2025-02-19T16:55:07.950248Z",
     "iopub.status.idle": "2025-02-19T16:55:07.970799Z",
     "shell.execute_reply": "2025-02-19T16:55:07.969916Z"
    },
    "papermill": {
     "duration": 0.030822,
     "end_time": "2025-02-19T16:55:07.972060",
     "exception": false,
     "start_time": "2025-02-19T16:55:07.941238",
     "status": "completed"
    },
    "tags": []
   },
   "outputs": [
    {
     "data": {
      "text/html": [
       "<div>\n",
       "<style scoped>\n",
       "    .dataframe tbody tr th:only-of-type {\n",
       "        vertical-align: middle;\n",
       "    }\n",
       "\n",
       "    .dataframe tbody tr th {\n",
       "        vertical-align: top;\n",
       "    }\n",
       "\n",
       "    .dataframe thead th {\n",
       "        text-align: right;\n",
       "    }\n",
       "</style>\n",
       "<table border=\"1\" class=\"dataframe\">\n",
       "  <thead>\n",
       "    <tr style=\"text-align: right;\">\n",
       "      <th></th>\n",
       "      <th>Product_ID</th>\n",
       "      <th>Sale_Date</th>\n",
       "      <th>Sales_Amount</th>\n",
       "      <th>Quantity_Sold</th>\n",
       "      <th>Unit_Cost</th>\n",
       "      <th>Unit_Price</th>\n",
       "      <th>Customer_Type</th>\n",
       "      <th>Discount</th>\n",
       "      <th>Profit</th>\n",
       "      <th>Sales_Rep_Bob</th>\n",
       "      <th>Sales_Rep_Charlie</th>\n",
       "      <th>Sales_Rep_David</th>\n",
       "      <th>Sales_Rep_Eve</th>\n",
       "      <th>Region_North</th>\n",
       "      <th>Region_South</th>\n",
       "      <th>Region_West</th>\n",
       "      <th>Product_Category_Electronics</th>\n",
       "      <th>Product_Category_Food</th>\n",
       "      <th>Product_Category_Furniture</th>\n",
       "    </tr>\n",
       "  </thead>\n",
       "  <tbody>\n",
       "    <tr>\n",
       "      <th>0</th>\n",
       "      <td>1052</td>\n",
       "      <td>2023-02-03</td>\n",
       "      <td>5053.97</td>\n",
       "      <td>18</td>\n",
       "      <td>152.75</td>\n",
       "      <td>267.22</td>\n",
       "      <td>1</td>\n",
       "      <td>0.09</td>\n",
       "      <td>2304.47</td>\n",
       "      <td>True</td>\n",
       "      <td>False</td>\n",
       "      <td>False</td>\n",
       "      <td>False</td>\n",
       "      <td>True</td>\n",
       "      <td>False</td>\n",
       "      <td>False</td>\n",
       "      <td>False</td>\n",
       "      <td>False</td>\n",
       "      <td>True</td>\n",
       "    </tr>\n",
       "    <tr>\n",
       "      <th>1</th>\n",
       "      <td>1093</td>\n",
       "      <td>2023-04-21</td>\n",
       "      <td>4384.02</td>\n",
       "      <td>17</td>\n",
       "      <td>3816.39</td>\n",
       "      <td>4209.44</td>\n",
       "      <td>1</td>\n",
       "      <td>0.11</td>\n",
       "      <td>-60494.61</td>\n",
       "      <td>True</td>\n",
       "      <td>False</td>\n",
       "      <td>False</td>\n",
       "      <td>False</td>\n",
       "      <td>False</td>\n",
       "      <td>False</td>\n",
       "      <td>True</td>\n",
       "      <td>False</td>\n",
       "      <td>False</td>\n",
       "      <td>True</td>\n",
       "    </tr>\n",
       "    <tr>\n",
       "      <th>2</th>\n",
       "      <td>1015</td>\n",
       "      <td>2023-09-21</td>\n",
       "      <td>4631.23</td>\n",
       "      <td>30</td>\n",
       "      <td>261.56</td>\n",
       "      <td>371.40</td>\n",
       "      <td>1</td>\n",
       "      <td>0.20</td>\n",
       "      <td>-3215.57</td>\n",
       "      <td>False</td>\n",
       "      <td>False</td>\n",
       "      <td>True</td>\n",
       "      <td>False</td>\n",
       "      <td>False</td>\n",
       "      <td>True</td>\n",
       "      <td>False</td>\n",
       "      <td>False</td>\n",
       "      <td>True</td>\n",
       "      <td>False</td>\n",
       "    </tr>\n",
       "    <tr>\n",
       "      <th>3</th>\n",
       "      <td>1072</td>\n",
       "      <td>2023-08-24</td>\n",
       "      <td>2167.94</td>\n",
       "      <td>39</td>\n",
       "      <td>4330.03</td>\n",
       "      <td>4467.75</td>\n",
       "      <td>0</td>\n",
       "      <td>0.02</td>\n",
       "      <td>-166703.23</td>\n",
       "      <td>True</td>\n",
       "      <td>False</td>\n",
       "      <td>False</td>\n",
       "      <td>False</td>\n",
       "      <td>False</td>\n",
       "      <td>True</td>\n",
       "      <td>False</td>\n",
       "      <td>False</td>\n",
       "      <td>False</td>\n",
       "      <td>False</td>\n",
       "    </tr>\n",
       "    <tr>\n",
       "      <th>4</th>\n",
       "      <td>1061</td>\n",
       "      <td>2023-03-24</td>\n",
       "      <td>3750.20</td>\n",
       "      <td>13</td>\n",
       "      <td>637.37</td>\n",
       "      <td>692.71</td>\n",
       "      <td>0</td>\n",
       "      <td>0.08</td>\n",
       "      <td>-4535.61</td>\n",
       "      <td>False</td>\n",
       "      <td>True</td>\n",
       "      <td>False</td>\n",
       "      <td>False</td>\n",
       "      <td>False</td>\n",
       "      <td>False</td>\n",
       "      <td>False</td>\n",
       "      <td>True</td>\n",
       "      <td>False</td>\n",
       "      <td>False</td>\n",
       "    </tr>\n",
       "  </tbody>\n",
       "</table>\n",
       "</div>"
      ],
      "text/plain": [
       "   Product_ID  Sale_Date  Sales_Amount  Quantity_Sold  Unit_Cost  Unit_Price  \\\n",
       "0        1052 2023-02-03       5053.97             18     152.75      267.22   \n",
       "1        1093 2023-04-21       4384.02             17    3816.39     4209.44   \n",
       "2        1015 2023-09-21       4631.23             30     261.56      371.40   \n",
       "3        1072 2023-08-24       2167.94             39    4330.03     4467.75   \n",
       "4        1061 2023-03-24       3750.20             13     637.37      692.71   \n",
       "\n",
       "   Customer_Type  Discount     Profit  Sales_Rep_Bob  Sales_Rep_Charlie  \\\n",
       "0              1      0.09    2304.47           True              False   \n",
       "1              1      0.11  -60494.61           True              False   \n",
       "2              1      0.20   -3215.57          False              False   \n",
       "3              0      0.02 -166703.23           True              False   \n",
       "4              0      0.08   -4535.61          False               True   \n",
       "\n",
       "   Sales_Rep_David  Sales_Rep_Eve  Region_North  Region_South  Region_West  \\\n",
       "0            False          False          True         False        False   \n",
       "1            False          False         False         False         True   \n",
       "2             True          False         False          True        False   \n",
       "3            False          False         False          True        False   \n",
       "4            False          False         False         False        False   \n",
       "\n",
       "   Product_Category_Electronics  Product_Category_Food  \\\n",
       "0                         False                  False   \n",
       "1                         False                  False   \n",
       "2                         False                   True   \n",
       "3                         False                  False   \n",
       "4                          True                  False   \n",
       "\n",
       "   Product_Category_Furniture  \n",
       "0                        True  \n",
       "1                        True  \n",
       "2                       False  \n",
       "3                       False  \n",
       "4                       False  "
      ]
     },
     "execution_count": 20,
     "metadata": {},
     "output_type": "execute_result"
    }
   ],
   "source": [
    "df = pd.get_dummies(df, columns=['Sales_Rep', 'Region', 'Product_Category'], drop_first=True)\n",
    "df.head()"
   ]
  },
  {
   "cell_type": "code",
   "execution_count": 21,
   "id": "ef184945",
   "metadata": {
    "execution": {
     "iopub.execute_input": "2025-02-19T16:55:07.991923Z",
     "iopub.status.busy": "2025-02-19T16:55:07.991630Z",
     "iopub.status.idle": "2025-02-19T16:55:08.000106Z",
     "shell.execute_reply": "2025-02-19T16:55:07.999286Z"
    },
    "papermill": {
     "duration": 0.020618,
     "end_time": "2025-02-19T16:55:08.001717",
     "exception": false,
     "start_time": "2025-02-19T16:55:07.981099",
     "status": "completed"
    },
    "tags": []
   },
   "outputs": [
    {
     "name": "stdout",
     "output_type": "stream",
     "text": [
      "<class 'pandas.core.frame.DataFrame'>\n",
      "RangeIndex: 1000 entries, 0 to 999\n",
      "Data columns (total 19 columns):\n",
      " #   Column                        Non-Null Count  Dtype         \n",
      "---  ------                        --------------  -----         \n",
      " 0   Product_ID                    1000 non-null   int64         \n",
      " 1   Sale_Date                     1000 non-null   datetime64[ns]\n",
      " 2   Sales_Amount                  1000 non-null   float64       \n",
      " 3   Quantity_Sold                 1000 non-null   int64         \n",
      " 4   Unit_Cost                     1000 non-null   float64       \n",
      " 5   Unit_Price                    1000 non-null   float64       \n",
      " 6   Customer_Type                 1000 non-null   int64         \n",
      " 7   Discount                      1000 non-null   float64       \n",
      " 8   Profit                        1000 non-null   float64       \n",
      " 9   Sales_Rep_Bob                 1000 non-null   bool          \n",
      " 10  Sales_Rep_Charlie             1000 non-null   bool          \n",
      " 11  Sales_Rep_David               1000 non-null   bool          \n",
      " 12  Sales_Rep_Eve                 1000 non-null   bool          \n",
      " 13  Region_North                  1000 non-null   bool          \n",
      " 14  Region_South                  1000 non-null   bool          \n",
      " 15  Region_West                   1000 non-null   bool          \n",
      " 16  Product_Category_Electronics  1000 non-null   bool          \n",
      " 17  Product_Category_Food         1000 non-null   bool          \n",
      " 18  Product_Category_Furniture    1000 non-null   bool          \n",
      "dtypes: bool(10), datetime64[ns](1), float64(5), int64(3)\n",
      "memory usage: 80.2 KB\n"
     ]
    }
   ],
   "source": [
    "df.info()"
   ]
  },
  {
   "cell_type": "code",
   "execution_count": 22,
   "id": "19223b0e",
   "metadata": {
    "execution": {
     "iopub.execute_input": "2025-02-19T16:55:08.020203Z",
     "iopub.status.busy": "2025-02-19T16:55:08.019933Z",
     "iopub.status.idle": "2025-02-19T16:55:08.029066Z",
     "shell.execute_reply": "2025-02-19T16:55:08.027588Z"
    },
    "papermill": {
     "duration": 0.020057,
     "end_time": "2025-02-19T16:55:08.030741",
     "exception": false,
     "start_time": "2025-02-19T16:55:08.010684",
     "status": "completed"
    },
    "tags": []
   },
   "outputs": [
    {
     "name": "stdout",
     "output_type": "stream",
     "text": [
      "Boolean Columns: ['Sales_Rep_Bob', 'Sales_Rep_Charlie', 'Sales_Rep_David', 'Sales_Rep_Eve', 'Region_North', 'Region_South', 'Region_West', 'Product_Category_Electronics', 'Product_Category_Food', 'Product_Category_Furniture']\n",
      "Product_ID                               int64\n",
      "Sale_Date                       datetime64[ns]\n",
      "Sales_Amount                           float64\n",
      "Quantity_Sold                            int64\n",
      "Unit_Cost                              float64\n",
      "Unit_Price                             float64\n",
      "Customer_Type                            int64\n",
      "Discount                               float64\n",
      "Profit                                 float64\n",
      "Sales_Rep_Bob                            int64\n",
      "Sales_Rep_Charlie                        int64\n",
      "Sales_Rep_David                          int64\n",
      "Sales_Rep_Eve                            int64\n",
      "Region_North                             int64\n",
      "Region_South                             int64\n",
      "Region_West                              int64\n",
      "Product_Category_Electronics             int64\n",
      "Product_Category_Food                    int64\n",
      "Product_Category_Furniture               int64\n",
      "dtype: object\n"
     ]
    }
   ],
   "source": [
    "bool_cols = df.select_dtypes(include=['bool']).columns.tolist()\n",
    "print(\"Boolean Columns:\", bool_cols)\n",
    "\n",
    "for col in bool_cols:\n",
    "    df[col] = df[col].astype(int)\n",
    "\n",
    "print(df.dtypes)"
   ]
  },
  {
   "cell_type": "code",
   "execution_count": 23,
   "id": "ae5816f1",
   "metadata": {
    "execution": {
     "iopub.execute_input": "2025-02-19T16:55:08.049948Z",
     "iopub.status.busy": "2025-02-19T16:55:08.049630Z",
     "iopub.status.idle": "2025-02-19T16:55:08.055484Z",
     "shell.execute_reply": "2025-02-19T16:55:08.054099Z"
    },
    "papermill": {
     "duration": 0.016935,
     "end_time": "2025-02-19T16:55:08.057150",
     "exception": false,
     "start_time": "2025-02-19T16:55:08.040215",
     "status": "completed"
    },
    "tags": []
   },
   "outputs": [],
   "source": [
    "df = df.drop(columns=['Sale_Date'])\n"
   ]
  },
  {
   "cell_type": "code",
   "execution_count": 24,
   "id": "430a47fd",
   "metadata": {
    "execution": {
     "iopub.execute_input": "2025-02-19T16:55:08.076871Z",
     "iopub.status.busy": "2025-02-19T16:55:08.076509Z",
     "iopub.status.idle": "2025-02-19T16:55:08.084618Z",
     "shell.execute_reply": "2025-02-19T16:55:08.083891Z"
    },
    "papermill": {
     "duration": 0.018937,
     "end_time": "2025-02-19T16:55:08.085736",
     "exception": false,
     "start_time": "2025-02-19T16:55:08.066799",
     "status": "completed"
    },
    "tags": []
   },
   "outputs": [],
   "source": [
    "from sklearn.preprocessing import StandardScaler\n",
    "\n",
    "scaler= StandardScaler()\n",
    "\n",
    "num_cols = [\"Quantity_Sold\", \"Unit_Cost\", \"Unit_Price\", \"Discount\", \"Profit\"]\n",
    "\n",
    "df[num_cols] = scaler.fit_transform(df[num_cols])"
   ]
  },
  {
   "cell_type": "code",
   "execution_count": 25,
   "id": "784d0eab",
   "metadata": {
    "execution": {
     "iopub.execute_input": "2025-02-19T16:55:08.103509Z",
     "iopub.status.busy": "2025-02-19T16:55:08.103223Z",
     "iopub.status.idle": "2025-02-19T16:55:08.114773Z",
     "shell.execute_reply": "2025-02-19T16:55:08.113578Z"
    },
    "papermill": {
     "duration": 0.02136,
     "end_time": "2025-02-19T16:55:08.115895",
     "exception": false,
     "start_time": "2025-02-19T16:55:08.094535",
     "status": "completed"
    },
    "tags": []
   },
   "outputs": [
    {
     "data": {
      "text/html": [
       "<div>\n",
       "<style scoped>\n",
       "    .dataframe tbody tr th:only-of-type {\n",
       "        vertical-align: middle;\n",
       "    }\n",
       "\n",
       "    .dataframe tbody tr th {\n",
       "        vertical-align: top;\n",
       "    }\n",
       "\n",
       "    .dataframe thead th {\n",
       "        text-align: right;\n",
       "    }\n",
       "</style>\n",
       "<table border=\"1\" class=\"dataframe\">\n",
       "  <thead>\n",
       "    <tr style=\"text-align: right;\">\n",
       "      <th></th>\n",
       "      <th>Product_ID</th>\n",
       "      <th>Sales_Amount</th>\n",
       "      <th>Quantity_Sold</th>\n",
       "      <th>Unit_Cost</th>\n",
       "      <th>Unit_Price</th>\n",
       "      <th>Customer_Type</th>\n",
       "      <th>Discount</th>\n",
       "      <th>Profit</th>\n",
       "      <th>Sales_Rep_Bob</th>\n",
       "      <th>Sales_Rep_Charlie</th>\n",
       "      <th>Sales_Rep_David</th>\n",
       "      <th>Sales_Rep_Eve</th>\n",
       "      <th>Region_North</th>\n",
       "      <th>Region_South</th>\n",
       "      <th>Region_West</th>\n",
       "      <th>Product_Category_Electronics</th>\n",
       "      <th>Product_Category_Food</th>\n",
       "      <th>Product_Category_Furniture</th>\n",
       "    </tr>\n",
       "  </thead>\n",
       "  <tbody>\n",
       "    <tr>\n",
       "      <th>0</th>\n",
       "      <td>1052</td>\n",
       "      <td>5053.97</td>\n",
       "      <td>-0.519717</td>\n",
       "      <td>-1.638876</td>\n",
       "      <td>-1.734854</td>\n",
       "      <td>1</td>\n",
       "      <td>-0.715842</td>\n",
       "      <td>1.100968</td>\n",
       "      <td>1</td>\n",
       "      <td>0</td>\n",
       "      <td>0</td>\n",
       "      <td>0</td>\n",
       "      <td>1</td>\n",
       "      <td>0</td>\n",
       "      <td>0</td>\n",
       "      <td>0</td>\n",
       "      <td>0</td>\n",
       "      <td>1</td>\n",
       "    </tr>\n",
       "    <tr>\n",
       "      <th>1</th>\n",
       "      <td>1093</td>\n",
       "      <td>4384.02</td>\n",
       "      <td>-0.590379</td>\n",
       "      <td>0.946317</td>\n",
       "      <td>1.043921</td>\n",
       "      <td>1</td>\n",
       "      <td>-0.486369</td>\n",
       "      <td>-0.030111</td>\n",
       "      <td>1</td>\n",
       "      <td>0</td>\n",
       "      <td>0</td>\n",
       "      <td>0</td>\n",
       "      <td>0</td>\n",
       "      <td>0</td>\n",
       "      <td>1</td>\n",
       "      <td>0</td>\n",
       "      <td>0</td>\n",
       "      <td>1</td>\n",
       "    </tr>\n",
       "    <tr>\n",
       "      <th>2</th>\n",
       "      <td>1015</td>\n",
       "      <td>4631.23</td>\n",
       "      <td>0.328224</td>\n",
       "      <td>-1.562095</td>\n",
       "      <td>-1.661420</td>\n",
       "      <td>1</td>\n",
       "      <td>0.546261</td>\n",
       "      <td>1.001546</td>\n",
       "      <td>0</td>\n",
       "      <td>0</td>\n",
       "      <td>1</td>\n",
       "      <td>0</td>\n",
       "      <td>0</td>\n",
       "      <td>1</td>\n",
       "      <td>0</td>\n",
       "      <td>0</td>\n",
       "      <td>1</td>\n",
       "      <td>0</td>\n",
       "    </tr>\n",
       "    <tr>\n",
       "      <th>3</th>\n",
       "      <td>1072</td>\n",
       "      <td>2167.94</td>\n",
       "      <td>0.964180</td>\n",
       "      <td>1.308759</td>\n",
       "      <td>1.225997</td>\n",
       "      <td>0</td>\n",
       "      <td>-1.518998</td>\n",
       "      <td>-1.943042</td>\n",
       "      <td>1</td>\n",
       "      <td>0</td>\n",
       "      <td>0</td>\n",
       "      <td>0</td>\n",
       "      <td>0</td>\n",
       "      <td>1</td>\n",
       "      <td>0</td>\n",
       "      <td>0</td>\n",
       "      <td>0</td>\n",
       "      <td>0</td>\n",
       "    </tr>\n",
       "    <tr>\n",
       "      <th>4</th>\n",
       "      <td>1061</td>\n",
       "      <td>3750.20</td>\n",
       "      <td>-0.873026</td>\n",
       "      <td>-1.296911</td>\n",
       "      <td>-1.434937</td>\n",
       "      <td>0</td>\n",
       "      <td>-0.830579</td>\n",
       "      <td>0.977771</td>\n",
       "      <td>0</td>\n",
       "      <td>1</td>\n",
       "      <td>0</td>\n",
       "      <td>0</td>\n",
       "      <td>0</td>\n",
       "      <td>0</td>\n",
       "      <td>0</td>\n",
       "      <td>1</td>\n",
       "      <td>0</td>\n",
       "      <td>0</td>\n",
       "    </tr>\n",
       "  </tbody>\n",
       "</table>\n",
       "</div>"
      ],
      "text/plain": [
       "   Product_ID  Sales_Amount  Quantity_Sold  Unit_Cost  Unit_Price  \\\n",
       "0        1052       5053.97      -0.519717  -1.638876   -1.734854   \n",
       "1        1093       4384.02      -0.590379   0.946317    1.043921   \n",
       "2        1015       4631.23       0.328224  -1.562095   -1.661420   \n",
       "3        1072       2167.94       0.964180   1.308759    1.225997   \n",
       "4        1061       3750.20      -0.873026  -1.296911   -1.434937   \n",
       "\n",
       "   Customer_Type  Discount    Profit  Sales_Rep_Bob  Sales_Rep_Charlie  \\\n",
       "0              1 -0.715842  1.100968              1                  0   \n",
       "1              1 -0.486369 -0.030111              1                  0   \n",
       "2              1  0.546261  1.001546              0                  0   \n",
       "3              0 -1.518998 -1.943042              1                  0   \n",
       "4              0 -0.830579  0.977771              0                  1   \n",
       "\n",
       "   Sales_Rep_David  Sales_Rep_Eve  Region_North  Region_South  Region_West  \\\n",
       "0                0              0             1             0            0   \n",
       "1                0              0             0             0            1   \n",
       "2                1              0             0             1            0   \n",
       "3                0              0             0             1            0   \n",
       "4                0              0             0             0            0   \n",
       "\n",
       "   Product_Category_Electronics  Product_Category_Food  \\\n",
       "0                             0                      0   \n",
       "1                             0                      0   \n",
       "2                             0                      1   \n",
       "3                             0                      0   \n",
       "4                             1                      0   \n",
       "\n",
       "   Product_Category_Furniture  \n",
       "0                           1  \n",
       "1                           1  \n",
       "2                           0  \n",
       "3                           0  \n",
       "4                           0  "
      ]
     },
     "execution_count": 25,
     "metadata": {},
     "output_type": "execute_result"
    }
   ],
   "source": [
    "df.head()"
   ]
  },
  {
   "cell_type": "code",
   "execution_count": 26,
   "id": "23ba894a",
   "metadata": {
    "execution": {
     "iopub.execute_input": "2025-02-19T16:55:08.133849Z",
     "iopub.status.busy": "2025-02-19T16:55:08.133537Z",
     "iopub.status.idle": "2025-02-19T16:55:08.138493Z",
     "shell.execute_reply": "2025-02-19T16:55:08.137796Z"
    },
    "papermill": {
     "duration": 0.015075,
     "end_time": "2025-02-19T16:55:08.139507",
     "exception": false,
     "start_time": "2025-02-19T16:55:08.124432",
     "status": "completed"
    },
    "tags": []
   },
   "outputs": [],
   "source": [
    "df['Profit_Margin'] = (df['Unit_Price'] - df['Unit_Cost']) / df['Unit_Price']\n",
    "df['Discount_Impact'] = df['Discount'] * df['Quantity_Sold']\n"
   ]
  },
  {
   "cell_type": "code",
   "execution_count": 27,
   "id": "a34d5562",
   "metadata": {
    "execution": {
     "iopub.execute_input": "2025-02-19T16:55:08.157591Z",
     "iopub.status.busy": "2025-02-19T16:55:08.157306Z",
     "iopub.status.idle": "2025-02-19T16:55:08.378657Z",
     "shell.execute_reply": "2025-02-19T16:55:08.377512Z"
    },
    "papermill": {
     "duration": 0.232327,
     "end_time": "2025-02-19T16:55:08.380397",
     "exception": false,
     "start_time": "2025-02-19T16:55:08.148070",
     "status": "completed"
    },
    "tags": []
   },
   "outputs": [
    {
     "name": "stdout",
     "output_type": "stream",
     "text": [
      "Training Set Shape: (800, 19)\n",
      "Testing Set Shape: (200, 19)\n"
     ]
    }
   ],
   "source": [
    "from sklearn.model_selection import train_test_split\n",
    "\n",
    "X = df.drop(columns=['Sales_Amount'])\n",
    "y = df['Sales_Amount']\n",
    "\n",
    "X_train, X_test, y_train, y_test = train_test_split(X, y, test_size =0.2, random_state=42)\n",
    "\n",
    "print(\"Training Set Shape:\",  X_train.shape)\n",
    "print(\"Testing Set Shape:\" , X_test.shape)"
   ]
  },
  {
   "cell_type": "code",
   "execution_count": 28,
   "id": "1e2d3bde",
   "metadata": {
    "execution": {
     "iopub.execute_input": "2025-02-19T16:55:08.400403Z",
     "iopub.status.busy": "2025-02-19T16:55:08.400114Z",
     "iopub.status.idle": "2025-02-19T16:55:08.406730Z",
     "shell.execute_reply": "2025-02-19T16:55:08.405263Z"
    },
    "papermill": {
     "duration": 0.018264,
     "end_time": "2025-02-19T16:55:08.408407",
     "exception": false,
     "start_time": "2025-02-19T16:55:08.390143",
     "status": "completed"
    },
    "tags": []
   },
   "outputs": [
    {
     "data": {
      "text/plain": [
       "Product_ID                        int64\n",
       "Sales_Amount                    float64\n",
       "Quantity_Sold                   float64\n",
       "Unit_Cost                       float64\n",
       "Unit_Price                      float64\n",
       "Customer_Type                     int64\n",
       "Discount                        float64\n",
       "Profit                          float64\n",
       "Sales_Rep_Bob                     int64\n",
       "Sales_Rep_Charlie                 int64\n",
       "Sales_Rep_David                   int64\n",
       "Sales_Rep_Eve                     int64\n",
       "Region_North                      int64\n",
       "Region_South                      int64\n",
       "Region_West                       int64\n",
       "Product_Category_Electronics      int64\n",
       "Product_Category_Food             int64\n",
       "Product_Category_Furniture        int64\n",
       "Profit_Margin                   float64\n",
       "Discount_Impact                 float64\n",
       "dtype: object"
      ]
     },
     "execution_count": 28,
     "metadata": {},
     "output_type": "execute_result"
    }
   ],
   "source": [
    "df.dtypes"
   ]
  },
  {
   "cell_type": "code",
   "execution_count": 29,
   "id": "64f761a5",
   "metadata": {
    "execution": {
     "iopub.execute_input": "2025-02-19T16:55:08.427355Z",
     "iopub.status.busy": "2025-02-19T16:55:08.427057Z",
     "iopub.status.idle": "2025-02-19T16:55:08.611797Z",
     "shell.execute_reply": "2025-02-19T16:55:08.611003Z"
    },
    "papermill": {
     "duration": 0.195358,
     "end_time": "2025-02-19T16:55:08.613005",
     "exception": false,
     "start_time": "2025-02-19T16:55:08.417647",
     "status": "completed"
    },
    "tags": []
   },
   "outputs": [
    {
     "name": "stdout",
     "output_type": "stream",
     "text": [
      "MAE: 2674.8924299760674, MSE: 9177801.991894696\n"
     ]
    }
   ],
   "source": [
    "from sklearn.linear_model import LinearRegression\n",
    "from sklearn.metrics import mean_absolute_error, mean_squared_error\n",
    "\n",
    "\n",
    "model = LinearRegression()\n",
    "model.fit(X_train, y_train)\n",
    "\n",
    "y_pred = model.predict(X_test)\n",
    "\n",
    "\n",
    "\n",
    "mae = mean_absolute_error(y_test, y_pred)\n",
    "mse = mean_squared_error(y_test, y_pred)\n",
    "\n",
    "print(f\"MAE: {mae}, MSE: {mse}\")\n"
   ]
  },
  {
   "cell_type": "code",
   "execution_count": 30,
   "id": "7c8e9eba",
   "metadata": {
    "execution": {
     "iopub.execute_input": "2025-02-19T16:55:08.631465Z",
     "iopub.status.busy": "2025-02-19T16:55:08.631158Z",
     "iopub.status.idle": "2025-02-19T16:55:08.636202Z",
     "shell.execute_reply": "2025-02-19T16:55:08.634900Z"
    },
    "papermill": {
     "duration": 0.01599,
     "end_time": "2025-02-19T16:55:08.637937",
     "exception": false,
     "start_time": "2025-02-19T16:55:08.621947",
     "status": "completed"
    },
    "tags": []
   },
   "outputs": [
    {
     "name": "stdout",
     "output_type": "stream",
     "text": [
      "Mean Sales Amount: 5019.265230000001\n"
     ]
    }
   ],
   "source": [
    "print(\"Mean Sales Amount:\", df[\"Sales_Amount\"].mean())\n"
   ]
  },
  {
   "cell_type": "code",
   "execution_count": 31,
   "id": "deb22ad1",
   "metadata": {
    "execution": {
     "iopub.execute_input": "2025-02-19T16:55:08.657074Z",
     "iopub.status.busy": "2025-02-19T16:55:08.656773Z",
     "iopub.status.idle": "2025-02-19T16:55:09.709517Z",
     "shell.execute_reply": "2025-02-19T16:55:09.708710Z"
    },
    "papermill": {
     "duration": 1.063258,
     "end_time": "2025-02-19T16:55:09.710652",
     "exception": false,
     "start_time": "2025-02-19T16:55:08.647394",
     "status": "completed"
    },
    "tags": []
   },
   "outputs": [
    {
     "data": {
      "image/png": "[encoded data removed]",
      "text/plain": [
       "<Figure size 1000x500 with 1 Axes>"
      ]
     },
     "metadata": {},
     "output_type": "display_data"
    }
   ],
   "source": [
    "from sklearn.ensemble import RandomForestRegressor\n",
    "import pandas as pd\n",
    "import matplotlib.pyplot as plt\n",
    "import seaborn as sns\n",
    "\n",
    "# Train a Random Forest model to check feature importance\n",
    "rf = RandomForestRegressor(n_estimators=100, random_state=42)\n",
    "rf.fit(X_train, y_train)\n",
    "\n",
    "# Get feature importances\n",
    "feature_importance = pd.DataFrame({\"Feature\": X_train.columns, \"Importance\": rf.feature_importances_})\n",
    "feature_importance = feature_importance.sort_values(by=\"Importance\", ascending=False)\n",
    "\n",
    "# Plot\n",
    "plt.figure(figsize=(10,5))\n",
    "sns.barplot(x=feature_importance[\"Importance\"], y=feature_importance[\"Feature\"])\n",
    "plt.title(\"Feature Importance in Predicting Sales Amount\")\n",
    "plt.xlabel(\"Importance Score\")\n",
    "plt.ylabel(\"Feature Name\")\n",
    "plt.show()\n"
   ]
  },
  {
   "cell_type": "code",
   "execution_count": 32,
   "id": "f4537dcd",
   "metadata": {
    "execution": {
     "iopub.execute_input": "2025-02-19T16:55:09.731589Z",
     "iopub.status.busy": "2025-02-19T16:55:09.731258Z",
     "iopub.status.idle": "2025-02-19T16:55:09.737215Z",
     "shell.execute_reply": "2025-02-19T16:55:09.735959Z"
    },
    "papermill": {
     "duration": 0.018135,
     "end_time": "2025-02-19T16:55:09.738988",
     "exception": false,
     "start_time": "2025-02-19T16:55:09.720853",
     "status": "completed"
    },
    "tags": []
   },
   "outputs": [
    {
     "name": "stdout",
     "output_type": "stream",
     "text": [
      "Dropped features: ['Sales_Rep_Bob', 'Sales_Rep_Charlie', 'Sales_Rep_Eve', 'Sales_Rep_David', 'Product_Category_Furniture', 'Product_Category_Electronics', 'Product_Category_Food', 'Region_North', 'Region_South', 'Region_West']\n"
     ]
    }
   ],
   "source": [
    "# Drop features with low importance\n",
    "low_importance_features = ['Sales_Rep_Bob', 'Sales_Rep_Charlie', 'Sales_Rep_Eve', 'Sales_Rep_David',\n",
    "                           'Product_Category_Furniture', 'Product_Category_Electronics', 'Product_Category_Food',\n",
    "                           'Region_North', 'Region_South', 'Region_West']\n",
    "\n",
    "df = df.drop(columns=low_importance_features)\n",
    "print(\"Dropped features:\", low_importance_features)\n"
   ]
  },
  {
   "cell_type": "code",
   "execution_count": 33,
   "id": "7aaea3e9",
   "metadata": {
    "execution": {
     "iopub.execute_input": "2025-02-19T16:55:09.760654Z",
     "iopub.status.busy": "2025-02-19T16:55:09.760283Z",
     "iopub.status.idle": "2025-02-19T16:55:10.216618Z",
     "shell.execute_reply": "2025-02-19T16:55:10.215808Z"
    },
    "papermill": {
     "duration": 0.468524,
     "end_time": "2025-02-19T16:55:10.217935",
     "exception": false,
     "start_time": "2025-02-19T16:55:09.749411",
     "status": "completed"
    },
    "tags": []
   },
   "outputs": [
    {
     "name": "stdout",
     "output_type": "stream",
     "text": [
      "Optimized Random Forest - MAE: 2495.3188274999998, MSE: 8625348.746799674\n"
     ]
    }
   ],
   "source": [
    "from sklearn.model_selection import train_test_split\n",
    "from sklearn.ensemble import RandomForestRegressor\n",
    "from sklearn.metrics import mean_absolute_error, mean_squared_error\n",
    "\n",
    "X = df.drop(columns=['Sales_Amount'])  # Features\n",
    "y = df['Sales_Amount']  # Target variable\n",
    "\n",
    "\n",
    "X_train, X_test, y_train, y_test = train_test_split(X, y, test_size=0.2, random_state=42)\n",
    "\n",
    "\n",
    "rf_model = RandomForestRegressor(n_estimators=100, random_state=42)\n",
    "rf_model.fit(X_train, y_train)\n",
    "\n",
    "\n",
    "y_pred_rf = rf_model.predict(X_test)\n",
    "\n",
    "\n",
    "mae_rf = mean_absolute_error(y_test, y_pred_rf)\n",
    "mse_rf = mean_squared_error(y_test, y_pred_rf)\n",
    "\n",
    "print(f\"Optimized Random Forest - MAE: {mae_rf}, MSE: {mse_rf}\")\n"
   ]
  },
  {
   "cell_type": "code",
   "execution_count": 34,
   "id": "74de9d68",
   "metadata": {
    "execution": {
     "iopub.execute_input": "2025-02-19T16:55:10.238600Z",
     "iopub.status.busy": "2025-02-19T16:55:10.238306Z",
     "iopub.status.idle": "2025-02-19T16:56:36.705959Z",
     "shell.execute_reply": "2025-02-19T16:56:36.704954Z"
    },
    "papermill": {
     "duration": 86.488862,
     "end_time": "2025-02-19T16:56:36.716881",
     "exception": false,
     "start_time": "2025-02-19T16:55:10.228019",
     "status": "completed"
    },
    "tags": []
   },
   "outputs": [
    {
     "name": "stdout",
     "output_type": "stream",
     "text": [
      "Best Parameters: {'max_depth': 20, 'min_samples_leaf': 1, 'min_samples_split': 2, 'n_estimators': 300}\n",
      "Optimized RF with GridSearch - MAE: 2495.755014367531, MSE: 8588006.066858768\n"
     ]
    }
   ],
   "source": [
    "from sklearn.model_selection import GridSearchCV\n",
    "\n",
    "\n",
    "param_grid = {\n",
    "    'n_estimators': [100, 200, 300],  # Number of trees\n",
    "    'max_depth': [10, 20, None],      # Depth of trees\n",
    "    'min_samples_split': [2, 5, 10],  # Minimum samples to split a node\n",
    "    'min_samples_leaf': [1, 2, 4]     # Minimum samples per leaf\n",
    "}\n",
    "\n",
    "\n",
    "grid_search = GridSearchCV(RandomForestRegressor(random_state=42), param_grid, cv=5, scoring='neg_mean_absolute_error', n_jobs=-1)\n",
    "grid_search.fit(X_train, y_train)\n",
    "\n",
    "\n",
    "print(\"Best Parameters:\", grid_search.best_params_)\n",
    "\n",
    "\n",
    "best_rf = grid_search.best_estimator_\n",
    "y_pred_best_rf = best_rf.predict(X_test)\n",
    "\n",
    "\n",
    "mae_best_rf = mean_absolute_error(y_test, y_pred_best_rf)\n",
    "mse_best_rf = mean_squared_error(y_test, y_pred_best_rf)\n",
    "\n",
    "print(f\"Optimized RF with GridSearch - MAE: {mae_best_rf}, MSE: {mse_best_rf}\")\n"
   ]
  },
  {
   "cell_type": "code",
   "execution_count": 35,
   "id": "924c9ce5",
   "metadata": {
    "execution": {
     "iopub.execute_input": "2025-02-19T16:56:36.737764Z",
     "iopub.status.busy": "2025-02-19T16:56:36.737430Z",
     "iopub.status.idle": "2025-02-19T16:56:36.748683Z",
     "shell.execute_reply": "2025-02-19T16:56:36.747713Z"
    },
    "papermill": {
     "duration": 0.023479,
     "end_time": "2025-02-19T16:56:36.750159",
     "exception": false,
     "start_time": "2025-02-19T16:56:36.726680",
     "status": "completed"
    },
    "tags": []
   },
   "outputs": [
    {
     "name": "stdout",
     "output_type": "stream",
     "text": [
      "MAE: 2670.5920087659206, MSE: 9102194.642942222\n"
     ]
    }
   ],
   "source": [
    "from sklearn.linear_model import LinearRegression\n",
    "from sklearn.metrics import mean_absolute_error, mean_squared_error\n",
    "\n",
    "\n",
    "model = LinearRegression()\n",
    "model.fit(X_train, y_train)\n",
    "\n",
    "y_pred = model.predict(X_test)\n",
    "\n",
    "\n",
    "\n",
    "mae = mean_absolute_error(y_test, y_pred)\n",
    "mse = mean_squared_error(y_test, y_pred)\n",
    "\n",
    "print(f\"MAE: {mae}, MSE: {mse}\")"
   ]
  },
  {
   "cell_type": "code",
   "execution_count": 36,
   "id": "7a69a592",
   "metadata": {
    "execution": {
     "iopub.execute_input": "2025-02-19T16:56:36.772005Z",
     "iopub.status.busy": "2025-02-19T16:56:36.771620Z",
     "iopub.status.idle": "2025-02-19T16:56:37.519021Z",
     "shell.execute_reply": "2025-02-19T16:56:37.517518Z"
    },
    "papermill": {
     "duration": 0.759722,
     "end_time": "2025-02-19T16:56:37.520464",
     "exception": false,
     "start_time": "2025-02-19T16:56:36.760742",
     "status": "completed"
    },
    "tags": []
   },
   "outputs": [
    {
     "name": "stdout",
     "output_type": "stream",
     "text": [
      "XGBoost - MAE: 2526.3634407226564, MSE: 8966374.132135155\n"
     ]
    }
   ],
   "source": [
    "from xgboost import XGBRegressor\n",
    "\n",
    "xgb_model = XGBRegressor(n_estimators=300, max_depth=6, learning_rate=0.1, random_state=42)\n",
    "xgb_model.fit(X_train, y_train)\n",
    "\n",
    "y_pred_xgb = xgb_model.predict(X_test)\n",
    "\n",
    "\n",
    "mae_xgb = mean_absolute_error(y_test, y_pred_xgb)\n",
    "mse_xgb = mean_squared_error(y_test, y_pred_xgb)\n",
    "\n",
    "print(f\"XGBoost - MAE: {mae_xgb}, MSE: {mse_xgb}\")\n"
   ]
  },
  {
   "cell_type": "code",
   "execution_count": null,
   "id": "cfb08b3b",
   "metadata": {
    "papermill": {
     "duration": 0.010175,
     "end_time": "2025-02-19T16:56:37.540896",
     "exception": false,
     "start_time": "2025-02-19T16:56:37.530721",
     "status": "completed"
    },
    "tags": []
   },
   "outputs": [],
   "source": []
  }
 ],
 "metadata": {
  "kaggle": {
   "accelerator": "none",
   "dataSources": [
    {
     "datasetId": 6688404,
     "sourceId": 10779441,
     "sourceType": "datasetVersion"
    }
   ],
   "dockerImageVersionId": 30886,
   "isGpuEnabled": false,
   "isInternetEnabled": true,
   "language": "python",
   "sourceType": "notebook"
  },
  "kernelspec": {
   "display_name": "Python 3",
   "language": "python",
   "name": "python3"
  },
  "language_info": {
   "codemirror_mode": {
    "name": "ipython",
    "version": 3
   },
   "file_extension": ".py",
   "mimetype": "text/x-python",
   "name": "python",
   "nbconvert_exporter": "python",
   "pygments_lexer": "ipython3",
   "version": "3.10.12"
  },
  "papermill": {
   "default_parameters": {},
   "duration": 98.358896,
   "end_time": "2025-02-19T16:56:38.271620",
   "environment_variables": {},
   "exception": null,
   "input_path": "__notebook__.ipynb",
   "output_path": "__notebook__.ipynb",
   "parameters": {},
   "start_time": "2025-02-19T16:54:59.912724",
   "version": "2.6.0"
  }
 },
 "nbformat": 4,
 "nbformat_minor": 5
}
