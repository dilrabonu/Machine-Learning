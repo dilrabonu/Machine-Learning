{
 "cells": [
  {
   "cell_type": "code",
   "execution_count": 1,
   "id": "ad9d4389",
   "metadata": {
    "_cell_guid": "b1076dfc-b9ad-4769-8c92-a6c4dae69d19",
    "_uuid": "8f2839f25d086af736a60e9eeb907d3b93b6e0e5",
    "execution": {
     "iopub.execute_input": "2025-03-06T15:57:26.167604Z",
     "iopub.status.busy": "2025-03-06T15:57:26.167207Z",
     "iopub.status.idle": "2025-03-06T15:57:27.145945Z",
     "shell.execute_reply": "2025-03-06T15:57:27.144742Z"
    },
    "papermill": {
     "duration": 0.9871,
     "end_time": "2025-03-06T15:57:27.148130",
     "exception": false,
     "start_time": "2025-03-06T15:57:26.161030",
     "status": "completed"
    },
    "tags": []
   },
   "outputs": [
    {
     "name": "stdout",
     "output_type": "stream",
     "text": [
      "/kaggle/input/credit-card-fraud-detection-dataset-2023/creditcard_2023.csv\n"
     ]
    }
   ],
   "source": [
    "# This Python 3 environment comes with many helpful analytics libraries installed\n",
    "# It is defined by the kaggle/python Docker image: https://github.com/kaggle/docker-python\n",
    "# For example, here's several helpful packages to load\n",
    "\n",
    "import numpy as np # linear algebra\n",
    "import pandas as pd # data processing, CSV file I/O (e.g. pd.read_csv)\n",
    "\n",
    "# Input data files are available in the read-only \"../input/\" directory\n",
    "# For example, running this (by clicking run or pressing Shift+Enter) will list all files under the input directory\n",
    "\n",
    "import os\n",
    "for dirname, _, filenames in os.walk('/kaggle/input'):\n",
    "    for filename in filenames:\n",
    "        print(os.path.join(dirname, filename))\n",
    "\n",
    "# You can write up to 20GB to the current directory (/kaggle/working/) that gets preserved as output when you create a version using \"Save & Run All\" \n",
    "# You can also write temporary files to /kaggle/temp/, but they won't be saved outside of the current session"
   ]
  },
  {
   "cell_type": "code",
   "execution_count": 2,
   "id": "da7519e6",
   "metadata": {
    "execution": {
     "iopub.execute_input": "2025-03-06T15:57:27.159034Z",
     "iopub.status.busy": "2025-03-06T15:57:27.158561Z",
     "iopub.status.idle": "2025-03-06T15:57:37.272957Z",
     "shell.execute_reply": "2025-03-06T15:57:37.271869Z"
    },
    "papermill": {
     "duration": 10.122082,
     "end_time": "2025-03-06T15:57:37.274943",
     "exception": false,
     "start_time": "2025-03-06T15:57:27.152861",
     "status": "completed"
    },
    "tags": []
   },
   "outputs": [
    {
     "data": {
      "text/html": [
       "<div>\n",
       "<style scoped>\n",
       "    .dataframe tbody tr th:only-of-type {\n",
       "        vertical-align: middle;\n",
       "    }\n",
       "\n",
       "    .dataframe tbody tr th {\n",
       "        vertical-align: top;\n",
       "    }\n",
       "\n",
       "    .dataframe thead th {\n",
       "        text-align: right;\n",
       "    }\n",
       "</style>\n",
       "<table border=\"1\" class=\"dataframe\">\n",
       "  <thead>\n",
       "    <tr style=\"text-align: right;\">\n",
       "      <th></th>\n",
       "      <th>id</th>\n",
       "      <th>V1</th>\n",
       "      <th>V2</th>\n",
       "      <th>V3</th>\n",
       "      <th>V4</th>\n",
       "      <th>V5</th>\n",
       "      <th>V6</th>\n",
       "      <th>V7</th>\n",
       "      <th>V8</th>\n",
       "      <th>V9</th>\n",
       "      <th>...</th>\n",
       "      <th>V21</th>\n",
       "      <th>V22</th>\n",
       "      <th>V23</th>\n",
       "      <th>V24</th>\n",
       "      <th>V25</th>\n",
       "      <th>V26</th>\n",
       "      <th>V27</th>\n",
       "      <th>V28</th>\n",
       "      <th>Amount</th>\n",
       "      <th>Class</th>\n",
       "    </tr>\n",
       "  </thead>\n",
       "  <tbody>\n",
       "    <tr>\n",
       "      <th>0</th>\n",
       "      <td>0</td>\n",
       "      <td>-0.260648</td>\n",
       "      <td>-0.469648</td>\n",
       "      <td>2.496266</td>\n",
       "      <td>-0.083724</td>\n",
       "      <td>0.129681</td>\n",
       "      <td>0.732898</td>\n",
       "      <td>0.519014</td>\n",
       "      <td>-0.130006</td>\n",
       "      <td>0.727159</td>\n",
       "      <td>...</td>\n",
       "      <td>-0.110552</td>\n",
       "      <td>0.217606</td>\n",
       "      <td>-0.134794</td>\n",
       "      <td>0.165959</td>\n",
       "      <td>0.126280</td>\n",
       "      <td>-0.434824</td>\n",
       "      <td>-0.081230</td>\n",
       "      <td>-0.151045</td>\n",
       "      <td>17982.10</td>\n",
       "      <td>0</td>\n",
       "    </tr>\n",
       "    <tr>\n",
       "      <th>1</th>\n",
       "      <td>1</td>\n",
       "      <td>0.985100</td>\n",
       "      <td>-0.356045</td>\n",
       "      <td>0.558056</td>\n",
       "      <td>-0.429654</td>\n",
       "      <td>0.277140</td>\n",
       "      <td>0.428605</td>\n",
       "      <td>0.406466</td>\n",
       "      <td>-0.133118</td>\n",
       "      <td>0.347452</td>\n",
       "      <td>...</td>\n",
       "      <td>-0.194936</td>\n",
       "      <td>-0.605761</td>\n",
       "      <td>0.079469</td>\n",
       "      <td>-0.577395</td>\n",
       "      <td>0.190090</td>\n",
       "      <td>0.296503</td>\n",
       "      <td>-0.248052</td>\n",
       "      <td>-0.064512</td>\n",
       "      <td>6531.37</td>\n",
       "      <td>0</td>\n",
       "    </tr>\n",
       "    <tr>\n",
       "      <th>2</th>\n",
       "      <td>2</td>\n",
       "      <td>-0.260272</td>\n",
       "      <td>-0.949385</td>\n",
       "      <td>1.728538</td>\n",
       "      <td>-0.457986</td>\n",
       "      <td>0.074062</td>\n",
       "      <td>1.419481</td>\n",
       "      <td>0.743511</td>\n",
       "      <td>-0.095576</td>\n",
       "      <td>-0.261297</td>\n",
       "      <td>...</td>\n",
       "      <td>-0.005020</td>\n",
       "      <td>0.702906</td>\n",
       "      <td>0.945045</td>\n",
       "      <td>-1.154666</td>\n",
       "      <td>-0.605564</td>\n",
       "      <td>-0.312895</td>\n",
       "      <td>-0.300258</td>\n",
       "      <td>-0.244718</td>\n",
       "      <td>2513.54</td>\n",
       "      <td>0</td>\n",
       "    </tr>\n",
       "    <tr>\n",
       "      <th>3</th>\n",
       "      <td>3</td>\n",
       "      <td>-0.152152</td>\n",
       "      <td>-0.508959</td>\n",
       "      <td>1.746840</td>\n",
       "      <td>-1.090178</td>\n",
       "      <td>0.249486</td>\n",
       "      <td>1.143312</td>\n",
       "      <td>0.518269</td>\n",
       "      <td>-0.065130</td>\n",
       "      <td>-0.205698</td>\n",
       "      <td>...</td>\n",
       "      <td>-0.146927</td>\n",
       "      <td>-0.038212</td>\n",
       "      <td>-0.214048</td>\n",
       "      <td>-1.893131</td>\n",
       "      <td>1.003963</td>\n",
       "      <td>-0.515950</td>\n",
       "      <td>-0.165316</td>\n",
       "      <td>0.048424</td>\n",
       "      <td>5384.44</td>\n",
       "      <td>0</td>\n",
       "    </tr>\n",
       "    <tr>\n",
       "      <th>4</th>\n",
       "      <td>4</td>\n",
       "      <td>-0.206820</td>\n",
       "      <td>-0.165280</td>\n",
       "      <td>1.527053</td>\n",
       "      <td>-0.448293</td>\n",
       "      <td>0.106125</td>\n",
       "      <td>0.530549</td>\n",
       "      <td>0.658849</td>\n",
       "      <td>-0.212660</td>\n",
       "      <td>1.049921</td>\n",
       "      <td>...</td>\n",
       "      <td>-0.106984</td>\n",
       "      <td>0.729727</td>\n",
       "      <td>-0.161666</td>\n",
       "      <td>0.312561</td>\n",
       "      <td>-0.414116</td>\n",
       "      <td>1.071126</td>\n",
       "      <td>0.023712</td>\n",
       "      <td>0.419117</td>\n",
       "      <td>14278.97</td>\n",
       "      <td>0</td>\n",
       "    </tr>\n",
       "  </tbody>\n",
       "</table>\n",
       "<p>5 rows × 31 columns</p>\n",
       "</div>"
      ],
      "text/plain": [
       "   id        V1        V2        V3        V4        V5        V6        V7  \\\n",
       "0   0 -0.260648 -0.469648  2.496266 -0.083724  0.129681  0.732898  0.519014   \n",
       "1   1  0.985100 -0.356045  0.558056 -0.429654  0.277140  0.428605  0.406466   \n",
       "2   2 -0.260272 -0.949385  1.728538 -0.457986  0.074062  1.419481  0.743511   \n",
       "3   3 -0.152152 -0.508959  1.746840 -1.090178  0.249486  1.143312  0.518269   \n",
       "4   4 -0.206820 -0.165280  1.527053 -0.448293  0.106125  0.530549  0.658849   \n",
       "\n",
       "         V8        V9  ...       V21       V22       V23       V24       V25  \\\n",
       "0 -0.130006  0.727159  ... -0.110552  0.217606 -0.134794  0.165959  0.126280   \n",
       "1 -0.133118  0.347452  ... -0.194936 -0.605761  0.079469 -0.577395  0.190090   \n",
       "2 -0.095576 -0.261297  ... -0.005020  0.702906  0.945045 -1.154666 -0.605564   \n",
       "3 -0.065130 -0.205698  ... -0.146927 -0.038212 -0.214048 -1.893131  1.003963   \n",
       "4 -0.212660  1.049921  ... -0.106984  0.729727 -0.161666  0.312561 -0.414116   \n",
       "\n",
       "        V26       V27       V28    Amount  Class  \n",
       "0 -0.434824 -0.081230 -0.151045  17982.10      0  \n",
       "1  0.296503 -0.248052 -0.064512   6531.37      0  \n",
       "2 -0.312895 -0.300258 -0.244718   2513.54      0  \n",
       "3 -0.515950 -0.165316  0.048424   5384.44      0  \n",
       "4  1.071126  0.023712  0.419117  14278.97      0  \n",
       "\n",
       "[5 rows x 31 columns]"
      ]
     },
     "execution_count": 2,
     "metadata": {},
     "output_type": "execute_result"
    }
   ],
   "source": [
    "df = pd.read_csv(\"/kaggle/input/credit-card-fraud-detection-dataset-2023/creditcard_2023.csv\")\n",
    "df.head()"
   ]
  },
  {
   "cell_type": "code",
   "execution_count": 3,
   "id": "ab8d4bcc",
   "metadata": {
    "execution": {
     "iopub.execute_input": "2025-03-06T15:57:37.285953Z",
     "iopub.status.busy": "2025-03-06T15:57:37.285577Z",
     "iopub.status.idle": "2025-03-06T15:57:37.290962Z",
     "shell.execute_reply": "2025-03-06T15:57:37.289725Z"
    },
    "papermill": {
     "duration": 0.012935,
     "end_time": "2025-03-06T15:57:37.292772",
     "exception": false,
     "start_time": "2025-03-06T15:57:37.279837",
     "status": "completed"
    },
    "tags": []
   },
   "outputs": [
    {
     "name": "stdout",
     "output_type": "stream",
     "text": [
      "Dataset contains 568630 rows and 31 columns.\n"
     ]
    }
   ],
   "source": [
    "print(f\"Dataset contains {df.shape[0]} rows and {df.shape[1]} columns.\")"
   ]
  },
  {
   "cell_type": "code",
   "execution_count": 4,
   "id": "848c47a8",
   "metadata": {
    "execution": {
     "iopub.execute_input": "2025-03-06T15:57:37.303887Z",
     "iopub.status.busy": "2025-03-06T15:57:37.303518Z",
     "iopub.status.idle": "2025-03-06T15:57:37.321726Z",
     "shell.execute_reply": "2025-03-06T15:57:37.320561Z"
    },
    "papermill": {
     "duration": 0.025759,
     "end_time": "2025-03-06T15:57:37.323573",
     "exception": false,
     "start_time": "2025-03-06T15:57:37.297814",
     "status": "completed"
    },
    "tags": []
   },
   "outputs": [
    {
     "name": "stdout",
     "output_type": "stream",
     "text": [
      "Class\n",
      "0    50.0\n",
      "1    50.0\n",
      "Name: proportion, dtype: float64\n"
     ]
    }
   ],
   "source": [
    "print(df[\"Class\"].value_counts(normalize=True) * 100)"
   ]
  },
  {
   "cell_type": "code",
   "execution_count": 5,
   "id": "7f532f85",
   "metadata": {
    "execution": {
     "iopub.execute_input": "2025-03-06T15:57:37.334472Z",
     "iopub.status.busy": "2025-03-06T15:57:37.334043Z",
     "iopub.status.idle": "2025-03-06T15:57:37.396192Z",
     "shell.execute_reply": "2025-03-06T15:57:37.395072Z"
    },
    "papermill": {
     "duration": 0.069394,
     "end_time": "2025-03-06T15:57:37.397864",
     "exception": false,
     "start_time": "2025-03-06T15:57:37.328470",
     "status": "completed"
    },
    "tags": []
   },
   "outputs": [
    {
     "data": {
      "text/plain": [
       "id        0\n",
       "V1        0\n",
       "V2        0\n",
       "V3        0\n",
       "V4        0\n",
       "V5        0\n",
       "V6        0\n",
       "V7        0\n",
       "V8        0\n",
       "V9        0\n",
       "V10       0\n",
       "V11       0\n",
       "V12       0\n",
       "V13       0\n",
       "V14       0\n",
       "V15       0\n",
       "V16       0\n",
       "V17       0\n",
       "V18       0\n",
       "V19       0\n",
       "V20       0\n",
       "V21       0\n",
       "V22       0\n",
       "V23       0\n",
       "V24       0\n",
       "V25       0\n",
       "V26       0\n",
       "V27       0\n",
       "V28       0\n",
       "Amount    0\n",
       "Class     0\n",
       "dtype: int64"
      ]
     },
     "execution_count": 5,
     "metadata": {},
     "output_type": "execute_result"
    }
   ],
   "source": [
    "df.isnull().sum()"
   ]
  },
  {
   "cell_type": "code",
   "execution_count": 6,
   "id": "88746516",
   "metadata": {
    "execution": {
     "iopub.execute_input": "2025-03-06T15:57:37.408836Z",
     "iopub.status.busy": "2025-03-06T15:57:37.408382Z",
     "iopub.status.idle": "2025-03-06T15:57:39.317477Z",
     "shell.execute_reply": "2025-03-06T15:57:39.316440Z"
    },
    "papermill": {
     "duration": 1.916297,
     "end_time": "2025-03-06T15:57:39.319116",
     "exception": false,
     "start_time": "2025-03-06T15:57:37.402819",
     "status": "completed"
    },
    "tags": []
   },
   "outputs": [
    {
     "data": {
      "text/plain": [
       "0"
      ]
     },
     "execution_count": 6,
     "metadata": {},
     "output_type": "execute_result"
    }
   ],
   "source": [
    "df.duplicated().sum()"
   ]
  },
  {
   "cell_type": "code",
   "execution_count": 7,
   "id": "21115b71",
   "metadata": {
    "execution": {
     "iopub.execute_input": "2025-03-06T15:57:39.330566Z",
     "iopub.status.busy": "2025-03-06T15:57:39.330143Z",
     "iopub.status.idle": "2025-03-06T15:57:41.046190Z",
     "shell.execute_reply": "2025-03-06T15:57:41.045059Z"
    },
    "papermill": {
     "duration": 1.723892,
     "end_time": "2025-03-06T15:57:41.048152",
     "exception": false,
     "start_time": "2025-03-06T15:57:39.324260",
     "status": "completed"
    },
    "tags": []
   },
   "outputs": [],
   "source": [
    "import matplotlib.pyplot as plt\n",
    "import seaborn as sns"
   ]
  },
  {
   "cell_type": "code",
   "execution_count": 8,
   "id": "bd13be80",
   "metadata": {
    "execution": {
     "iopub.execute_input": "2025-03-06T15:57:41.059780Z",
     "iopub.status.busy": "2025-03-06T15:57:41.059230Z",
     "iopub.status.idle": "2025-03-06T15:57:41.318254Z",
     "shell.execute_reply": "2025-03-06T15:57:41.317164Z"
    },
    "papermill": {
     "duration": 0.266643,
     "end_time": "2025-03-06T15:57:41.319987",
     "exception": false,
     "start_time": "2025-03-06T15:57:41.053344",
     "status": "completed"
    },
    "tags": []
   },
   "outputs": [
    {
     "data": {
      "image/png": "[encoded data removed]",
      "text/plain": [
       "<Figure size 1200x800 with 1 Axes>"
      ]
     },
     "metadata": {},
     "output_type": "display_data"
    }
   ],
   "source": [
    "plt.figure(figsize=(12,8))\n",
    "sns.boxplot(x=df['Amount'])\n",
    "plt.title(\"Distribution of Amount Transaction\")\n",
    "plt.show()"
   ]
  },
  {
   "cell_type": "code",
   "execution_count": 9,
   "id": "a3220631",
   "metadata": {
    "execution": {
     "iopub.execute_input": "2025-03-06T15:57:41.332542Z",
     "iopub.status.busy": "2025-03-06T15:57:41.332143Z",
     "iopub.status.idle": "2025-03-06T15:57:43.579319Z",
     "shell.execute_reply": "2025-03-06T15:57:43.578141Z"
    },
    "papermill": {
     "duration": 2.255503,
     "end_time": "2025-03-06T15:57:43.581019",
     "exception": false,
     "start_time": "2025-03-06T15:57:41.325516",
     "status": "completed"
    },
    "tags": []
   },
   "outputs": [
    {
     "name": "stderr",
     "output_type": "stream",
     "text": [
      "/usr/local/lib/python3.10/dist-packages/matplotlib/colors.py:721: RuntimeWarning: invalid value encountered in less\n",
      "  xa[xa < 0] = -1\n"
     ]
    },
    {
     "data": {
      "image/png": "[encoded data removed]",
      "text/plain": [
       "<Figure size 1200x800 with 2 Axes>"
      ]
     },
     "metadata": {},
     "output_type": "display_data"
    }
   ],
   "source": [
    "plt.figure(figsize=(12,8))\n",
    "sns.heatmap(df.corr(), cmap = 'coolwarm', center =0)\n",
    "plt.title(\"Feature Correlation Heatmap\")\n",
    "plt.show()"
   ]
  },
  {
   "cell_type": "code",
   "execution_count": 10,
   "id": "26338cda",
   "metadata": {
    "execution": {
     "iopub.execute_input": "2025-03-06T15:57:43.596538Z",
     "iopub.status.busy": "2025-03-06T15:57:43.596111Z",
     "iopub.status.idle": "2025-03-06T15:57:45.231267Z",
     "shell.execute_reply": "2025-03-06T15:57:45.230102Z"
    },
    "papermill": {
     "duration": 1.644971,
     "end_time": "2025-03-06T15:57:45.233119",
     "exception": false,
     "start_time": "2025-03-06T15:57:43.588148",
     "status": "completed"
    },
    "tags": []
   },
   "outputs": [
    {
     "data": {
      "text/plain": [
       "Class     1.000000\n",
       "id        0.864283\n",
       "V4        0.735981\n",
       "V11       0.724278\n",
       "V2        0.491878\n",
       "V19       0.244081\n",
       "V27       0.214002\n",
       "V20       0.179851\n",
       "V8        0.144294\n",
       "V21       0.109640\n",
       "V28       0.102024\n",
       "V26       0.071052\n",
       "V25       0.061847\n",
       "V22       0.014098\n",
       "V23       0.010255\n",
       "Amount    0.002261\n",
       "V15      -0.037948\n",
       "V13      -0.071105\n",
       "V24      -0.130107\n",
       "V5       -0.338639\n",
       "V18      -0.410091\n",
       "V6       -0.435088\n",
       "V17      -0.476377\n",
       "V7       -0.491234\n",
       "V1       -0.505761\n",
       "V16      -0.573511\n",
       "V9       -0.585522\n",
       "V10      -0.673665\n",
       "V3       -0.682095\n",
       "V12      -0.768579\n",
       "V14      -0.805669\n",
       "Name: Class, dtype: float64"
      ]
     },
     "execution_count": 10,
     "metadata": {},
     "output_type": "execute_result"
    }
   ],
   "source": [
    "df.corr()[\"Class\"].sort_values(ascending=False)\n"
   ]
  },
  {
   "cell_type": "code",
   "execution_count": 11,
   "id": "3261ae84",
   "metadata": {
    "execution": {
     "iopub.execute_input": "2025-03-06T15:57:45.248086Z",
     "iopub.status.busy": "2025-03-06T15:57:45.247729Z",
     "iopub.status.idle": "2025-03-06T15:57:45.439449Z",
     "shell.execute_reply": "2025-03-06T15:57:45.438315Z"
    },
    "papermill": {
     "duration": 0.201801,
     "end_time": "2025-03-06T15:57:45.441806",
     "exception": false,
     "start_time": "2025-03-06T15:57:45.240005",
     "status": "completed"
    },
    "tags": []
   },
   "outputs": [],
   "source": [
    "from sklearn.preprocessing import StandardScaler\n",
    "\n",
    "scaler = StandardScaler()\n",
    "df['Amount'] = scaler.fit_transform(df[['Amount']])"
   ]
  },
  {
   "cell_type": "code",
   "execution_count": 12,
   "id": "5f74d2ec",
   "metadata": {
    "execution": {
     "iopub.execute_input": "2025-03-06T15:57:45.459359Z",
     "iopub.status.busy": "2025-03-06T15:57:45.458939Z",
     "iopub.status.idle": "2025-03-06T15:57:45.825592Z",
     "shell.execute_reply": "2025-03-06T15:57:45.824341Z"
    },
    "papermill": {
     "duration": 0.376661,
     "end_time": "2025-03-06T15:57:45.827574",
     "exception": false,
     "start_time": "2025-03-06T15:57:45.450913",
     "status": "completed"
    },
    "tags": []
   },
   "outputs": [],
   "source": [
    "from sklearn.model_selection import train_test_split\n",
    "\n",
    "x= df.drop(['Class', 'id'], axis=1)\n",
    "y = df['Class']\n",
    "\n",
    "x_train, x_test, y_train, y_test = train_test_split(x, y, test_size=0.2, random_state=42)"
   ]
  },
  {
   "cell_type": "code",
   "execution_count": 13,
   "id": "d8ada9b6",
   "metadata": {
    "execution": {
     "iopub.execute_input": "2025-03-06T15:57:45.844144Z",
     "iopub.status.busy": "2025-03-06T15:57:45.843722Z",
     "iopub.status.idle": "2025-03-06T16:02:41.532166Z",
     "shell.execute_reply": "2025-03-06T16:02:41.531118Z"
    },
    "papermill": {
     "duration": 295.699422,
     "end_time": "2025-03-06T16:02:41.533943",
     "exception": false,
     "start_time": "2025-03-06T15:57:45.834521",
     "status": "completed"
    },
    "tags": []
   },
   "outputs": [
    {
     "name": "stdout",
     "output_type": "stream",
     "text": [
      "Epoch 1/10\n",
      "\u001b[1m14216/14216\u001b[0m \u001b[32m━━━━━━━━━━━━━━━━━━━━\u001b[0m\u001b[37m\u001b[0m \u001b[1m28s\u001b[0m 2ms/step - loss: 0.9137 - val_loss: 0.8267\n",
      "Epoch 2/10\n",
      "\u001b[1m14216/14216\u001b[0m \u001b[32m━━━━━━━━━━━━━━━━━━━━\u001b[0m\u001b[37m\u001b[0m \u001b[1m27s\u001b[0m 2ms/step - loss: 0.8076 - val_loss: 0.8054\n",
      "Epoch 3/10\n",
      "\u001b[1m14216/14216\u001b[0m \u001b[32m━━━━━━━━━━━━━━━━━━━━\u001b[0m\u001b[37m\u001b[0m \u001b[1m28s\u001b[0m 2ms/step - loss: 0.8038 - val_loss: 0.8027\n",
      "Epoch 4/10\n",
      "\u001b[1m14216/14216\u001b[0m \u001b[32m━━━━━━━━━━━━━━━━━━━━\u001b[0m\u001b[37m\u001b[0m \u001b[1m29s\u001b[0m 2ms/step - loss: 0.7930 - val_loss: 0.8001\n",
      "Epoch 5/10\n",
      "\u001b[1m14216/14216\u001b[0m \u001b[32m━━━━━━━━━━━━━━━━━━━━\u001b[0m\u001b[37m\u001b[0m \u001b[1m29s\u001b[0m 2ms/step - loss: 0.7932 - val_loss: 0.7983\n",
      "Epoch 6/10\n",
      "\u001b[1m14216/14216\u001b[0m \u001b[32m━━━━━━━━━━━━━━━━━━━━\u001b[0m\u001b[37m\u001b[0m \u001b[1m29s\u001b[0m 2ms/step - loss: 0.7963 - val_loss: 0.7984\n",
      "Epoch 7/10\n",
      "\u001b[1m14216/14216\u001b[0m \u001b[32m━━━━━━━━━━━━━━━━━━━━\u001b[0m\u001b[37m\u001b[0m \u001b[1m28s\u001b[0m 2ms/step - loss: 0.7960 - val_loss: 0.7976\n",
      "Epoch 8/10\n",
      "\u001b[1m14216/14216\u001b[0m \u001b[32m━━━━━━━━━━━━━━━━━━━━\u001b[0m\u001b[37m\u001b[0m \u001b[1m28s\u001b[0m 2ms/step - loss: 0.7858 - val_loss: 0.7962\n",
      "Epoch 9/10\n",
      "\u001b[1m14216/14216\u001b[0m \u001b[32m━━━━━━━━━━━━━━━━━━━━\u001b[0m\u001b[37m\u001b[0m \u001b[1m28s\u001b[0m 2ms/step - loss: 0.7920 - val_loss: 0.7944\n",
      "Epoch 10/10\n",
      "\u001b[1m14216/14216\u001b[0m \u001b[32m━━━━━━━━━━━━━━━━━━━━\u001b[0m\u001b[37m\u001b[0m \u001b[1m27s\u001b[0m 2ms/step - loss: 0.7883 - val_loss: 0.7939\n"
     ]
    },
    {
     "data": {
      "text/plain": [
       "<keras.src.callbacks.history.History at 0x7908746970a0>"
      ]
     },
     "execution_count": 13,
     "metadata": {},
     "output_type": "execute_result"
    }
   ],
   "source": [
    "import tensorflow as tf\n",
    "from tensorflow.keras.models import Model\n",
    "from tensorflow.keras.layers import Input, Dense\n",
    "\n",
    "input_layer = Input(shape=(x_train.shape[1],))\n",
    "\n",
    "encoded = Dense(14, activation ='relu')(input_layer)\n",
    "encoded = Dense(7, activation = 'relu')(encoded)\n",
    "\n",
    "bottleneck = Dense(3, activation ='relu')(encoded)\n",
    "\n",
    "decoded = Dense(7, activation='relu')(bottleneck)\n",
    "decoded = Dense(14, activation='relu')(decoded)\n",
    "decoded = Dense(x_train.shape[1], activation='sigmoid')(decoded)\n",
    "\n",
    "autoencoder = Model(input_layer, decoded)\n",
    "autoencoder.compile(optimizer='adam', loss='mse')\n",
    "\n",
    "autoencoder.fit(x_train, x_train, epochs=10, batch_size=32, shuffle=True, validation_data=(x_test, x_test))"
   ]
  },
  {
   "cell_type": "code",
   "execution_count": 14,
   "id": "976dcbfe",
   "metadata": {
    "execution": {
     "iopub.execute_input": "2025-03-06T16:02:42.094277Z",
     "iopub.status.busy": "2025-03-06T16:02:42.093369Z",
     "iopub.status.idle": "2025-03-06T16:02:48.663788Z",
     "shell.execute_reply": "2025-03-06T16:02:48.662589Z"
    },
    "papermill": {
     "duration": 6.854445,
     "end_time": "2025-03-06T16:02:48.665360",
     "exception": false,
     "start_time": "2025-03-06T16:02:41.810915",
     "status": "completed"
    },
    "tags": []
   },
   "outputs": [
    {
     "name": "stdout",
     "output_type": "stream",
     "text": [
      "\u001b[1m3554/3554\u001b[0m \u001b[32m━━━━━━━━━━━━━━━━━━━━\u001b[0m\u001b[37m\u001b[0m \u001b[1m5s\u001b[0m 1ms/step\n",
      "              precision    recall  f1-score   support\n",
      "\n",
      "           0       0.52      0.99      0.68     56750\n",
      "           1       0.90      0.09      0.16     56976\n",
      "\n",
      "    accuracy                           0.54    113726\n",
      "   macro avg       0.71      0.54      0.42    113726\n",
      "weighted avg       0.71      0.54      0.42    113726\n",
      "\n"
     ]
    }
   ],
   "source": [
    "x_pred = autoencoder.predict(x_test)\n",
    "\n",
    "mse = np.mean(np.power(x_test - x_pred, 2), axis=1)\n",
    "\n",
    "threshold = np.percentile(mse, 95)\n",
    "fraud_predictions = (mse> threshold).astype(int)\n",
    "\n",
    "from sklearn.metrics import classification_report\n",
    "print(classification_report(y_test, fraud_predictions))"
   ]
  },
  {
   "cell_type": "code",
   "execution_count": 15,
   "id": "f9e5e84a",
   "metadata": {
    "execution": {
     "iopub.execute_input": "2025-03-06T16:02:49.277968Z",
     "iopub.status.busy": "2025-03-06T16:02:49.277574Z",
     "iopub.status.idle": "2025-03-06T16:02:52.639404Z",
     "shell.execute_reply": "2025-03-06T16:02:52.638104Z"
    },
    "papermill": {
     "duration": 3.700958,
     "end_time": "2025-03-06T16:02:52.641537",
     "exception": false,
     "start_time": "2025-03-06T16:02:48.940579",
     "status": "completed"
    },
    "tags": []
   },
   "outputs": [
    {
     "name": "stderr",
     "output_type": "stream",
     "text": [
      "/usr/local/lib/python3.10/dist-packages/sklearn/cluster/_kmeans.py:870: FutureWarning: The default value of `n_init` will change from 10 to 'auto' in 1.4. Set the value of `n_init` explicitly to suppress the warning\n",
      "  warnings.warn(\n"
     ]
    },
    {
     "name": "stdout",
     "output_type": "stream",
     "text": [
      "Cluster  Class\n",
      "0        0        0.80958\n",
      "         1        0.19042\n",
      "1        1        0.99972\n",
      "         0        0.00028\n",
      "Name: proportion, dtype: float64\n"
     ]
    }
   ],
   "source": [
    "from sklearn.cluster import KMeans\n",
    "\n",
    "kmeans = KMeans(n_clusters=2, random_state=42)\n",
    "df[\"Cluster\"] = kmeans.fit_predict(x)\n",
    "\n",
    "# Check fraud distribution per cluster\n",
    "print(df.groupby(\"Cluster\")[\"Class\"].value_counts(normalize=True))\n"
   ]
  },
  {
   "cell_type": "code",
   "execution_count": 16,
   "id": "87250c37",
   "metadata": {
    "execution": {
     "iopub.execute_input": "2025-03-06T16:02:53.195352Z",
     "iopub.status.busy": "2025-03-06T16:02:53.194917Z",
     "iopub.status.idle": "2025-03-06T16:02:53.650874Z",
     "shell.execute_reply": "2025-03-06T16:02:53.649749Z"
    },
    "papermill": {
     "duration": 0.73367,
     "end_time": "2025-03-06T16:02:53.652919",
     "exception": false,
     "start_time": "2025-03-06T16:02:52.919249",
     "status": "completed"
    },
    "tags": []
   },
   "outputs": [],
   "source": [
    "from sklearn.preprocessing import StandardScaler\n",
    "scaler = StandardScaler()\n",
    "df_scaled = scaler.fit_transform(df.drop(columns=[\"Class\"]))  \n"
   ]
  },
  {
   "cell_type": "code",
   "execution_count": 17,
   "id": "343a1b2c",
   "metadata": {
    "execution": {
     "iopub.execute_input": "2025-03-06T16:02:54.270747Z",
     "iopub.status.busy": "2025-03-06T16:02:54.270235Z",
     "iopub.status.idle": "2025-03-06T16:02:55.340213Z",
     "shell.execute_reply": "2025-03-06T16:02:55.339207Z"
    },
    "papermill": {
     "duration": 1.415668,
     "end_time": "2025-03-06T16:02:55.342261",
     "exception": false,
     "start_time": "2025-03-06T16:02:53.926593",
     "status": "completed"
    },
    "tags": []
   },
   "outputs": [],
   "source": [
    "from sklearn.decomposition import PCA\n",
    "pca = PCA(n_components=0.95)  \n",
    "df_pca = pca.fit_transform(df_scaled)\n"
   ]
  },
  {
   "cell_type": "code",
   "execution_count": 18,
   "id": "f3a50a62",
   "metadata": {
    "execution": {
     "iopub.execute_input": "2025-03-06T16:02:55.886486Z",
     "iopub.status.busy": "2025-03-06T16:02:55.886036Z",
     "iopub.status.idle": "2025-03-06T16:02:56.089945Z",
     "shell.execute_reply": "2025-03-06T16:02:56.088787Z"
    },
    "papermill": {
     "duration": 0.48146,
     "end_time": "2025-03-06T16:02:56.091999",
     "exception": false,
     "start_time": "2025-03-06T16:02:55.610539",
     "status": "completed"
    },
    "tags": []
   },
   "outputs": [
    {
     "data": {
      "image/png": "[encoded data removed]",
      "text/plain": [
       "<Figure size 640x480 with 1 Axes>"
      ]
     },
     "metadata": {},
     "output_type": "display_data"
    }
   ],
   "source": [
    "import matplotlib.pyplot as plt\n",
    "plt.plot(range(1, len(pca.explained_variance_ratio_) + 1), pca.explained_variance_ratio_.cumsum(), marker='o')\n",
    "plt.xlabel('Number of Components')\n",
    "plt.ylabel('Cumulative Explained Variance')\n",
    "plt.title('Explained Variance by Components')\n",
    "plt.show()\n"
   ]
  },
  {
   "cell_type": "code",
   "execution_count": null,
   "id": "29b458da",
   "metadata": {
    "papermill": {
     "duration": 0.274604,
     "end_time": "2025-03-06T16:02:56.649396",
     "exception": false,
     "start_time": "2025-03-06T16:02:56.374792",
     "status": "completed"
    },
    "tags": []
   },
   "outputs": [],
   "source": []
  }
 ],
 "metadata": {
  "kaggle": {
   "accelerator": "none",
   "dataSources": [
    {
     "datasetId": 3752264,
     "sourceId": 6492730,
     "sourceType": "datasetVersion"
    }
   ],
   "dockerImageVersionId": 30918,
   "isGpuEnabled": false,
   "isInternetEnabled": true,
   "language": "python",
   "sourceType": "notebook"
  },
  "kernelspec": {
   "display_name": "Python 3",
   "language": "python",
   "name": "python3"
  },
  "language_info": {
   "codemirror_mode": {
    "name": "ipython",
    "version": 3
   },
   "file_extension": ".py",
   "mimetype": "text/x-python",
   "name": "python",
   "nbconvert_exporter": "python",
   "pygments_lexer": "ipython3",
   "version": "3.10.12"
  },
  "papermill": {
   "default_parameters": {},
   "duration": 335.527644,
   "end_time": "2025-03-06T16:02:58.855018",
   "environment_variables": {},
   "exception": null,
   "input_path": "__notebook__.ipynb",
   "output_path": "__notebook__.ipynb",
   "parameters": {},
   "start_time": "2025-03-06T15:57:23.327374",
   "version": "2.6.0"
  }
 },
 "nbformat": 4,
 "nbformat_minor": 5
}
