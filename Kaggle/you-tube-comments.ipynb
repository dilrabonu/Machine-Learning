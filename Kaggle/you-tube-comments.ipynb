{
 "cells": [
  {
   "cell_type": "code",
   "execution_count": 1,
   "id": "52bd9dd3",
   "metadata": {
    "_cell_guid": "b1076dfc-b9ad-4769-8c92-a6c4dae69d19",
    "_uuid": "8f2839f25d086af736a60e9eeb907d3b93b6e0e5",
    "execution": {
     "iopub.execute_input": "2025-02-25T15:54:21.578673Z",
     "iopub.status.busy": "2025-02-25T15:54:21.578361Z",
     "iopub.status.idle": "2025-02-25T15:54:22.562914Z",
     "shell.execute_reply": "2025-02-25T15:54:22.561651Z"
    },
    "papermill": {
     "duration": 0.994428,
     "end_time": "2025-02-25T15:54:22.564377",
     "exception": false,
     "start_time": "2025-02-25T15:54:21.569949",
     "status": "completed"
    },
    "tags": []
   },
   "outputs": [
    {
     "name": "stdout",
     "output_type": "stream",
     "text": [
      "/kaggle/input/youtube-comments-dataset/YoutubeCommentsDataSet.csv\n"
     ]
    }
   ],
   "source": [
    "# This Python 3 environment comes with many helpful analytics libraries installed\n",
    "# It is defined by the kaggle/python Docker image: https://github.com/kaggle/docker-python\n",
    "# For example, here's several helpful packages to load\n",
    "\n",
    "import numpy as np # linear algebra\n",
    "import pandas as pd # data processing, CSV file I/O (e.g. pd.read_csv)\n",
    "\n",
    "# Input data files are available in the read-only \"../input/\" directory\n",
    "# For example, running this (by clicking run or pressing Shift+Enter) will list all files under the input directory\n",
    "\n",
    "import os\n",
    "for dirname, _, filenames in os.walk('/kaggle/input'):\n",
    "    for filename in filenames:\n",
    "        print(os.path.join(dirname, filename))\n",
    "\n",
    "# You can write up to 20GB to the current directory (/kaggle/working/) that gets preserved as output when you create a version using \"Save & Run All\" \n",
    "# You can also write temporary files to /kaggle/temp/, but they won't be saved outside of the current session"
   ]
  },
  {
   "cell_type": "code",
   "execution_count": 2,
   "id": "0ed8ad61",
   "metadata": {
    "execution": {
     "iopub.execute_input": "2025-02-25T15:54:22.576061Z",
     "iopub.status.busy": "2025-02-25T15:54:22.575627Z",
     "iopub.status.idle": "2025-02-25T15:54:22.717906Z",
     "shell.execute_reply": "2025-02-25T15:54:22.717136Z"
    },
    "papermill": {
     "duration": 0.149086,
     "end_time": "2025-02-25T15:54:22.719046",
     "exception": false,
     "start_time": "2025-02-25T15:54:22.569960",
     "status": "completed"
    },
    "tags": []
   },
   "outputs": [
    {
     "data": {
      "text/html": [
       "<div>\n",
       "<style scoped>\n",
       "    .dataframe tbody tr th:only-of-type {\n",
       "        vertical-align: middle;\n",
       "    }\n",
       "\n",
       "    .dataframe tbody tr th {\n",
       "        vertical-align: top;\n",
       "    }\n",
       "\n",
       "    .dataframe thead th {\n",
       "        text-align: right;\n",
       "    }\n",
       "</style>\n",
       "<table border=\"1\" class=\"dataframe\">\n",
       "  <thead>\n",
       "    <tr style=\"text-align: right;\">\n",
       "      <th></th>\n",
       "      <th>Comment</th>\n",
       "      <th>Sentiment</th>\n",
       "    </tr>\n",
       "  </thead>\n",
       "  <tbody>\n",
       "    <tr>\n",
       "      <th>0</th>\n",
       "      <td>lets not forget that apple pay in 2014 require...</td>\n",
       "      <td>neutral</td>\n",
       "    </tr>\n",
       "    <tr>\n",
       "      <th>1</th>\n",
       "      <td>here in nz 50 of retailers don’t even have con...</td>\n",
       "      <td>negative</td>\n",
       "    </tr>\n",
       "    <tr>\n",
       "      <th>2</th>\n",
       "      <td>i will forever acknowledge this channel with t...</td>\n",
       "      <td>positive</td>\n",
       "    </tr>\n",
       "    <tr>\n",
       "      <th>3</th>\n",
       "      <td>whenever i go to a place that doesn’t take app...</td>\n",
       "      <td>negative</td>\n",
       "    </tr>\n",
       "    <tr>\n",
       "      <th>4</th>\n",
       "      <td>apple pay is so convenient secure and easy to ...</td>\n",
       "      <td>positive</td>\n",
       "    </tr>\n",
       "  </tbody>\n",
       "</table>\n",
       "</div>"
      ],
      "text/plain": [
       "                                             Comment Sentiment\n",
       "0  lets not forget that apple pay in 2014 require...   neutral\n",
       "1  here in nz 50 of retailers don’t even have con...  negative\n",
       "2  i will forever acknowledge this channel with t...  positive\n",
       "3  whenever i go to a place that doesn’t take app...  negative\n",
       "4  apple pay is so convenient secure and easy to ...  positive"
      ]
     },
     "execution_count": 2,
     "metadata": {},
     "output_type": "execute_result"
    }
   ],
   "source": [
    "df=pd.read_csv(\"/kaggle/input/youtube-comments-dataset/YoutubeCommentsDataSet.csv\")\n",
    "df.head()"
   ]
  },
  {
   "cell_type": "code",
   "execution_count": 3,
   "id": "b09a2835",
   "metadata": {
    "execution": {
     "iopub.execute_input": "2025-02-25T15:54:22.729902Z",
     "iopub.status.busy": "2025-02-25T15:54:22.729604Z",
     "iopub.status.idle": "2025-02-25T15:54:22.757874Z",
     "shell.execute_reply": "2025-02-25T15:54:22.756762Z"
    },
    "papermill": {
     "duration": 0.035396,
     "end_time": "2025-02-25T15:54:22.759551",
     "exception": false,
     "start_time": "2025-02-25T15:54:22.724155",
     "status": "completed"
    },
    "tags": []
   },
   "outputs": [
    {
     "name": "stdout",
     "output_type": "stream",
     "text": [
      "<class 'pandas.core.frame.DataFrame'>\n",
      "RangeIndex: 18408 entries, 0 to 18407\n",
      "Data columns (total 2 columns):\n",
      " #   Column     Non-Null Count  Dtype \n",
      "---  ------     --------------  ----- \n",
      " 0   Comment    18364 non-null  object\n",
      " 1   Sentiment  18408 non-null  object\n",
      "dtypes: object(2)\n",
      "memory usage: 287.8+ KB\n"
     ]
    }
   ],
   "source": [
    "df.info()"
   ]
  },
  {
   "cell_type": "code",
   "execution_count": 4,
   "id": "94f2792d",
   "metadata": {
    "execution": {
     "iopub.execute_input": "2025-02-25T15:54:22.771058Z",
     "iopub.status.busy": "2025-02-25T15:54:22.770756Z",
     "iopub.status.idle": "2025-02-25T15:54:22.779136Z",
     "shell.execute_reply": "2025-02-25T15:54:22.778530Z"
    },
    "papermill": {
     "duration": 0.015243,
     "end_time": "2025-02-25T15:54:22.780180",
     "exception": false,
     "start_time": "2025-02-25T15:54:22.764937",
     "status": "completed"
    },
    "tags": []
   },
   "outputs": [
    {
     "data": {
      "text/plain": [
       "Comment      44\n",
       "Sentiment     0\n",
       "dtype: int64"
      ]
     },
     "execution_count": 4,
     "metadata": {},
     "output_type": "execute_result"
    }
   ],
   "source": [
    "df.isnull().sum()"
   ]
  },
  {
   "cell_type": "code",
   "execution_count": 5,
   "id": "8bdeafbd",
   "metadata": {
    "execution": {
     "iopub.execute_input": "2025-02-25T15:54:22.791668Z",
     "iopub.status.busy": "2025-02-25T15:54:22.791294Z",
     "iopub.status.idle": "2025-02-25T15:54:22.803349Z",
     "shell.execute_reply": "2025-02-25T15:54:22.802562Z"
    },
    "papermill": {
     "duration": 0.019045,
     "end_time": "2025-02-25T15:54:22.804488",
     "exception": false,
     "start_time": "2025-02-25T15:54:22.785443",
     "status": "completed"
    },
    "tags": []
   },
   "outputs": [
    {
     "data": {
      "text/plain": [
       "531"
      ]
     },
     "execution_count": 5,
     "metadata": {},
     "output_type": "execute_result"
    }
   ],
   "source": [
    "df.duplicated().sum()"
   ]
  },
  {
   "cell_type": "code",
   "execution_count": 6,
   "id": "0a144e18",
   "metadata": {
    "execution": {
     "iopub.execute_input": "2025-02-25T15:54:22.815828Z",
     "iopub.status.busy": "2025-02-25T15:54:22.815525Z",
     "iopub.status.idle": "2025-02-25T15:54:22.827747Z",
     "shell.execute_reply": "2025-02-25T15:54:22.826747Z"
    },
    "papermill": {
     "duration": 0.019577,
     "end_time": "2025-02-25T15:54:22.829581",
     "exception": false,
     "start_time": "2025-02-25T15:54:22.810004",
     "status": "completed"
    },
    "tags": []
   },
   "outputs": [],
   "source": [
    "df.drop_duplicates(inplace=True)\n"
   ]
  },
  {
   "cell_type": "code",
   "execution_count": 7,
   "id": "053aeee3",
   "metadata": {
    "execution": {
     "iopub.execute_input": "2025-02-25T15:54:22.842117Z",
     "iopub.status.busy": "2025-02-25T15:54:22.841837Z",
     "iopub.status.idle": "2025-02-25T15:54:22.852768Z",
     "shell.execute_reply": "2025-02-25T15:54:22.852019Z"
    },
    "papermill": {
     "duration": 0.018447,
     "end_time": "2025-02-25T15:54:22.854261",
     "exception": false,
     "start_time": "2025-02-25T15:54:22.835814",
     "status": "completed"
    },
    "tags": []
   },
   "outputs": [
    {
     "data": {
      "text/plain": [
       "0"
      ]
     },
     "execution_count": 7,
     "metadata": {},
     "output_type": "execute_result"
    }
   ],
   "source": [
    "df.duplicated().sum()"
   ]
  },
  {
   "cell_type": "code",
   "execution_count": 8,
   "id": "3415a11d",
   "metadata": {
    "execution": {
     "iopub.execute_input": "2025-02-25T15:54:22.866448Z",
     "iopub.status.busy": "2025-02-25T15:54:22.866137Z",
     "iopub.status.idle": "2025-02-25T15:54:22.878205Z",
     "shell.execute_reply": "2025-02-25T15:54:22.877489Z"
    },
    "papermill": {
     "duration": 0.019473,
     "end_time": "2025-02-25T15:54:22.879539",
     "exception": false,
     "start_time": "2025-02-25T15:54:22.860066",
     "status": "completed"
    },
    "tags": []
   },
   "outputs": [
    {
     "name": "stdout",
     "output_type": "stream",
     "text": [
      "<class 'pandas.core.frame.DataFrame'>\n",
      "Index: 17877 entries, 0 to 18407\n",
      "Data columns (total 2 columns):\n",
      " #   Column     Non-Null Count  Dtype \n",
      "---  ------     --------------  ----- \n",
      " 0   Comment    17877 non-null  object\n",
      " 1   Sentiment  17877 non-null  object\n",
      "dtypes: object(2)\n",
      "memory usage: 419.0+ KB\n"
     ]
    },
    {
     "name": "stderr",
     "output_type": "stream",
     "text": [
      "<ipython-input-8-125af7707b1a>:1: FutureWarning: A value is trying to be set on a copy of a DataFrame or Series through chained assignment using an inplace method.\n",
      "The behavior will change in pandas 3.0. This inplace method will never work because the intermediate object on which we are setting values always behaves as a copy.\n",
      "\n",
      "For example, when doing 'df[col].method(value, inplace=True)', try using 'df.method({col: value}, inplace=True)' or df[col] = df[col].method(value) instead, to perform the operation inplace on the original object.\n",
      "\n",
      "\n",
      "  df['Comment'].fillna('Unknown', inplace=True)\n"
     ]
    }
   ],
   "source": [
    "df['Comment'].fillna('Unknown', inplace=True)\n",
    "df.info()"
   ]
  },
  {
   "cell_type": "code",
   "execution_count": 9,
   "id": "46530354",
   "metadata": {
    "execution": {
     "iopub.execute_input": "2025-02-25T15:54:22.892676Z",
     "iopub.status.busy": "2025-02-25T15:54:22.892237Z",
     "iopub.status.idle": "2025-02-25T15:54:22.898485Z",
     "shell.execute_reply": "2025-02-25T15:54:22.897405Z"
    },
    "papermill": {
     "duration": 0.014813,
     "end_time": "2025-02-25T15:54:22.899704",
     "exception": false,
     "start_time": "2025-02-25T15:54:22.884891",
     "status": "completed"
    },
    "tags": []
   },
   "outputs": [
    {
     "data": {
      "text/plain": [
       "array(['neutral', 'negative', 'positive'], dtype=object)"
      ]
     },
     "execution_count": 9,
     "metadata": {},
     "output_type": "execute_result"
    }
   ],
   "source": [
    "df['Sentiment'].unique()"
   ]
  },
  {
   "cell_type": "code",
   "execution_count": 10,
   "id": "74ed8484",
   "metadata": {
    "execution": {
     "iopub.execute_input": "2025-02-25T15:54:22.911552Z",
     "iopub.status.busy": "2025-02-25T15:54:22.911250Z",
     "iopub.status.idle": "2025-02-25T15:54:38.591993Z",
     "shell.execute_reply": "2025-02-25T15:54:38.590915Z"
    },
    "papermill": {
     "duration": 15.688719,
     "end_time": "2025-02-25T15:54:38.593965",
     "exception": false,
     "start_time": "2025-02-25T15:54:22.905246",
     "status": "completed"
    },
    "tags": []
   },
   "outputs": [],
   "source": [
    "import matplotlib.pyplot as plt\n",
    "import seaborn as sns\n",
    "import warnings\n",
    "from sklearn.preprocessing import LabelEncoder\n",
    "from sklearn.model_selection import train_test_split\n",
    "from sklearn.metrics import classification_report, confusion_matrix, accuracy_score, roc_auc_score, roc_curve\n",
    "from sklearn.utils.class_weight import compute_class_weight\n",
    "from tensorflow.keras.preprocessing.text import Tokenizer\n",
    "from tensorflow.keras.preprocessing.sequence import pad_sequences\n",
    "from tensorflow.keras.models import Model, Sequential\n",
    "from tensorflow.keras.layers import (Embedding, SpatialDropout1D, Bidirectional, \n",
    "                                     LSTM, Dense, Dropout, LayerNormalization, \n",
    "                                     Attention, Input, Flatten)\n",
    "from tensorflow.keras.callbacks import EarlyStopping, ReduceLROnPlateau\n",
    "from tensorflow.keras.optimizers import Adam\n",
    "from tensorflow.keras.regularizers import l2"
   ]
  },
  {
   "cell_type": "code",
   "execution_count": 11,
   "id": "887469f2",
   "metadata": {
    "execution": {
     "iopub.execute_input": "2025-02-25T15:54:38.607689Z",
     "iopub.status.busy": "2025-02-25T15:54:38.606982Z",
     "iopub.status.idle": "2025-02-25T15:54:38.815235Z",
     "shell.execute_reply": "2025-02-25T15:54:38.814406Z"
    },
    "papermill": {
     "duration": 0.216828,
     "end_time": "2025-02-25T15:54:38.817031",
     "exception": false,
     "start_time": "2025-02-25T15:54:38.600203",
     "status": "completed"
    },
    "tags": []
   },
   "outputs": [
    {
     "data": {
      "image/png": "[encoded data removed]",
      "text/plain": [
       "<Figure size 500x300 with 1 Axes>"
      ]
     },
     "metadata": {},
     "output_type": "display_data"
    }
   ],
   "source": [
    "plt.figure(figsize=(5, 3))\n",
    "sns.countplot(x='Sentiment', data=df, palette='viridis')\n",
    "plt.title('Youtube Sentiment Distribution', fontsize=14)\n",
    "plt.show()"
   ]
  },
  {
   "cell_type": "code",
   "execution_count": 12,
   "id": "23db7321",
   "metadata": {
    "execution": {
     "iopub.execute_input": "2025-02-25T15:54:38.830288Z",
     "iopub.status.busy": "2025-02-25T15:54:38.829932Z",
     "iopub.status.idle": "2025-02-25T15:54:38.840672Z",
     "shell.execute_reply": "2025-02-25T15:54:38.839821Z"
    },
    "papermill": {
     "duration": 0.018665,
     "end_time": "2025-02-25T15:54:38.841974",
     "exception": false,
     "start_time": "2025-02-25T15:54:38.823309",
     "status": "completed"
    },
    "tags": []
   },
   "outputs": [
    {
     "data": {
      "text/html": [
       "<div>\n",
       "<style scoped>\n",
       "    .dataframe tbody tr th:only-of-type {\n",
       "        vertical-align: middle;\n",
       "    }\n",
       "\n",
       "    .dataframe tbody tr th {\n",
       "        vertical-align: top;\n",
       "    }\n",
       "\n",
       "    .dataframe thead th {\n",
       "        text-align: right;\n",
       "    }\n",
       "</style>\n",
       "<table border=\"1\" class=\"dataframe\">\n",
       "  <thead>\n",
       "    <tr style=\"text-align: right;\">\n",
       "      <th></th>\n",
       "      <th>Comment</th>\n",
       "      <th>Sentiment</th>\n",
       "    </tr>\n",
       "  </thead>\n",
       "  <tbody>\n",
       "    <tr>\n",
       "      <th>0</th>\n",
       "      <td>lets not forget that apple pay in 2014 require...</td>\n",
       "      <td>1</td>\n",
       "    </tr>\n",
       "    <tr>\n",
       "      <th>1</th>\n",
       "      <td>here in nz 50 of retailers don’t even have con...</td>\n",
       "      <td>0</td>\n",
       "    </tr>\n",
       "    <tr>\n",
       "      <th>2</th>\n",
       "      <td>i will forever acknowledge this channel with t...</td>\n",
       "      <td>2</td>\n",
       "    </tr>\n",
       "    <tr>\n",
       "      <th>3</th>\n",
       "      <td>whenever i go to a place that doesn’t take app...</td>\n",
       "      <td>0</td>\n",
       "    </tr>\n",
       "    <tr>\n",
       "      <th>4</th>\n",
       "      <td>apple pay is so convenient secure and easy to ...</td>\n",
       "      <td>2</td>\n",
       "    </tr>\n",
       "  </tbody>\n",
       "</table>\n",
       "</div>"
      ],
      "text/plain": [
       "                                             Comment  Sentiment\n",
       "0  lets not forget that apple pay in 2014 require...          1\n",
       "1  here in nz 50 of retailers don’t even have con...          0\n",
       "2  i will forever acknowledge this channel with t...          2\n",
       "3  whenever i go to a place that doesn’t take app...          0\n",
       "4  apple pay is so convenient secure and easy to ...          2"
      ]
     },
     "execution_count": 12,
     "metadata": {},
     "output_type": "execute_result"
    }
   ],
   "source": [
    "le= LabelEncoder()\n",
    "df['Sentiment'] = le.fit_transform(df['Sentiment'])\n",
    "df.head()"
   ]
  },
  {
   "cell_type": "code",
   "execution_count": 13,
   "id": "ad3ca962",
   "metadata": {
    "execution": {
     "iopub.execute_input": "2025-02-25T15:54:38.855590Z",
     "iopub.status.busy": "2025-02-25T15:54:38.855204Z",
     "iopub.status.idle": "2025-02-25T15:54:45.107137Z",
     "shell.execute_reply": "2025-02-25T15:54:45.105799Z"
    },
    "papermill": {
     "duration": 6.260179,
     "end_time": "2025-02-25T15:54:45.108840",
     "exception": false,
     "start_time": "2025-02-25T15:54:38.848661",
     "status": "completed"
    },
    "tags": []
   },
   "outputs": [
    {
     "name": "stdout",
     "output_type": "stream",
     "text": [
      "Collecting contractions\r\n",
      "  Downloading contractions-0.1.73-py2.py3-none-any.whl.metadata (1.2 kB)\r\n",
      "Collecting textsearch>=0.0.21 (from contractions)\r\n",
      "  Downloading textsearch-0.0.24-py2.py3-none-any.whl.metadata (1.2 kB)\r\n",
      "Collecting anyascii (from textsearch>=0.0.21->contractions)\r\n",
      "  Downloading anyascii-0.3.2-py3-none-any.whl.metadata (1.5 kB)\r\n",
      "Collecting pyahocorasick (from textsearch>=0.0.21->contractions)\r\n",
      "  Downloading pyahocorasick-2.1.0-cp310-cp310-manylinux_2_5_x86_64.manylinux1_x86_64.manylinux_2_12_x86_64.manylinux2010_x86_64.whl.metadata (13 kB)\r\n",
      "Downloading contractions-0.1.73-py2.py3-none-any.whl (8.7 kB)\r\n",
      "Downloading textsearch-0.0.24-py2.py3-none-any.whl (7.6 kB)\r\n",
      "Downloading anyascii-0.3.2-py3-none-any.whl (289 kB)\r\n",
      "\u001b[2K   \u001b[90m━━━━━━━━━━━━━━━━━━━━━━━━━━━━━━━━━━━━━━━━\u001b[0m \u001b[32m289.9/289.9 kB\u001b[0m \u001b[31m5.0 MB/s\u001b[0m eta \u001b[36m0:00:00\u001b[0m\r\n",
      "\u001b[?25hDownloading pyahocorasick-2.1.0-cp310-cp310-manylinux_2_5_x86_64.manylinux1_x86_64.manylinux_2_12_x86_64.manylinux2010_x86_64.whl (110 kB)\r\n",
      "\u001b[2K   \u001b[90m━━━━━━━━━━━━━━━━━━━━━━━━━━━━━━━━━━━━━━━━\u001b[0m \u001b[32m110.7/110.7 kB\u001b[0m \u001b[31m4.6 MB/s\u001b[0m eta \u001b[36m0:00:00\u001b[0m\r\n",
      "\u001b[?25hInstalling collected packages: pyahocorasick, anyascii, textsearch, contractions\r\n",
      "Successfully installed anyascii-0.3.2 contractions-0.1.73 pyahocorasick-2.1.0 textsearch-0.0.24\r\n",
      "Note: you may need to restart the kernel to use updated packages.\n"
     ]
    }
   ],
   "source": [
    "pip install contractions"
   ]
  },
  {
   "cell_type": "code",
   "execution_count": 14,
   "id": "2e404adb",
   "metadata": {
    "execution": {
     "iopub.execute_input": "2025-02-25T15:54:45.123357Z",
     "iopub.status.busy": "2025-02-25T15:54:45.123004Z",
     "iopub.status.idle": "2025-02-25T15:54:45.563188Z",
     "shell.execute_reply": "2025-02-25T15:54:45.562404Z"
    },
    "papermill": {
     "duration": 0.44903,
     "end_time": "2025-02-25T15:54:45.564808",
     "exception": false,
     "start_time": "2025-02-25T15:54:45.115778",
     "status": "completed"
    },
    "tags": []
   },
   "outputs": [],
   "source": [
    "import re\n",
    "import contractions\n",
    "def clean_text(text):\n",
    "    text = str(text).lower() # Convert to lowercase\n",
    "    text = contractions.fix(text) # Expand contractions\n",
    "    text = re.sub(r\"http\\S+|www\\.\\S+\", \"\", text) # Remove URLs starting with http/https or www\n",
    "    text = re.sub(r\"@\\w+\", \"\", text)  # Remove mentions (@usernames) to avoid irrelevant tokens\n",
    "    text = re.sub(r\"[^a-z0-9' ]\", \"\", text) # Remove special characters\n",
    "    text = re.sub(r\"\\s+\", \" \", text).strip() # Remove extra spaces\n",
    "    return text\n",
    "\n",
    "# Apply text cleaning function to the \"Comment\" column before model training\n",
    "df[\"Cleaned_Text\"] = df[\"Comment\"].apply(clean_text)"
   ]
  },
  {
   "cell_type": "code",
   "execution_count": 15,
   "id": "cf0a9869",
   "metadata": {
    "execution": {
     "iopub.execute_input": "2025-02-25T15:54:45.579091Z",
     "iopub.status.busy": "2025-02-25T15:54:45.578790Z",
     "iopub.status.idle": "2025-02-25T15:54:45.588351Z",
     "shell.execute_reply": "2025-02-25T15:54:45.587005Z"
    },
    "papermill": {
     "duration": 0.018552,
     "end_time": "2025-02-25T15:54:45.590270",
     "exception": false,
     "start_time": "2025-02-25T15:54:45.571718",
     "status": "completed"
    },
    "tags": []
   },
   "outputs": [
    {
     "data": {
      "text/html": [
       "<div>\n",
       "<style scoped>\n",
       "    .dataframe tbody tr th:only-of-type {\n",
       "        vertical-align: middle;\n",
       "    }\n",
       "\n",
       "    .dataframe tbody tr th {\n",
       "        vertical-align: top;\n",
       "    }\n",
       "\n",
       "    .dataframe thead th {\n",
       "        text-align: right;\n",
       "    }\n",
       "</style>\n",
       "<table border=\"1\" class=\"dataframe\">\n",
       "  <thead>\n",
       "    <tr style=\"text-align: right;\">\n",
       "      <th></th>\n",
       "      <th>Comment</th>\n",
       "      <th>Sentiment</th>\n",
       "      <th>Cleaned_Text</th>\n",
       "    </tr>\n",
       "  </thead>\n",
       "  <tbody>\n",
       "    <tr>\n",
       "      <th>0</th>\n",
       "      <td>lets not forget that apple pay in 2014 require...</td>\n",
       "      <td>1</td>\n",
       "      <td>let us not forget that apple pay in 2014 requi...</td>\n",
       "    </tr>\n",
       "    <tr>\n",
       "      <th>1</th>\n",
       "      <td>here in nz 50 of retailers don’t even have con...</td>\n",
       "      <td>0</td>\n",
       "      <td>here in nz 50 of retailers do not even have co...</td>\n",
       "    </tr>\n",
       "    <tr>\n",
       "      <th>2</th>\n",
       "      <td>i will forever acknowledge this channel with t...</td>\n",
       "      <td>2</td>\n",
       "      <td>i will forever acknowledge this channel with t...</td>\n",
       "    </tr>\n",
       "    <tr>\n",
       "      <th>3</th>\n",
       "      <td>whenever i go to a place that doesn’t take app...</td>\n",
       "      <td>0</td>\n",
       "      <td>whenever i go to a place that does not take ap...</td>\n",
       "    </tr>\n",
       "    <tr>\n",
       "      <th>4</th>\n",
       "      <td>apple pay is so convenient secure and easy to ...</td>\n",
       "      <td>2</td>\n",
       "      <td>apple pay is so convenient secure and easy to ...</td>\n",
       "    </tr>\n",
       "  </tbody>\n",
       "</table>\n",
       "</div>"
      ],
      "text/plain": [
       "                                             Comment  Sentiment  \\\n",
       "0  lets not forget that apple pay in 2014 require...          1   \n",
       "1  here in nz 50 of retailers don’t even have con...          0   \n",
       "2  i will forever acknowledge this channel with t...          2   \n",
       "3  whenever i go to a place that doesn’t take app...          0   \n",
       "4  apple pay is so convenient secure and easy to ...          2   \n",
       "\n",
       "                                        Cleaned_Text  \n",
       "0  let us not forget that apple pay in 2014 requi...  \n",
       "1  here in nz 50 of retailers do not even have co...  \n",
       "2  i will forever acknowledge this channel with t...  \n",
       "3  whenever i go to a place that does not take ap...  \n",
       "4  apple pay is so convenient secure and easy to ...  "
      ]
     },
     "execution_count": 15,
     "metadata": {},
     "output_type": "execute_result"
    }
   ],
   "source": [
    "df.head()"
   ]
  },
  {
   "cell_type": "code",
   "execution_count": 16,
   "id": "6dedbc95",
   "metadata": {
    "execution": {
     "iopub.execute_input": "2025-02-25T15:54:45.605619Z",
     "iopub.status.busy": "2025-02-25T15:54:45.605239Z",
     "iopub.status.idle": "2025-02-25T15:54:45.609264Z",
     "shell.execute_reply": "2025-02-25T15:54:45.608403Z"
    },
    "papermill": {
     "duration": 0.012936,
     "end_time": "2025-02-25T15:54:45.610609",
     "exception": false,
     "start_time": "2025-02-25T15:54:45.597673",
     "status": "completed"
    },
    "tags": []
   },
   "outputs": [],
   "source": [
    "X= df['Cleaned_Text']\n",
    "\n",
    "y= df['Sentiment']"
   ]
  },
  {
   "cell_type": "code",
   "execution_count": 17,
   "id": "657a819f",
   "metadata": {
    "execution": {
     "iopub.execute_input": "2025-02-25T15:54:45.625311Z",
     "iopub.status.busy": "2025-02-25T15:54:45.625040Z",
     "iopub.status.idle": "2025-02-25T15:54:46.620033Z",
     "shell.execute_reply": "2025-02-25T15:54:46.618726Z"
    },
    "papermill": {
     "duration": 1.003999,
     "end_time": "2025-02-25T15:54:46.621718",
     "exception": false,
     "start_time": "2025-02-25T15:54:45.617719",
     "status": "completed"
    },
    "tags": []
   },
   "outputs": [],
   "source": [
    "max_words = 7500\n",
    "max_length = 60\n",
    "\n",
    "tokenizer = Tokenizer(num_words = max_words)\n",
    "tokenizer.fit_on_texts(X)\n",
    "\n",
    "X_sequences = tokenizer.texts_to_sequences(X)\n",
    "\n",
    "X_padded = pad_sequences(X_sequences, maxlen = max_length, padding = \"post\", truncating = \"post\")\n",
    "\n",
    "\n",
    "\n",
    "\n",
    "\n"
   ]
  },
  {
   "cell_type": "code",
   "execution_count": 18,
   "id": "05d7d316",
   "metadata": {
    "execution": {
     "iopub.execute_input": "2025-02-25T15:54:46.636154Z",
     "iopub.status.busy": "2025-02-25T15:54:46.635875Z",
     "iopub.status.idle": "2025-02-25T15:54:46.650437Z",
     "shell.execute_reply": "2025-02-25T15:54:46.649624Z"
    },
    "papermill": {
     "duration": 0.023241,
     "end_time": "2025-02-25T15:54:46.651973",
     "exception": false,
     "start_time": "2025-02-25T15:54:46.628732",
     "status": "completed"
    },
    "tags": []
   },
   "outputs": [],
   "source": [
    "X_train, X_test, y_train, y_test = train_test_split(X_padded, y, test_size=0.2, stratify =y, random_state=42)\n",
    "\n",
    "y_train = np.array(y_train)\n",
    "y_test = np.array(y_test)"
   ]
  },
  {
   "cell_type": "code",
   "execution_count": 19,
   "id": "648b503a",
   "metadata": {
    "execution": {
     "iopub.execute_input": "2025-02-25T15:54:46.666456Z",
     "iopub.status.busy": "2025-02-25T15:54:46.666053Z",
     "iopub.status.idle": "2025-02-25T15:54:46.831719Z",
     "shell.execute_reply": "2025-02-25T15:54:46.830495Z"
    },
    "papermill": {
     "duration": 0.174245,
     "end_time": "2025-02-25T15:54:46.833007",
     "exception": false,
     "start_time": "2025-02-25T15:54:46.658762",
     "status": "completed"
    },
    "tags": []
   },
   "outputs": [
    {
     "name": "stderr",
     "output_type": "stream",
     "text": [
      "/usr/local/lib/python3.10/dist-packages/keras/src/layers/core/embedding.py:90: UserWarning: Argument `input_length` is deprecated. Just remove it.\n",
      "  warnings.warn(\n"
     ]
    },
    {
     "data": {
      "text/html": [
       "<pre style=\"white-space:pre;overflow-x:auto;line-height:normal;font-family:Menlo,'DejaVu Sans Mono',consolas,'Courier New',monospace\"><span style=\"font-weight: bold\">Model: \"sequential\"</span>\n",
       "</pre>\n"
      ],
      "text/plain": [
       "\u001b[1mModel: \"sequential\"\u001b[0m\n"
      ]
     },
     "metadata": {},
     "output_type": "display_data"
    },
    {
     "data": {
      "text/html": [
       "<pre style=\"white-space:pre;overflow-x:auto;line-height:normal;font-family:Menlo,'DejaVu Sans Mono',consolas,'Courier New',monospace\">┏━━━━━━━━━━━━━━━━━━━━━━━━━━━━━━━━━━━━━━┳━━━━━━━━━━━━━━━━━━━━━━━━━━━━━┳━━━━━━━━━━━━━━━━━┓\n",
       "┃<span style=\"font-weight: bold\"> Layer (type)                         </span>┃<span style=\"font-weight: bold\"> Output Shape                </span>┃<span style=\"font-weight: bold\">         Param # </span>┃\n",
       "┡━━━━━━━━━━━━━━━━━━━━━━━━━━━━━━━━━━━━━━╇━━━━━━━━━━━━━━━━━━━━━━━━━━━━━╇━━━━━━━━━━━━━━━━━┩\n",
       "│ embedding (<span style=\"color: #0087ff; text-decoration-color: #0087ff\">Embedding</span>)                │ (<span style=\"color: #00d7ff; text-decoration-color: #00d7ff\">None</span>, <span style=\"color: #00af00; text-decoration-color: #00af00\">60</span>, <span style=\"color: #00af00; text-decoration-color: #00af00\">128</span>)             │         <span style=\"color: #00af00; text-decoration-color: #00af00\">960,000</span> │\n",
       "├──────────────────────────────────────┼─────────────────────────────┼─────────────────┤\n",
       "│ lstm (<span style=\"color: #0087ff; text-decoration-color: #0087ff\">LSTM</span>)                          │ (<span style=\"color: #00d7ff; text-decoration-color: #00d7ff\">None</span>, <span style=\"color: #00af00; text-decoration-color: #00af00\">60</span>, <span style=\"color: #00af00; text-decoration-color: #00af00\">64</span>)              │          <span style=\"color: #00af00; text-decoration-color: #00af00\">49,408</span> │\n",
       "├──────────────────────────────────────┼─────────────────────────────┼─────────────────┤\n",
       "│ dropout (<span style=\"color: #0087ff; text-decoration-color: #0087ff\">Dropout</span>)                    │ (<span style=\"color: #00d7ff; text-decoration-color: #00d7ff\">None</span>, <span style=\"color: #00af00; text-decoration-color: #00af00\">60</span>, <span style=\"color: #00af00; text-decoration-color: #00af00\">64</span>)              │               <span style=\"color: #00af00; text-decoration-color: #00af00\">0</span> │\n",
       "├──────────────────────────────────────┼─────────────────────────────┼─────────────────┤\n",
       "│ lstm_1 (<span style=\"color: #0087ff; text-decoration-color: #0087ff\">LSTM</span>)                        │ (<span style=\"color: #00d7ff; text-decoration-color: #00d7ff\">None</span>, <span style=\"color: #00af00; text-decoration-color: #00af00\">64</span>)                  │          <span style=\"color: #00af00; text-decoration-color: #00af00\">33,024</span> │\n",
       "├──────────────────────────────────────┼─────────────────────────────┼─────────────────┤\n",
       "│ dense (<span style=\"color: #0087ff; text-decoration-color: #0087ff\">Dense</span>)                        │ (<span style=\"color: #00d7ff; text-decoration-color: #00d7ff\">None</span>, <span style=\"color: #00af00; text-decoration-color: #00af00\">32</span>)                  │           <span style=\"color: #00af00; text-decoration-color: #00af00\">2,080</span> │\n",
       "├──────────────────────────────────────┼─────────────────────────────┼─────────────────┤\n",
       "│ dropout_1 (<span style=\"color: #0087ff; text-decoration-color: #0087ff\">Dropout</span>)                  │ (<span style=\"color: #00d7ff; text-decoration-color: #00d7ff\">None</span>, <span style=\"color: #00af00; text-decoration-color: #00af00\">32</span>)                  │               <span style=\"color: #00af00; text-decoration-color: #00af00\">0</span> │\n",
       "├──────────────────────────────────────┼─────────────────────────────┼─────────────────┤\n",
       "│ dense_1 (<span style=\"color: #0087ff; text-decoration-color: #0087ff\">Dense</span>)                      │ (<span style=\"color: #00d7ff; text-decoration-color: #00d7ff\">None</span>, <span style=\"color: #00af00; text-decoration-color: #00af00\">1</span>)                   │              <span style=\"color: #00af00; text-decoration-color: #00af00\">33</span> │\n",
       "└──────────────────────────────────────┴─────────────────────────────┴─────────────────┘\n",
       "</pre>\n"
      ],
      "text/plain": [
       "┏━━━━━━━━━━━━━━━━━━━━━━━━━━━━━━━━━━━━━━┳━━━━━━━━━━━━━━━━━━━━━━━━━━━━━┳━━━━━━━━━━━━━━━━━┓\n",
       "┃\u001b[1m \u001b[0m\u001b[1mLayer (type)                        \u001b[0m\u001b[1m \u001b[0m┃\u001b[1m \u001b[0m\u001b[1mOutput Shape               \u001b[0m\u001b[1m \u001b[0m┃\u001b[1m \u001b[0m\u001b[1m        Param #\u001b[0m\u001b[1m \u001b[0m┃\n",
       "┡━━━━━━━━━━━━━━━━━━━━━━━━━━━━━━━━━━━━━━╇━━━━━━━━━━━━━━━━━━━━━━━━━━━━━╇━━━━━━━━━━━━━━━━━┩\n",
       "│ embedding (\u001b[38;5;33mEmbedding\u001b[0m)                │ (\u001b[38;5;45mNone\u001b[0m, \u001b[38;5;34m60\u001b[0m, \u001b[38;5;34m128\u001b[0m)             │         \u001b[38;5;34m960,000\u001b[0m │\n",
       "├──────────────────────────────────────┼─────────────────────────────┼─────────────────┤\n",
       "│ lstm (\u001b[38;5;33mLSTM\u001b[0m)                          │ (\u001b[38;5;45mNone\u001b[0m, \u001b[38;5;34m60\u001b[0m, \u001b[38;5;34m64\u001b[0m)              │          \u001b[38;5;34m49,408\u001b[0m │\n",
       "├──────────────────────────────────────┼─────────────────────────────┼─────────────────┤\n",
       "│ dropout (\u001b[38;5;33mDropout\u001b[0m)                    │ (\u001b[38;5;45mNone\u001b[0m, \u001b[38;5;34m60\u001b[0m, \u001b[38;5;34m64\u001b[0m)              │               \u001b[38;5;34m0\u001b[0m │\n",
       "├──────────────────────────────────────┼─────────────────────────────┼─────────────────┤\n",
       "│ lstm_1 (\u001b[38;5;33mLSTM\u001b[0m)                        │ (\u001b[38;5;45mNone\u001b[0m, \u001b[38;5;34m64\u001b[0m)                  │          \u001b[38;5;34m33,024\u001b[0m │\n",
       "├──────────────────────────────────────┼─────────────────────────────┼─────────────────┤\n",
       "│ dense (\u001b[38;5;33mDense\u001b[0m)                        │ (\u001b[38;5;45mNone\u001b[0m, \u001b[38;5;34m32\u001b[0m)                  │           \u001b[38;5;34m2,080\u001b[0m │\n",
       "├──────────────────────────────────────┼─────────────────────────────┼─────────────────┤\n",
       "│ dropout_1 (\u001b[38;5;33mDropout\u001b[0m)                  │ (\u001b[38;5;45mNone\u001b[0m, \u001b[38;5;34m32\u001b[0m)                  │               \u001b[38;5;34m0\u001b[0m │\n",
       "├──────────────────────────────────────┼─────────────────────────────┼─────────────────┤\n",
       "│ dense_1 (\u001b[38;5;33mDense\u001b[0m)                      │ (\u001b[38;5;45mNone\u001b[0m, \u001b[38;5;34m1\u001b[0m)                   │              \u001b[38;5;34m33\u001b[0m │\n",
       "└──────────────────────────────────────┴─────────────────────────────┴─────────────────┘\n"
      ]
     },
     "metadata": {},
     "output_type": "display_data"
    },
    {
     "data": {
      "text/html": [
       "<pre style=\"white-space:pre;overflow-x:auto;line-height:normal;font-family:Menlo,'DejaVu Sans Mono',consolas,'Courier New',monospace\"><span style=\"font-weight: bold\"> Total params: </span><span style=\"color: #00af00; text-decoration-color: #00af00\">1,044,545</span> (3.98 MB)\n",
       "</pre>\n"
      ],
      "text/plain": [
       "\u001b[1m Total params: \u001b[0m\u001b[38;5;34m1,044,545\u001b[0m (3.98 MB)\n"
      ]
     },
     "metadata": {},
     "output_type": "display_data"
    },
    {
     "data": {
      "text/html": [
       "<pre style=\"white-space:pre;overflow-x:auto;line-height:normal;font-family:Menlo,'DejaVu Sans Mono',consolas,'Courier New',monospace\"><span style=\"font-weight: bold\"> Trainable params: </span><span style=\"color: #00af00; text-decoration-color: #00af00\">1,044,545</span> (3.98 MB)\n",
       "</pre>\n"
      ],
      "text/plain": [
       "\u001b[1m Trainable params: \u001b[0m\u001b[38;5;34m1,044,545\u001b[0m (3.98 MB)\n"
      ]
     },
     "metadata": {},
     "output_type": "display_data"
    },
    {
     "data": {
      "text/html": [
       "<pre style=\"white-space:pre;overflow-x:auto;line-height:normal;font-family:Menlo,'DejaVu Sans Mono',consolas,'Courier New',monospace\"><span style=\"font-weight: bold\"> Non-trainable params: </span><span style=\"color: #00af00; text-decoration-color: #00af00\">0</span> (0.00 B)\n",
       "</pre>\n"
      ],
      "text/plain": [
       "\u001b[1m Non-trainable params: \u001b[0m\u001b[38;5;34m0\u001b[0m (0.00 B)\n"
      ]
     },
     "metadata": {},
     "output_type": "display_data"
    }
   ],
   "source": [
    "import tensorflow as tf\n",
    "from tensorflow.keras.models import Sequential\n",
    "from tensorflow.keras.layers import Embedding, LSTM, Dense, Dropout\n",
    "\n",
    "embedding_dim = 128\n",
    "lstm_units = 64\n",
    "\n",
    "model = Sequential([\n",
    "    Embedding(input_dim=7500, output_dim=embedding_dim, input_length=60),\n",
    "    LSTM(lstm_units, return_sequences=True),\n",
    "    Dropout(0.2),\n",
    "    LSTM(lstm_units),\n",
    "    Dense(32, activation='relu'),\n",
    "    Dropout(0.2),\n",
    "    Dense(1, activation='sigmoid')\n",
    "])\n",
    "\n",
    "# 🔹 Explicitly call build with the correct input shape\n",
    "model.build(input_shape=(None, 60))\n",
    "\n",
    "# Compile Model\n",
    "model.compile(loss='binary_crossentropy', optimizer='adam', metrics=['accuracy'])\n",
    "\n",
    "# Model Summary\n",
    "model.summary()"
   ]
  },
  {
   "cell_type": "code",
   "execution_count": 20,
   "id": "2cab025a",
   "metadata": {
    "execution": {
     "iopub.execute_input": "2025-02-25T15:54:46.848257Z",
     "iopub.status.busy": "2025-02-25T15:54:46.847959Z",
     "iopub.status.idle": "2025-02-25T15:58:47.896091Z",
     "shell.execute_reply": "2025-02-25T15:58:47.895155Z"
    },
    "papermill": {
     "duration": 241.057334,
     "end_time": "2025-02-25T15:58:47.897725",
     "exception": false,
     "start_time": "2025-02-25T15:54:46.840391",
     "status": "completed"
    },
    "tags": []
   },
   "outputs": [
    {
     "name": "stdout",
     "output_type": "stream",
     "text": [
      "Epoch 1/10\n",
      "\u001b[1m447/447\u001b[0m \u001b[32m━━━━━━━━━━━━━━━━━━━━\u001b[0m\u001b[37m\u001b[0m \u001b[1m27s\u001b[0m 54ms/step - accuracy: 0.2520 - loss: -34.0288 - val_accuracy: 0.2520 - val_loss: -248.5770\n",
      "Epoch 2/10\n",
      "\u001b[1m447/447\u001b[0m \u001b[32m━━━━━━━━━━━━━━━━━━━━\u001b[0m\u001b[37m\u001b[0m \u001b[1m24s\u001b[0m 53ms/step - accuracy: 0.2546 - loss: -380.3629 - val_accuracy: 0.2520 - val_loss: -917.9293\n",
      "Epoch 3/10\n",
      "\u001b[1m447/447\u001b[0m \u001b[32m━━━━━━━━━━━━━━━━━━━━\u001b[0m\u001b[37m\u001b[0m \u001b[1m23s\u001b[0m 52ms/step - accuracy: 0.2514 - loss: -1150.1707 - val_accuracy: 0.2520 - val_loss: -1951.6288\n",
      "Epoch 4/10\n",
      "\u001b[1m447/447\u001b[0m \u001b[32m━━━━━━━━━━━━━━━━━━━━\u001b[0m\u001b[37m\u001b[0m \u001b[1m24s\u001b[0m 53ms/step - accuracy: 0.2477 - loss: -2313.8167 - val_accuracy: 0.2520 - val_loss: -3312.1790\n",
      "Epoch 5/10\n",
      "\u001b[1m447/447\u001b[0m \u001b[32m━━━━━━━━━━━━━━━━━━━━\u001b[0m\u001b[37m\u001b[0m \u001b[1m24s\u001b[0m 54ms/step - accuracy: 0.2520 - loss: -3715.8328 - val_accuracy: 0.2520 - val_loss: -4959.1147\n",
      "Epoch 6/10\n",
      "\u001b[1m447/447\u001b[0m \u001b[32m━━━━━━━━━━━━━━━━━━━━\u001b[0m\u001b[37m\u001b[0m \u001b[1m25s\u001b[0m 55ms/step - accuracy: 0.2559 - loss: -5432.8799 - val_accuracy: 0.2520 - val_loss: -6877.5483\n",
      "Epoch 7/10\n",
      "\u001b[1m447/447\u001b[0m \u001b[32m━━━━━━━━━━━━━━━━━━━━\u001b[0m\u001b[37m\u001b[0m \u001b[1m24s\u001b[0m 54ms/step - accuracy: 0.2497 - loss: -7416.6245 - val_accuracy: 0.2520 - val_loss: -9024.0195\n",
      "Epoch 8/10\n",
      "\u001b[1m447/447\u001b[0m \u001b[32m━━━━━━━━━━━━━━━━━━━━\u001b[0m\u001b[37m\u001b[0m \u001b[1m23s\u001b[0m 53ms/step - accuracy: 0.2590 - loss: -9477.4600 - val_accuracy: 0.2520 - val_loss: -11421.5459\n",
      "Epoch 9/10\n",
      "\u001b[1m447/447\u001b[0m \u001b[32m━━━━━━━━━━━━━━━━━━━━\u001b[0m\u001b[37m\u001b[0m \u001b[1m24s\u001b[0m 53ms/step - accuracy: 0.2555 - loss: -11899.5195 - val_accuracy: 0.2520 - val_loss: -14038.5977\n",
      "Epoch 10/10\n",
      "\u001b[1m447/447\u001b[0m \u001b[32m━━━━━━━━━━━━━━━━━━━━\u001b[0m\u001b[37m\u001b[0m \u001b[1m23s\u001b[0m 51ms/step - accuracy: 0.2520 - loss: -14589.2734 - val_accuracy: 0.2520 - val_loss: -16862.6973\n"
     ]
    },
    {
     "data": {
      "text/plain": [
       "<keras.src.callbacks.history.History at 0x7c1fca37e920>"
      ]
     },
     "execution_count": 20,
     "metadata": {},
     "output_type": "execute_result"
    }
   ],
   "source": [
    "model.fit(X_train, y_train, validation_data=(X_test, y_test), epochs=10, batch_size=32)\n"
   ]
  },
  {
   "cell_type": "code",
   "execution_count": 21,
   "id": "9d2b435c",
   "metadata": {
    "execution": {
     "iopub.execute_input": "2025-02-25T15:58:48.190644Z",
     "iopub.status.busy": "2025-02-25T15:58:48.190115Z",
     "iopub.status.idle": "2025-02-25T15:58:49.854898Z",
     "shell.execute_reply": "2025-02-25T15:58:49.853590Z"
    },
    "papermill": {
     "duration": 1.815578,
     "end_time": "2025-02-25T15:58:49.856780",
     "exception": false,
     "start_time": "2025-02-25T15:58:48.041202",
     "status": "completed"
    },
    "tags": []
   },
   "outputs": [
    {
     "name": "stdout",
     "output_type": "stream",
     "text": [
      "\u001b[1m112/112\u001b[0m \u001b[32m━━━━━━━━━━━━━━━━━━━━\u001b[0m\u001b[37m\u001b[0m \u001b[1m2s\u001b[0m 14ms/step - accuracy: 0.2378 - loss: -17012.6992\n",
      "Test Accuracy: 0.2520\n"
     ]
    }
   ],
   "source": [
    "test_loss, test_acc = model.evaluate(X_test, y_test)\n",
    "print(f\"Test Accuracy: {test_acc:.4f}\")"
   ]
  },
  {
   "cell_type": "code",
   "execution_count": 22,
   "id": "9e3c4d74",
   "metadata": {
    "execution": {
     "iopub.execute_input": "2025-02-25T15:58:50.139191Z",
     "iopub.status.busy": "2025-02-25T15:58:50.138854Z",
     "iopub.status.idle": "2025-02-25T15:58:52.266766Z",
     "shell.execute_reply": "2025-02-25T15:58:52.265287Z"
    },
    "papermill": {
     "duration": 2.272663,
     "end_time": "2025-02-25T15:58:52.268576",
     "exception": false,
     "start_time": "2025-02-25T15:58:49.995913",
     "status": "completed"
    },
    "tags": []
   },
   "outputs": [
    {
     "name": "stdout",
     "output_type": "stream",
     "text": [
      "\u001b[1m112/112\u001b[0m \u001b[32m━━━━━━━━━━━━━━━━━━━━\u001b[0m\u001b[37m\u001b[0m \u001b[1m2s\u001b[0m 16ms/step\n",
      "Prediction: [[1.]\n",
      " [1.]\n",
      " [1.]\n",
      " ...\n",
      " [1.]\n",
      " [1.]\n",
      " [1.]]\n"
     ]
    }
   ],
   "source": [
    "predictions = model.predict(X_test)\n",
    "print(\"Prediction:\", predictions)\n"
   ]
  },
  {
   "cell_type": "code",
   "execution_count": 23,
   "id": "6b18b709",
   "metadata": {
    "execution": {
     "iopub.execute_input": "2025-02-25T15:58:52.552126Z",
     "iopub.status.busy": "2025-02-25T15:58:52.551781Z",
     "iopub.status.idle": "2025-02-25T15:58:52.556792Z",
     "shell.execute_reply": "2025-02-25T15:58:52.555789Z"
    },
    "papermill": {
     "duration": 0.14798,
     "end_time": "2025-02-25T15:58:52.558787",
     "exception": false,
     "start_time": "2025-02-25T15:58:52.410807",
     "status": "completed"
    },
    "tags": []
   },
   "outputs": [
    {
     "name": "stdout",
     "output_type": "stream",
     "text": [
      "Unique Labels: [0 1 2]\n",
      "Label Shape: (14301,)\n"
     ]
    }
   ],
   "source": [
    "print(\"Unique Labels:\", np.unique(y_train))\n",
    "print(\"Label Shape:\", y_train.shape)"
   ]
  },
  {
   "cell_type": "code",
   "execution_count": 24,
   "id": "2c0d2d94",
   "metadata": {
    "execution": {
     "iopub.execute_input": "2025-02-25T15:58:52.901673Z",
     "iopub.status.busy": "2025-02-25T15:58:52.901240Z",
     "iopub.status.idle": "2025-02-25T15:58:55.007484Z",
     "shell.execute_reply": "2025-02-25T15:58:55.006432Z"
    },
    "papermill": {
     "duration": 2.25129,
     "end_time": "2025-02-25T15:58:55.008889",
     "exception": false,
     "start_time": "2025-02-25T15:58:52.757599",
     "status": "completed"
    },
    "tags": []
   },
   "outputs": [
    {
     "name": "stdout",
     "output_type": "stream",
     "text": [
      "   000  0000  0018  0018 joonie   10  10 years  100  1000  100k  1010  ...  \\\n",
      "0  0.0   0.0   0.0          0.0  0.0       0.0  0.0   0.0   0.0   0.0  ...   \n",
      "1  0.0   0.0   0.0          0.0  0.0       0.0  0.0   0.0   0.0   0.0  ...   \n",
      "2  0.0   0.0   0.0          0.0  0.0       0.0  0.0   0.0   0.0   0.0  ...   \n",
      "3  0.0   0.0   0.0          0.0  0.0       0.0  0.0   0.0   0.0   0.0  ...   \n",
      "4  0.0   0.0   0.0          0.0  0.0       0.0  0.0   0.0   0.0   0.0  ...   \n",
      "\n",
      "   your work  yours  yourself  youtube  youtube channel  youtuber  youtubers  \\\n",
      "0        0.0    0.0       0.0      0.0              0.0       0.0        0.0   \n",
      "1        0.0    0.0       0.0      0.0              0.0       0.0        0.0   \n",
      "2        0.0    0.0       0.0      0.0              0.0       0.0        0.0   \n",
      "3        0.0    0.0       0.0      0.0              0.0       0.0        0.0   \n",
      "4        0.0    0.0       0.0      0.0              0.0       0.0        0.0   \n",
      "\n",
      "   yummy  zero  zoom  \n",
      "0    0.0   0.0   0.0  \n",
      "1    0.0   0.0   0.0  \n",
      "2    0.0   0.0   0.0  \n",
      "3    0.0   0.0   0.0  \n",
      "4    0.0   0.0   0.0  \n",
      "\n",
      "[5 rows x 5000 columns]\n"
     ]
    }
   ],
   "source": [
    "from sklearn.feature_extraction.text import TfidfVectorizer\n",
    "\n",
    "# Define TF-IDF vectorizer\n",
    "tfidf_vectorizer = TfidfVectorizer(max_features=5000, ngram_range=(1,2))  # Using unigrams and bigrams\n",
    "\n",
    "# Transform cleaned text into numerical features\n",
    "X_tfidf = tfidf_vectorizer.fit_transform(df['Cleaned_Text'])\n",
    "\n",
    "# Convert to DataFrame (optional)\n",
    "import pandas as pd\n",
    "X_tfidf_df = pd.DataFrame(X_tfidf.toarray(), columns=tfidf_vectorizer.get_feature_names_out())\n",
    "\n",
    "# Display some features\n",
    "print(X_tfidf_df.head())\n"
   ]
  },
  {
   "cell_type": "code",
   "execution_count": 25,
   "id": "2e8d2225",
   "metadata": {
    "execution": {
     "iopub.execute_input": "2025-02-25T15:58:55.292914Z",
     "iopub.status.busy": "2025-02-25T15:58:55.292532Z",
     "iopub.status.idle": "2025-02-25T15:58:55.306055Z",
     "shell.execute_reply": "2025-02-25T15:58:55.305260Z"
    },
    "papermill": {
     "duration": 0.155585,
     "end_time": "2025-02-25T15:58:55.307237",
     "exception": false,
     "start_time": "2025-02-25T15:58:55.151652",
     "status": "completed"
    },
    "tags": []
   },
   "outputs": [
    {
     "name": "stdout",
     "output_type": "stream",
     "text": [
      "Data successfully split into training and test sets!\n",
      "Training samples: 14301\n",
      "Test samples: 3576\n"
     ]
    }
   ],
   "source": [
    "from sklearn.model_selection import train_test_split\n",
    "\n",
    "# Define input (features) and output (target)\n",
    "X = X_tfidf  # TF-IDF transformed features\n",
    "y = df['Sentiment']  # Target variable (positive, negative, neutral)\n",
    "\n",
    "# Split the dataset\n",
    "X_train, X_test, y_train, y_test = train_test_split(X, y, test_size=0.2, random_state=42, stratify=y)\n",
    "\n",
    "print(\"Data successfully split into training and test sets!\")\n",
    "print(f\"Training samples: {X_train.shape[0]}\")\n",
    "print(f\"Test samples: {X_test.shape[0]}\")\n"
   ]
  },
  {
   "cell_type": "code",
   "execution_count": 26,
   "id": "dc47bcaf",
   "metadata": {
    "execution": {
     "iopub.execute_input": "2025-02-25T15:58:55.592691Z",
     "iopub.status.busy": "2025-02-25T15:58:55.592379Z",
     "iopub.status.idle": "2025-02-25T15:58:56.303839Z",
     "shell.execute_reply": "2025-02-25T15:58:56.302999Z"
    },
    "papermill": {
     "duration": 0.856465,
     "end_time": "2025-02-25T15:58:56.305287",
     "exception": false,
     "start_time": "2025-02-25T15:58:55.448822",
     "status": "completed"
    },
    "tags": []
   },
   "outputs": [],
   "source": [
    "from sklearn.pipeline import Pipeline\n",
    "from sklearn.linear_model import LogisticRegression\n",
    "from sklearn.ensemble import RandomForestClassifier, GradientBoostingClassifier\n",
    "from xgboost import XGBClassifier\n",
    "from sklearn.svm import SVC\n",
    "from sklearn.neural_network import MLPClassifier\n",
    "from sklearn.metrics import accuracy_score, classification_report\n",
    "import pandas as pd\n",
    "\n"
   ]
  },
  {
   "cell_type": "code",
   "execution_count": 27,
   "id": "f2456f5d",
   "metadata": {
    "execution": {
     "iopub.execute_input": "2025-02-25T15:58:56.583439Z",
     "iopub.status.busy": "2025-02-25T15:58:56.583050Z",
     "iopub.status.idle": "2025-02-25T15:58:57.581733Z",
     "shell.execute_reply": "2025-02-25T15:58:57.580410Z"
    },
    "papermill": {
     "duration": 1.138063,
     "end_time": "2025-02-25T15:58:57.583150",
     "exception": true,
     "start_time": "2025-02-25T15:58:56.445087",
     "status": "failed"
    },
    "tags": []
   },
   "outputs": [
    {
     "ename": "NameError",
     "evalue": "name 'results' is not defined",
     "output_type": "error",
     "traceback": [
      "\u001b[0;31m---------------------------------------------------------------------------\u001b[0m",
      "\u001b[0;31mNameError\u001b[0m                                 Traceback (most recent call last)",
      "\u001b[0;32m<ipython-input-27-aaa3785afaf5>\u001b[0m in \u001b[0;36m<cell line: 10>\u001b[0;34m()\u001b[0m\n\u001b[1;32m      7\u001b[0m \u001b[0mreport\u001b[0m \u001b[0;34m=\u001b[0m \u001b[0mclassification_report\u001b[0m\u001b[0;34m(\u001b[0m\u001b[0my_test\u001b[0m\u001b[0;34m,\u001b[0m \u001b[0mlog_pred\u001b[0m\u001b[0;34m,\u001b[0m \u001b[0moutput_dict\u001b[0m\u001b[0;34m=\u001b[0m\u001b[0;32mTrue\u001b[0m\u001b[0;34m)\u001b[0m\u001b[0;34m\u001b[0m\u001b[0;34m\u001b[0m\u001b[0m\n\u001b[1;32m      8\u001b[0m \u001b[0;34m\u001b[0m\u001b[0m\n\u001b[0;32m----> 9\u001b[0;31m results[name] = {\n\u001b[0m\u001b[1;32m     10\u001b[0m         \u001b[0;34m\"Accuracy\"\u001b[0m\u001b[0;34m:\u001b[0m \u001b[0maccuracy\u001b[0m\u001b[0;34m,\u001b[0m\u001b[0;34m\u001b[0m\u001b[0;34m\u001b[0m\u001b[0m\n\u001b[1;32m     11\u001b[0m         \u001b[0;34m\"Precision\"\u001b[0m\u001b[0;34m:\u001b[0m \u001b[0mreport\u001b[0m\u001b[0;34m[\u001b[0m\u001b[0;34m\"weighted avg\"\u001b[0m\u001b[0;34m]\u001b[0m\u001b[0;34m[\u001b[0m\u001b[0;34m\"precision\"\u001b[0m\u001b[0;34m]\u001b[0m\u001b[0;34m,\u001b[0m\u001b[0;34m\u001b[0m\u001b[0;34m\u001b[0m\u001b[0m\n",
      "\u001b[0;31mNameError\u001b[0m: name 'results' is not defined"
     ]
    }
   ],
   "source": [
    "logistic = LogisticRegression(max_iter=500, random_state=42)\n",
    "logistic.fit(X_train, y_train)\n",
    "\n",
    "log_pred = logistic.predict(X_test)\n",
    "\n",
    "accuracy = accuracy_score(y_test, log_pred)\n",
    "report = classification_report(y_test, log_pred, output_dict=True)\n",
    "\n",
    "results[name] = {\n",
    "        \"Accuracy\": accuracy,\n",
    "        \"Precision\": report[\"weighted avg\"][\"precision\"],\n",
    "        \"Recall\": report[\"weighted avg\"][\"recall\"],\n",
    "        \"F1-score\": report[\"weighted avg\"][\"f1-score\"]\n",
    "    }\n",
    "\n",
    "results_df = pd.DataFrame(results).T\n",
    "results_df.sort_values(by=\"Accuracy\", ascending=False, inplace=True)\n",
    "\n",
    "# Display results\n",
    "print(\"\\nModel Performance Comparison:\")\n",
    "print(results_df)"
   ]
  },
  {
   "cell_type": "code",
   "execution_count": null,
   "id": "af696f3e",
   "metadata": {
    "execution": {
     "iopub.execute_input": "2025-02-25T15:46:12.596826Z",
     "iopub.status.busy": "2025-02-25T15:46:12.596118Z",
     "iopub.status.idle": "2025-02-25T15:46:37.489392Z",
     "shell.execute_reply": "2025-02-25T15:46:37.488324Z",
     "shell.execute_reply.started": "2025-02-25T15:46:12.596761Z"
    },
    "papermill": {
     "duration": null,
     "end_time": null,
     "exception": null,
     "start_time": null,
     "status": "pending"
    },
    "tags": []
   },
   "outputs": [],
   "source": [
    "results = {}\n",
    "name1 = \"Random Forest Classifier\"\n",
    "random = RandomForestClassifier(n_estimators=100, random_state=42)\n",
    "random.fit(X_train, y_train)\n",
    "\n",
    "random_pred = random.predict(X_test)\n",
    "\n",
    "accuracy = accuracy_score(y_test, random_pred)\n",
    "report = classification_report(y_test, random_pred, output_dict=True)\n",
    "\n",
    "results[name1] = {\n",
    "        \"Accuracy\": accuracy,\n",
    "        \"Precision\": report[\"weighted avg\"][\"precision\"],\n",
    "        \"Recall\": report[\"weighted avg\"][\"recall\"],\n",
    "        \"F1-score\": report[\"weighted avg\"][\"f1-score\"]\n",
    "    }\n",
    "\n",
    "results_df = pd.DataFrame(results).T\n",
    "results_df.sort_values(by=\"Accuracy\", ascending=False, inplace=True)\n",
    "\n",
    "# Display results\n",
    "print(\"\\nModel Performance Comparison:\")\n",
    "print(results_df)"
   ]
  },
  {
   "cell_type": "code",
   "execution_count": null,
   "id": "3ef10d23",
   "metadata": {
    "execution": {
     "iopub.execute_input": "2025-02-25T15:46:59.615846Z",
     "iopub.status.busy": "2025-02-25T15:46:59.615352Z",
     "iopub.status.idle": "2025-02-25T15:47:57.820311Z",
     "shell.execute_reply": "2025-02-25T15:47:57.819171Z",
     "shell.execute_reply.started": "2025-02-25T15:46:59.615808Z"
    },
    "papermill": {
     "duration": null,
     "end_time": null,
     "exception": null,
     "start_time": null,
     "status": "pending"
    },
    "tags": []
   },
   "outputs": [],
   "source": [
    "results = {}\n",
    "name1 = \"Gradient Boosting Classifier\"\n",
    "gradien = GradientBoostingClassifier(n_estimators=100, random_state=42)\n",
    "gradien.fit(X_train, y_train)\n",
    "\n",
    "gradien_pred = gradien.predict(X_test)\n",
    "\n",
    "accuracy = accuracy_score(y_test, gradien_pred)\n",
    "report = classification_report(y_test, gradien_pred, output_dict=True)\n",
    "\n",
    "results[name1] = {\n",
    "        \"Accuracy\": accuracy,\n",
    "        \"Precision\": report[\"weighted avg\"][\"precision\"],\n",
    "        \"Recall\": report[\"weighted avg\"][\"recall\"],\n",
    "        \"F1-score\": report[\"weighted avg\"][\"f1-score\"]\n",
    "    }\n",
    "\n",
    "results_df = pd.DataFrame(results).T\n",
    "results_df.sort_values(by=\"Accuracy\", ascending=False, inplace=True)\n",
    "\n",
    "# Display results\n",
    "print(\"\\nModel Performance Comparison:\")\n",
    "print(results_df)"
   ]
  },
  {
   "cell_type": "code",
   "execution_count": null,
   "id": "050e91c0",
   "metadata": {
    "execution": {
     "iopub.execute_input": "2025-02-25T15:48:16.656656Z",
     "iopub.status.busy": "2025-02-25T15:48:16.656284Z",
     "iopub.status.idle": "2025-02-25T15:48:57.820467Z",
     "shell.execute_reply": "2025-02-25T15:48:57.819322Z",
     "shell.execute_reply.started": "2025-02-25T15:48:16.656628Z"
    },
    "papermill": {
     "duration": null,
     "end_time": null,
     "exception": null,
     "start_time": null,
     "status": "pending"
    },
    "tags": []
   },
   "outputs": [],
   "source": [
    "results = {}\n",
    "name1 = \"XGB Calssifier\"\n",
    "xgbc = XGBClassifier(n_estimators=100, random_state=42, use_label_encoder=False, eval_metric='logloss')\n",
    "xgbc.fit(X_train, y_train)\n",
    "\n",
    "xgbc_pred = xgbc.predict(X_test)\n",
    "\n",
    "accuracy = accuracy_score(y_test, xgbc_pred)\n",
    "report = classification_report(y_test, xgbc_pred, output_dict=True)\n",
    "\n",
    "results[name1] = {\n",
    "        \"Accuracy\": accuracy,\n",
    "        \"Precision\": report[\"weighted avg\"][\"precision\"],\n",
    "        \"Recall\": report[\"weighted avg\"][\"recall\"],\n",
    "        \"F1-score\": report[\"weighted avg\"][\"f1-score\"]\n",
    "    }\n",
    "\n",
    "results_df = pd.DataFrame(results).T\n",
    "results_df.sort_values(by=\"Accuracy\", ascending=False, inplace=True)\n",
    "\n",
    "# Display results\n",
    "print(\"\\nModel Performance Comparison:\")\n",
    "print(results_df)"
   ]
  },
  {
   "cell_type": "code",
   "execution_count": null,
   "id": "81c1f5f9",
   "metadata": {
    "execution": {
     "iopub.execute_input": "2025-02-25T15:49:19.359683Z",
     "iopub.status.busy": "2025-02-25T15:49:19.359337Z",
     "iopub.status.idle": "2025-02-25T15:51:07.997407Z",
     "shell.execute_reply": "2025-02-25T15:51:07.996155Z",
     "shell.execute_reply.started": "2025-02-25T15:49:19.359658Z"
    },
    "papermill": {
     "duration": null,
     "end_time": null,
     "exception": null,
     "start_time": null,
     "status": "pending"
    },
    "tags": []
   },
   "outputs": [],
   "source": [
    "results = {}\n",
    "name1 = \"SVC\"\n",
    "svc = SVC(kernel=\"rbf\")\n",
    "svc.fit(X_train, y_train)\n",
    "\n",
    "svc_pred = svc.predict(X_test)\n",
    "\n",
    "accuracy = accuracy_score(y_test, svc_pred)\n",
    "report = classification_report(y_test, svc_pred, output_dict=True)\n",
    "\n",
    "results[name1] = {\n",
    "        \"Accuracy\": accuracy,\n",
    "        \"Precision\": report[\"weighted avg\"][\"precision\"],\n",
    "        \"Recall\": report[\"weighted avg\"][\"recall\"],\n",
    "        \"F1-score\": report[\"weighted avg\"][\"f1-score\"]\n",
    "    }\n",
    "\n",
    "results_df = pd.DataFrame(results).T\n",
    "results_df.sort_values(by=\"Accuracy\", ascending=False, inplace=True)\n",
    "\n",
    "# Display results\n",
    "print(\"\\nModel Performance Comparison:\")\n",
    "print(results_df)"
   ]
  },
  {
   "cell_type": "code",
   "execution_count": null,
   "id": "f0d4e1e5",
   "metadata": {
    "execution": {
     "iopub.execute_input": "2025-02-25T15:45:00.658609Z",
     "iopub.status.busy": "2025-02-25T15:45:00.658256Z",
     "iopub.status.idle": "2025-02-25T15:45:35.343166Z",
     "shell.execute_reply": "2025-02-25T15:45:35.341940Z",
     "shell.execute_reply.started": "2025-02-25T15:45:00.658584Z"
    },
    "papermill": {
     "duration": null,
     "end_time": null,
     "exception": null,
     "start_time": null,
     "status": "pending"
    },
    "tags": []
   },
   "outputs": [],
   "source": [
    "results = {}\n",
    "name1 = \"MLP Classifier\"\n",
    "mlpc = MLPClassifier(hidden_layer_sizes=(64, 32), max_iter=500, random_state=42)\n",
    "mlpc.fit(X_train, y_train)\n",
    "\n",
    "mlpc_pred = mlpc.predict(X_test)\n",
    "\n",
    "accuracy = accuracy_score(y_test, mlpc_pred)\n",
    "report = classification_report(y_test, mlpc_pred, output_dict=True)\n",
    "\n",
    "results[name1] = {\n",
    "        \"Accuracy\": accuracy,\n",
    "        \"Precision\": report[\"weighted avg\"][\"precision\"],\n",
    "        \"Recall\": report[\"weighted avg\"][\"recall\"],\n",
    "        \"F1-score\": report[\"weighted avg\"][\"f1-score\"]\n",
    "    }\n",
    "\n",
    "results_df = pd.DataFrame(results).T\n",
    "results_df.sort_values(by=\"Accuracy\", ascending=False, inplace=True)\n",
    "\n",
    "# Display results\n",
    "print(\"\\nModel Performance Comparison:\")\n",
    "print(results_df)"
   ]
  },
  {
   "cell_type": "code",
   "execution_count": null,
   "id": "c726705d",
   "metadata": {
    "execution": {
     "iopub.execute_input": "2025-02-25T15:53:01.580069Z",
     "iopub.status.busy": "2025-02-25T15:53:01.579672Z",
     "iopub.status.idle": "2025-02-25T15:53:01.957634Z",
     "shell.execute_reply": "2025-02-25T15:53:01.956385Z",
     "shell.execute_reply.started": "2025-02-25T15:53:01.580042Z"
    },
    "papermill": {
     "duration": null,
     "end_time": null,
     "exception": null,
     "start_time": null,
     "status": "pending"
    },
    "tags": []
   },
   "outputs": [],
   "source": [
    "import matplotlib.pyplot as plt\n",
    "import seaborn as sns\n",
    "\n",
    "# Model performance data\n",
    "models = [\"Logistic Regression\", \"Random Forest\", \"Gradient Boosting\", \"XGBoost\", \"MLP\", \"SVC\"]\n",
    "accuracy = [0.7486, 0.6966, 0.7013, 0.7346, 0.7226, 0.7349]\n",
    "precision = [0.7378, 0.6965, 0.6904, 0.7228, 0.7209, 0.7236]\n",
    "recall = [0.7486, 0.6966, 0.7013, 0.7346, 0.7226, 0.7349]\n",
    "f1_score = [0.7344, 0.6391, 0.6673, 0.7204, 0.7215, 0.7124]\n",
    "\n",
    "# Create a DataFrame for easy plotting\n",
    "import pandas as pd\n",
    "df = pd.DataFrame({\n",
    "    \"Model\": models,\n",
    "    \"Accuracy\": accuracy,\n",
    "    \"Precision\": precision,\n",
    "    \"Recall\": recall,\n",
    "    \"F1-score\": f1_score\n",
    "})\n",
    "\n",
    "# Plotting\n",
    "plt.figure(figsize=(12, 6))\n",
    "df.set_index(\"Model\").plot(kind=\"bar\", colormap=\"viridis\", alpha=0.8)\n",
    "plt.title(\"Model Performance Comparison\")\n",
    "plt.ylabel(\"Score\")\n",
    "plt.xticks(rotation=30)\n",
    "plt.legend(loc=\"lower right\")\n",
    "plt.grid(axis=\"y\", linestyle=\"--\", alpha=0.7)\n",
    "plt.show()\n"
   ]
  },
  {
   "cell_type": "code",
   "execution_count": null,
   "id": "41ebe7c3",
   "metadata": {
    "papermill": {
     "duration": null,
     "end_time": null,
     "exception": null,
     "start_time": null,
     "status": "pending"
    },
    "tags": []
   },
   "outputs": [],
   "source": []
  }
 ],
 "metadata": {
  "kaggle": {
   "accelerator": "none",
   "dataSources": [
    {
     "datasetId": 6560918,
     "sourceId": 10599713,
     "sourceType": "datasetVersion"
    }
   ],
   "dockerImageVersionId": 30918,
   "isGpuEnabled": false,
   "isInternetEnabled": true,
   "language": "python",
   "sourceType": "notebook"
  },
  "kernelspec": {
   "display_name": "Python 3",
   "language": "python",
   "name": "python3"
  },
  "language_info": {
   "codemirror_mode": {
    "name": "ipython",
    "version": 3
   },
   "file_extension": ".py",
   "mimetype": "text/x-python",
   "name": "python",
   "nbconvert_exporter": "python",
   "pygments_lexer": "ipython3",
   "version": "3.10.12"
  },
  "papermill": {
   "default_parameters": {},
   "duration": 280.403085,
   "end_time": "2025-02-25T15:58:59.749464",
   "environment_variables": {},
   "exception": true,
   "input_path": "__notebook__.ipynb",
   "output_path": "__notebook__.ipynb",
   "parameters": {},
   "start_time": "2025-02-25T15:54:19.346379",
   "version": "2.6.0"
  }
 },
 "nbformat": 4,
 "nbformat_minor": 5
}
