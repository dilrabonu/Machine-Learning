{
 "cells": [
  {
   "cell_type": "code",
   "execution_count": 1,
   "id": "5cbbd514",
   "metadata": {
    "_cell_guid": "b1076dfc-b9ad-4769-8c92-a6c4dae69d19",
    "_uuid": "8f2839f25d086af736a60e9eeb907d3b93b6e0e5",
    "execution": {
     "iopub.execute_input": "2025-03-02T17:08:25.439299Z",
     "iopub.status.busy": "2025-03-02T17:08:25.438818Z",
     "iopub.status.idle": "2025-03-02T17:08:26.414338Z",
     "shell.execute_reply": "2025-03-02T17:08:26.412970Z"
    },
    "papermill": {
     "duration": 0.984232,
     "end_time": "2025-03-02T17:08:26.416237",
     "exception": false,
     "start_time": "2025-03-02T17:08:25.432005",
     "status": "completed"
    },
    "tags": []
   },
   "outputs": [
    {
     "name": "stdout",
     "output_type": "stream",
     "text": [
      "/kaggle/input/email-spam-detection-dataset-classification/spam.csv\n"
     ]
    }
   ],
   "source": [
    "# This Python 3 environment comes with many helpful analytics libraries installed\n",
    "# It is defined by the kaggle/python Docker image: https://github.com/kaggle/docker-python\n",
    "# For example, here's several helpful packages to load\n",
    "\n",
    "import numpy as np # linear algebra\n",
    "import pandas as pd # data processing, CSV file I/O (e.g. pd.read_csv)\n",
    "\n",
    "# Input data files are available in the read-only \"../input/\" directory\n",
    "# For example, running this (by clicking run or pressing Shift+Enter) will list all files under the input directory\n",
    "\n",
    "import os\n",
    "for dirname, _, filenames in os.walk('/kaggle/input'):\n",
    "    for filename in filenames:\n",
    "        print(os.path.join(dirname, filename))\n",
    "\n",
    "# You can write up to 20GB to the current directory (/kaggle/working/) that gets preserved as output when you create a version using \"Save & Run All\" \n",
    "# You can also write temporary files to /kaggle/temp/, but they won't be saved outside of the current session"
   ]
  },
  {
   "cell_type": "code",
   "execution_count": 2,
   "id": "2ae47993",
   "metadata": {
    "execution": {
     "iopub.execute_input": "2025-03-02T17:08:26.428165Z",
     "iopub.status.busy": "2025-03-02T17:08:26.427690Z",
     "iopub.status.idle": "2025-03-02T17:08:26.487035Z",
     "shell.execute_reply": "2025-03-02T17:08:26.485863Z"
    },
    "papermill": {
     "duration": 0.06717,
     "end_time": "2025-03-02T17:08:26.488916",
     "exception": false,
     "start_time": "2025-03-02T17:08:26.421746",
     "status": "completed"
    },
    "tags": []
   },
   "outputs": [
    {
     "data": {
      "text/html": [
       "<div>\n",
       "<style scoped>\n",
       "    .dataframe tbody tr th:only-of-type {\n",
       "        vertical-align: middle;\n",
       "    }\n",
       "\n",
       "    .dataframe tbody tr th {\n",
       "        vertical-align: top;\n",
       "    }\n",
       "\n",
       "    .dataframe thead th {\n",
       "        text-align: right;\n",
       "    }\n",
       "</style>\n",
       "<table border=\"1\" class=\"dataframe\">\n",
       "  <thead>\n",
       "    <tr style=\"text-align: right;\">\n",
       "      <th></th>\n",
       "      <th>v1</th>\n",
       "      <th>v2</th>\n",
       "      <th>Unnamed: 2</th>\n",
       "      <th>Unnamed: 3</th>\n",
       "      <th>Unnamed: 4</th>\n",
       "    </tr>\n",
       "  </thead>\n",
       "  <tbody>\n",
       "    <tr>\n",
       "      <th>0</th>\n",
       "      <td>ham</td>\n",
       "      <td>Go until jurong point, crazy.. Available only ...</td>\n",
       "      <td>NaN</td>\n",
       "      <td>NaN</td>\n",
       "      <td>NaN</td>\n",
       "    </tr>\n",
       "    <tr>\n",
       "      <th>1</th>\n",
       "      <td>ham</td>\n",
       "      <td>Ok lar... Joking wif u oni...</td>\n",
       "      <td>NaN</td>\n",
       "      <td>NaN</td>\n",
       "      <td>NaN</td>\n",
       "    </tr>\n",
       "    <tr>\n",
       "      <th>2</th>\n",
       "      <td>spam</td>\n",
       "      <td>Free entry in 2 a wkly comp to win FA Cup fina...</td>\n",
       "      <td>NaN</td>\n",
       "      <td>NaN</td>\n",
       "      <td>NaN</td>\n",
       "    </tr>\n",
       "    <tr>\n",
       "      <th>3</th>\n",
       "      <td>ham</td>\n",
       "      <td>U dun say so early hor... U c already then say...</td>\n",
       "      <td>NaN</td>\n",
       "      <td>NaN</td>\n",
       "      <td>NaN</td>\n",
       "    </tr>\n",
       "    <tr>\n",
       "      <th>4</th>\n",
       "      <td>ham</td>\n",
       "      <td>Nah I don't think he goes to usf, he lives aro...</td>\n",
       "      <td>NaN</td>\n",
       "      <td>NaN</td>\n",
       "      <td>NaN</td>\n",
       "    </tr>\n",
       "  </tbody>\n",
       "</table>\n",
       "</div>"
      ],
      "text/plain": [
       "     v1                                                 v2 Unnamed: 2  \\\n",
       "0   ham  Go until jurong point, crazy.. Available only ...        NaN   \n",
       "1   ham                      Ok lar... Joking wif u oni...        NaN   \n",
       "2  spam  Free entry in 2 a wkly comp to win FA Cup fina...        NaN   \n",
       "3   ham  U dun say so early hor... U c already then say...        NaN   \n",
       "4   ham  Nah I don't think he goes to usf, he lives aro...        NaN   \n",
       "\n",
       "  Unnamed: 3 Unnamed: 4  \n",
       "0        NaN        NaN  \n",
       "1        NaN        NaN  \n",
       "2        NaN        NaN  \n",
       "3        NaN        NaN  \n",
       "4        NaN        NaN  "
      ]
     },
     "execution_count": 2,
     "metadata": {},
     "output_type": "execute_result"
    }
   ],
   "source": [
    "df = pd.read_csv(\"/kaggle/input/email-spam-detection-dataset-classification/spam.csv\", encoding='latin-1')\n",
    "df.head()"
   ]
  },
  {
   "cell_type": "code",
   "execution_count": 3,
   "id": "cd09bbcd",
   "metadata": {
    "execution": {
     "iopub.execute_input": "2025-03-02T17:08:26.500809Z",
     "iopub.status.busy": "2025-03-02T17:08:26.500471Z",
     "iopub.status.idle": "2025-03-02T17:08:26.529813Z",
     "shell.execute_reply": "2025-03-02T17:08:26.528460Z"
    },
    "papermill": {
     "duration": 0.037096,
     "end_time": "2025-03-02T17:08:26.531537",
     "exception": false,
     "start_time": "2025-03-02T17:08:26.494441",
     "status": "completed"
    },
    "tags": []
   },
   "outputs": [
    {
     "name": "stdout",
     "output_type": "stream",
     "text": [
      "<class 'pandas.core.frame.DataFrame'>\n",
      "RangeIndex: 5572 entries, 0 to 5571\n",
      "Data columns (total 5 columns):\n",
      " #   Column      Non-Null Count  Dtype \n",
      "---  ------      --------------  ----- \n",
      " 0   v1          5572 non-null   object\n",
      " 1   v2          5572 non-null   object\n",
      " 2   Unnamed: 2  50 non-null     object\n",
      " 3   Unnamed: 3  12 non-null     object\n",
      " 4   Unnamed: 4  6 non-null      object\n",
      "dtypes: object(5)\n",
      "memory usage: 217.8+ KB\n"
     ]
    }
   ],
   "source": [
    "df.info()"
   ]
  },
  {
   "cell_type": "code",
   "execution_count": 4,
   "id": "d14e534a",
   "metadata": {
    "execution": {
     "iopub.execute_input": "2025-03-02T17:08:26.543831Z",
     "iopub.status.busy": "2025-03-02T17:08:26.543477Z",
     "iopub.status.idle": "2025-03-02T17:08:26.566530Z",
     "shell.execute_reply": "2025-03-02T17:08:26.565429Z"
    },
    "papermill": {
     "duration": 0.031243,
     "end_time": "2025-03-02T17:08:26.568196",
     "exception": false,
     "start_time": "2025-03-02T17:08:26.536953",
     "status": "completed"
    },
    "tags": []
   },
   "outputs": [
    {
     "data": {
      "text/html": [
       "<div>\n",
       "<style scoped>\n",
       "    .dataframe tbody tr th:only-of-type {\n",
       "        vertical-align: middle;\n",
       "    }\n",
       "\n",
       "    .dataframe tbody tr th {\n",
       "        vertical-align: top;\n",
       "    }\n",
       "\n",
       "    .dataframe thead th {\n",
       "        text-align: right;\n",
       "    }\n",
       "</style>\n",
       "<table border=\"1\" class=\"dataframe\">\n",
       "  <thead>\n",
       "    <tr style=\"text-align: right;\">\n",
       "      <th></th>\n",
       "      <th>v1</th>\n",
       "      <th>v2</th>\n",
       "      <th>Unnamed: 2</th>\n",
       "      <th>Unnamed: 3</th>\n",
       "      <th>Unnamed: 4</th>\n",
       "    </tr>\n",
       "  </thead>\n",
       "  <tbody>\n",
       "    <tr>\n",
       "      <th>count</th>\n",
       "      <td>5572</td>\n",
       "      <td>5572</td>\n",
       "      <td>50</td>\n",
       "      <td>12</td>\n",
       "      <td>6</td>\n",
       "    </tr>\n",
       "    <tr>\n",
       "      <th>unique</th>\n",
       "      <td>2</td>\n",
       "      <td>5169</td>\n",
       "      <td>43</td>\n",
       "      <td>10</td>\n",
       "      <td>5</td>\n",
       "    </tr>\n",
       "    <tr>\n",
       "      <th>top</th>\n",
       "      <td>ham</td>\n",
       "      <td>Sorry, I'll call later</td>\n",
       "      <td>bt not his girlfrnd... G o o d n i g h t . . .@\"</td>\n",
       "      <td>MK17 92H. 450Ppw 16\"</td>\n",
       "      <td>GNT:-)\"</td>\n",
       "    </tr>\n",
       "    <tr>\n",
       "      <th>freq</th>\n",
       "      <td>4825</td>\n",
       "      <td>30</td>\n",
       "      <td>3</td>\n",
       "      <td>2</td>\n",
       "      <td>2</td>\n",
       "    </tr>\n",
       "  </tbody>\n",
       "</table>\n",
       "</div>"
      ],
      "text/plain": [
       "          v1                      v2  \\\n",
       "count   5572                    5572   \n",
       "unique     2                    5169   \n",
       "top      ham  Sorry, I'll call later   \n",
       "freq    4825                      30   \n",
       "\n",
       "                                               Unnamed: 2  \\\n",
       "count                                                  50   \n",
       "unique                                                 43   \n",
       "top      bt not his girlfrnd... G o o d n i g h t . . .@\"   \n",
       "freq                                                    3   \n",
       "\n",
       "                   Unnamed: 3 Unnamed: 4  \n",
       "count                      12          6  \n",
       "unique                     10          5  \n",
       "top      MK17 92H. 450Ppw 16\"    GNT:-)\"  \n",
       "freq                        2          2  "
      ]
     },
     "execution_count": 4,
     "metadata": {},
     "output_type": "execute_result"
    }
   ],
   "source": [
    "df.describe(include=['object'])"
   ]
  },
  {
   "cell_type": "code",
   "execution_count": 5,
   "id": "4ce7cccc",
   "metadata": {
    "execution": {
     "iopub.execute_input": "2025-03-02T17:08:26.580976Z",
     "iopub.status.busy": "2025-03-02T17:08:26.580628Z",
     "iopub.status.idle": "2025-03-02T17:08:26.589400Z",
     "shell.execute_reply": "2025-03-02T17:08:26.588268Z"
    },
    "papermill": {
     "duration": 0.016878,
     "end_time": "2025-03-02T17:08:26.591167",
     "exception": false,
     "start_time": "2025-03-02T17:08:26.574289",
     "status": "completed"
    },
    "tags": []
   },
   "outputs": [
    {
     "data": {
      "text/plain": [
       "v1               0\n",
       "v2               0\n",
       "Unnamed: 2    5522\n",
       "Unnamed: 3    5560\n",
       "Unnamed: 4    5566\n",
       "dtype: int64"
      ]
     },
     "execution_count": 5,
     "metadata": {},
     "output_type": "execute_result"
    }
   ],
   "source": [
    "df.isnull().sum()"
   ]
  },
  {
   "cell_type": "code",
   "execution_count": 6,
   "id": "4633143d",
   "metadata": {
    "execution": {
     "iopub.execute_input": "2025-03-02T17:08:26.603258Z",
     "iopub.status.busy": "2025-03-02T17:08:26.602912Z",
     "iopub.status.idle": "2025-03-02T17:08:26.614370Z",
     "shell.execute_reply": "2025-03-02T17:08:26.613415Z"
    },
    "papermill": {
     "duration": 0.019531,
     "end_time": "2025-03-02T17:08:26.616235",
     "exception": false,
     "start_time": "2025-03-02T17:08:26.596704",
     "status": "completed"
    },
    "tags": []
   },
   "outputs": [
    {
     "data": {
      "text/html": [
       "<div>\n",
       "<style scoped>\n",
       "    .dataframe tbody tr th:only-of-type {\n",
       "        vertical-align: middle;\n",
       "    }\n",
       "\n",
       "    .dataframe tbody tr th {\n",
       "        vertical-align: top;\n",
       "    }\n",
       "\n",
       "    .dataframe thead th {\n",
       "        text-align: right;\n",
       "    }\n",
       "</style>\n",
       "<table border=\"1\" class=\"dataframe\">\n",
       "  <thead>\n",
       "    <tr style=\"text-align: right;\">\n",
       "      <th></th>\n",
       "      <th>v1</th>\n",
       "      <th>v2</th>\n",
       "    </tr>\n",
       "  </thead>\n",
       "  <tbody>\n",
       "    <tr>\n",
       "      <th>0</th>\n",
       "      <td>ham</td>\n",
       "      <td>Go until jurong point, crazy.. Available only ...</td>\n",
       "    </tr>\n",
       "    <tr>\n",
       "      <th>1</th>\n",
       "      <td>ham</td>\n",
       "      <td>Ok lar... Joking wif u oni...</td>\n",
       "    </tr>\n",
       "    <tr>\n",
       "      <th>2</th>\n",
       "      <td>spam</td>\n",
       "      <td>Free entry in 2 a wkly comp to win FA Cup fina...</td>\n",
       "    </tr>\n",
       "    <tr>\n",
       "      <th>3</th>\n",
       "      <td>ham</td>\n",
       "      <td>U dun say so early hor... U c already then say...</td>\n",
       "    </tr>\n",
       "    <tr>\n",
       "      <th>4</th>\n",
       "      <td>ham</td>\n",
       "      <td>Nah I don't think he goes to usf, he lives aro...</td>\n",
       "    </tr>\n",
       "  </tbody>\n",
       "</table>\n",
       "</div>"
      ],
      "text/plain": [
       "     v1                                                 v2\n",
       "0   ham  Go until jurong point, crazy.. Available only ...\n",
       "1   ham                      Ok lar... Joking wif u oni...\n",
       "2  spam  Free entry in 2 a wkly comp to win FA Cup fina...\n",
       "3   ham  U dun say so early hor... U c already then say...\n",
       "4   ham  Nah I don't think he goes to usf, he lives aro..."
      ]
     },
     "execution_count": 6,
     "metadata": {},
     "output_type": "execute_result"
    }
   ],
   "source": [
    "df.drop(columns=['Unnamed: 2', 'Unnamed: 3', 'Unnamed: 4'], inplace=True)\n",
    "df.head()"
   ]
  },
  {
   "cell_type": "code",
   "execution_count": 7,
   "id": "2835a0e7",
   "metadata": {
    "execution": {
     "iopub.execute_input": "2025-03-02T17:08:26.629110Z",
     "iopub.status.busy": "2025-03-02T17:08:26.628770Z",
     "iopub.status.idle": "2025-03-02T17:08:29.841620Z",
     "shell.execute_reply": "2025-03-02T17:08:29.840463Z"
    },
    "papermill": {
     "duration": 3.221541,
     "end_time": "2025-03-02T17:08:29.843875",
     "exception": false,
     "start_time": "2025-03-02T17:08:26.622334",
     "status": "completed"
    },
    "tags": []
   },
   "outputs": [],
   "source": [
    "import matplotlib.pyplot as plt\n",
    "import seaborn as sns\n",
    "import nltk\n",
    "import warnings\n",
    "from sklearn.metrics import accuracy_score, precision_score, recall_score, f1_score\n",
    "from sklearn.feature_extraction.text import CountVectorizer\n",
    "from sklearn.model_selection import train_test_split\n",
    "from sklearn.neural_network import MLPClassifier\n",
    "from sklearn.naive_bayes import MultinomialNB, BernoulliNB\n",
    "from sklearn.metrics import confusion_matrix"
   ]
  },
  {
   "cell_type": "code",
   "execution_count": 8,
   "id": "b3649485",
   "metadata": {
    "execution": {
     "iopub.execute_input": "2025-03-02T17:08:29.857685Z",
     "iopub.status.busy": "2025-03-02T17:08:29.857074Z",
     "iopub.status.idle": "2025-03-02T17:08:29.867422Z",
     "shell.execute_reply": "2025-03-02T17:08:29.866477Z"
    },
    "papermill": {
     "duration": 0.019209,
     "end_time": "2025-03-02T17:08:29.869109",
     "exception": false,
     "start_time": "2025-03-02T17:08:29.849900",
     "status": "completed"
    },
    "tags": []
   },
   "outputs": [
    {
     "data": {
      "text/html": [
       "<div>\n",
       "<style scoped>\n",
       "    .dataframe tbody tr th:only-of-type {\n",
       "        vertical-align: middle;\n",
       "    }\n",
       "\n",
       "    .dataframe tbody tr th {\n",
       "        vertical-align: top;\n",
       "    }\n",
       "\n",
       "    .dataframe thead th {\n",
       "        text-align: right;\n",
       "    }\n",
       "</style>\n",
       "<table border=\"1\" class=\"dataframe\">\n",
       "  <thead>\n",
       "    <tr style=\"text-align: right;\">\n",
       "      <th></th>\n",
       "      <th>Category</th>\n",
       "      <th>Text</th>\n",
       "    </tr>\n",
       "  </thead>\n",
       "  <tbody>\n",
       "    <tr>\n",
       "      <th>0</th>\n",
       "      <td>ham</td>\n",
       "      <td>Go until jurong point, crazy.. Available only ...</td>\n",
       "    </tr>\n",
       "    <tr>\n",
       "      <th>1</th>\n",
       "      <td>ham</td>\n",
       "      <td>Ok lar... Joking wif u oni...</td>\n",
       "    </tr>\n",
       "    <tr>\n",
       "      <th>2</th>\n",
       "      <td>spam</td>\n",
       "      <td>Free entry in 2 a wkly comp to win FA Cup fina...</td>\n",
       "    </tr>\n",
       "    <tr>\n",
       "      <th>3</th>\n",
       "      <td>ham</td>\n",
       "      <td>U dun say so early hor... U c already then say...</td>\n",
       "    </tr>\n",
       "    <tr>\n",
       "      <th>4</th>\n",
       "      <td>ham</td>\n",
       "      <td>Nah I don't think he goes to usf, he lives aro...</td>\n",
       "    </tr>\n",
       "  </tbody>\n",
       "</table>\n",
       "</div>"
      ],
      "text/plain": [
       "  Category                                               Text\n",
       "0      ham  Go until jurong point, crazy.. Available only ...\n",
       "1      ham                      Ok lar... Joking wif u oni...\n",
       "2     spam  Free entry in 2 a wkly comp to win FA Cup fina...\n",
       "3      ham  U dun say so early hor... U c already then say...\n",
       "4      ham  Nah I don't think he goes to usf, he lives aro..."
      ]
     },
     "execution_count": 8,
     "metadata": {},
     "output_type": "execute_result"
    }
   ],
   "source": [
    "df = df.rename(columns={'v1': 'Category', 'v2': 'Text'})\n",
    "df.head()"
   ]
  },
  {
   "cell_type": "code",
   "execution_count": 9,
   "id": "242788df",
   "metadata": {
    "execution": {
     "iopub.execute_input": "2025-03-02T17:08:29.882247Z",
     "iopub.status.busy": "2025-03-02T17:08:29.881901Z",
     "iopub.status.idle": "2025-03-02T17:08:29.889068Z",
     "shell.execute_reply": "2025-03-02T17:08:29.887828Z"
    },
    "papermill": {
     "duration": 0.015982,
     "end_time": "2025-03-02T17:08:29.890975",
     "exception": false,
     "start_time": "2025-03-02T17:08:29.874993",
     "status": "completed"
    },
    "tags": []
   },
   "outputs": [
    {
     "data": {
      "text/plain": [
       "array(['ham', 'spam'], dtype=object)"
      ]
     },
     "execution_count": 9,
     "metadata": {},
     "output_type": "execute_result"
    }
   ],
   "source": [
    "df['Category'].unique()"
   ]
  },
  {
   "cell_type": "code",
   "execution_count": 10,
   "id": "b0cd6aca",
   "metadata": {
    "execution": {
     "iopub.execute_input": "2025-03-02T17:08:29.905431Z",
     "iopub.status.busy": "2025-03-02T17:08:29.905042Z",
     "iopub.status.idle": "2025-03-02T17:08:29.917038Z",
     "shell.execute_reply": "2025-03-02T17:08:29.915930Z"
    },
    "papermill": {
     "duration": 0.021893,
     "end_time": "2025-03-02T17:08:29.919276",
     "exception": false,
     "start_time": "2025-03-02T17:08:29.897383",
     "status": "completed"
    },
    "tags": []
   },
   "outputs": [
    {
     "data": {
      "text/html": [
       "<div>\n",
       "<style scoped>\n",
       "    .dataframe tbody tr th:only-of-type {\n",
       "        vertical-align: middle;\n",
       "    }\n",
       "\n",
       "    .dataframe tbody tr th {\n",
       "        vertical-align: top;\n",
       "    }\n",
       "\n",
       "    .dataframe thead th {\n",
       "        text-align: right;\n",
       "    }\n",
       "</style>\n",
       "<table border=\"1\" class=\"dataframe\">\n",
       "  <thead>\n",
       "    <tr style=\"text-align: right;\">\n",
       "      <th></th>\n",
       "      <th>Category</th>\n",
       "      <th>Text</th>\n",
       "    </tr>\n",
       "  </thead>\n",
       "  <tbody>\n",
       "    <tr>\n",
       "      <th>0</th>\n",
       "      <td>0</td>\n",
       "      <td>Go until jurong point, crazy.. Available only ...</td>\n",
       "    </tr>\n",
       "    <tr>\n",
       "      <th>1</th>\n",
       "      <td>0</td>\n",
       "      <td>Ok lar... Joking wif u oni...</td>\n",
       "    </tr>\n",
       "    <tr>\n",
       "      <th>2</th>\n",
       "      <td>1</td>\n",
       "      <td>Free entry in 2 a wkly comp to win FA Cup fina...</td>\n",
       "    </tr>\n",
       "    <tr>\n",
       "      <th>3</th>\n",
       "      <td>0</td>\n",
       "      <td>U dun say so early hor... U c already then say...</td>\n",
       "    </tr>\n",
       "    <tr>\n",
       "      <th>4</th>\n",
       "      <td>0</td>\n",
       "      <td>Nah I don't think he goes to usf, he lives aro...</td>\n",
       "    </tr>\n",
       "  </tbody>\n",
       "</table>\n",
       "</div>"
      ],
      "text/plain": [
       "   Category                                               Text\n",
       "0         0  Go until jurong point, crazy.. Available only ...\n",
       "1         0                      Ok lar... Joking wif u oni...\n",
       "2         1  Free entry in 2 a wkly comp to win FA Cup fina...\n",
       "3         0  U dun say so early hor... U c already then say...\n",
       "4         0  Nah I don't think he goes to usf, he lives aro..."
      ]
     },
     "execution_count": 10,
     "metadata": {},
     "output_type": "execute_result"
    }
   ],
   "source": [
    "df['Category'] = df['Category'].map({'ham':0,'spam':1})\n",
    "df.head()"
   ]
  },
  {
   "cell_type": "code",
   "execution_count": 11,
   "id": "10a8b6f9",
   "metadata": {
    "execution": {
     "iopub.execute_input": "2025-03-02T17:08:29.933168Z",
     "iopub.status.busy": "2025-03-02T17:08:29.932805Z",
     "iopub.status.idle": "2025-03-02T17:08:30.856386Z",
     "shell.execute_reply": "2025-03-02T17:08:30.855302Z"
    },
    "papermill": {
     "duration": 0.932783,
     "end_time": "2025-03-02T17:08:30.858668",
     "exception": false,
     "start_time": "2025-03-02T17:08:29.925885",
     "status": "completed"
    },
    "tags": []
   },
   "outputs": [
    {
     "name": "stdout",
     "output_type": "stream",
     "text": [
      "[nltk_data] Downloading package stopwords to /usr/share/nltk_data...\n",
      "[nltk_data]   Unzipping corpora/stopwords.zip.\n",
      "[nltk_data] Downloading package punkt to /usr/share/nltk_data...\n",
      "[nltk_data]   Package punkt is already up-to-date!\n"
     ]
    },
    {
     "data": {
      "text/html": [
       "<div>\n",
       "<style scoped>\n",
       "    .dataframe tbody tr th:only-of-type {\n",
       "        vertical-align: middle;\n",
       "    }\n",
       "\n",
       "    .dataframe tbody tr th {\n",
       "        vertical-align: top;\n",
       "    }\n",
       "\n",
       "    .dataframe thead th {\n",
       "        text-align: right;\n",
       "    }\n",
       "</style>\n",
       "<table border=\"1\" class=\"dataframe\">\n",
       "  <thead>\n",
       "    <tr style=\"text-align: right;\">\n",
       "      <th></th>\n",
       "      <th>Category</th>\n",
       "      <th>Text</th>\n",
       "      <th>cleaned_text</th>\n",
       "    </tr>\n",
       "  </thead>\n",
       "  <tbody>\n",
       "    <tr>\n",
       "      <th>0</th>\n",
       "      <td>0</td>\n",
       "      <td>Go until jurong point, crazy.. Available only ...</td>\n",
       "      <td>go jurong point crazy available bugis n great ...</td>\n",
       "    </tr>\n",
       "    <tr>\n",
       "      <th>1</th>\n",
       "      <td>0</td>\n",
       "      <td>Ok lar... Joking wif u oni...</td>\n",
       "      <td>ok lar joking wif u oni</td>\n",
       "    </tr>\n",
       "    <tr>\n",
       "      <th>2</th>\n",
       "      <td>1</td>\n",
       "      <td>Free entry in 2 a wkly comp to win FA Cup fina...</td>\n",
       "      <td>free entry wkly comp win fa cup final tkts st ...</td>\n",
       "    </tr>\n",
       "    <tr>\n",
       "      <th>3</th>\n",
       "      <td>0</td>\n",
       "      <td>U dun say so early hor... U c already then say...</td>\n",
       "      <td>u dun say early hor u c already say</td>\n",
       "    </tr>\n",
       "    <tr>\n",
       "      <th>4</th>\n",
       "      <td>0</td>\n",
       "      <td>Nah I don't think he goes to usf, he lives aro...</td>\n",
       "      <td>nah dont think goes usf lives around though</td>\n",
       "    </tr>\n",
       "  </tbody>\n",
       "</table>\n",
       "</div>"
      ],
      "text/plain": [
       "   Category                                               Text  \\\n",
       "0         0  Go until jurong point, crazy.. Available only ...   \n",
       "1         0                      Ok lar... Joking wif u oni...   \n",
       "2         1  Free entry in 2 a wkly comp to win FA Cup fina...   \n",
       "3         0  U dun say so early hor... U c already then say...   \n",
       "4         0  Nah I don't think he goes to usf, he lives aro...   \n",
       "\n",
       "                                        cleaned_text  \n",
       "0  go jurong point crazy available bugis n great ...  \n",
       "1                            ok lar joking wif u oni  \n",
       "2  free entry wkly comp win fa cup final tkts st ...  \n",
       "3                u dun say early hor u c already say  \n",
       "4        nah dont think goes usf lives around though  "
      ]
     },
     "execution_count": 11,
     "metadata": {},
     "output_type": "execute_result"
    }
   ],
   "source": [
    "from nltk.corpus import stopwords\n",
    "from nltk.tokenize import word_tokenize\n",
    "import re\n",
    "import string\n",
    "nltk.download('stopwords')\n",
    "nltk.download('punkt')\n",
    "\n",
    "stop_words =set(stopwords.words('english'))\n",
    "\n",
    "def preprocess_text(text):\n",
    "    text = text.lower()\n",
    "    text = re.sub(r\"\\d+\", \"\", text)\n",
    "    text = text.translate(str.maketrans(\"\", \"\", string.punctuation))\n",
    "    words = word_tokenize(text)\n",
    "    words = [word for word in words if word not in stop_words]\n",
    "    return \" \".join(words)\n",
    "\n",
    "df['cleaned_text'] = df['Text'].apply(preprocess_text)\n",
    "\n",
    "df.head()"
   ]
  },
  {
   "cell_type": "code",
   "execution_count": 12,
   "id": "b76fad8f",
   "metadata": {
    "execution": {
     "iopub.execute_input": "2025-03-02T17:08:30.873137Z",
     "iopub.status.busy": "2025-03-02T17:08:30.872783Z",
     "iopub.status.idle": "2025-03-02T17:08:30.958738Z",
     "shell.execute_reply": "2025-03-02T17:08:30.957473Z"
    },
    "papermill": {
     "duration": 0.095727,
     "end_time": "2025-03-02T17:08:30.961015",
     "exception": false,
     "start_time": "2025-03-02T17:08:30.865288",
     "status": "completed"
    },
    "tags": []
   },
   "outputs": [],
   "source": [
    "count = CountVectorizer()\n",
    "text = count.fit_transform(df['cleaned_text'])"
   ]
  },
  {
   "cell_type": "code",
   "execution_count": 13,
   "id": "fa34029b",
   "metadata": {
    "execution": {
     "iopub.execute_input": "2025-03-02T17:08:30.975545Z",
     "iopub.status.busy": "2025-03-02T17:08:30.975107Z",
     "iopub.status.idle": "2025-03-02T17:08:30.983917Z",
     "shell.execute_reply": "2025-03-02T17:08:30.982633Z"
    },
    "papermill": {
     "duration": 0.018182,
     "end_time": "2025-03-02T17:08:30.985939",
     "exception": false,
     "start_time": "2025-03-02T17:08:30.967757",
     "status": "completed"
    },
    "tags": []
   },
   "outputs": [],
   "source": [
    "x_train, x_test, y_train, y_test = train_test_split(text, df['Category'], test_size=0.30, random_state=42)"
   ]
  },
  {
   "cell_type": "code",
   "execution_count": 14,
   "id": "3b98dd3c",
   "metadata": {
    "execution": {
     "iopub.execute_input": "2025-03-02T17:08:31.000330Z",
     "iopub.status.busy": "2025-03-02T17:08:30.999948Z",
     "iopub.status.idle": "2025-03-02T17:08:41.860684Z",
     "shell.execute_reply": "2025-03-02T17:08:41.859707Z"
    },
    "papermill": {
     "duration": 10.870594,
     "end_time": "2025-03-02T17:08:41.862810",
     "exception": false,
     "start_time": "2025-03-02T17:08:30.992216",
     "status": "completed"
    },
    "tags": []
   },
   "outputs": [],
   "source": [
    "mlp_classifier_model = MLPClassifier(hidden_layer_sizes=(100, 50), max_iter=1000)\n",
    "mlp_classifier_model.fit(x_train, y_train)\n",
    "mlp_pred = mlp_classifier_model.predict(x_test)"
   ]
  },
  {
   "cell_type": "code",
   "execution_count": 15,
   "id": "de3d6c86",
   "metadata": {
    "execution": {
     "iopub.execute_input": "2025-03-02T17:08:41.876888Z",
     "iopub.status.busy": "2025-03-02T17:08:41.876523Z",
     "iopub.status.idle": "2025-03-02T17:08:41.892605Z",
     "shell.execute_reply": "2025-03-02T17:08:41.891504Z"
    },
    "papermill": {
     "duration": 0.02532,
     "end_time": "2025-03-02T17:08:41.894595",
     "exception": false,
     "start_time": "2025-03-02T17:08:41.869275",
     "status": "completed"
    },
    "tags": []
   },
   "outputs": [],
   "source": [
    "multinomial_nb_model = MultinomialNB()\n",
    "multinomial_nb_model.fit(x_train, y_train)\n",
    "multinomial_pred = multinomial_nb_model.predict(x_test)"
   ]
  },
  {
   "cell_type": "code",
   "execution_count": 16,
   "id": "87436a24",
   "metadata": {
    "execution": {
     "iopub.execute_input": "2025-03-02T17:08:41.908808Z",
     "iopub.status.busy": "2025-03-02T17:08:41.908419Z",
     "iopub.status.idle": "2025-03-02T17:08:41.919991Z",
     "shell.execute_reply": "2025-03-02T17:08:41.918819Z"
    },
    "papermill": {
     "duration": 0.020997,
     "end_time": "2025-03-02T17:08:41.921998",
     "exception": false,
     "start_time": "2025-03-02T17:08:41.901001",
     "status": "completed"
    },
    "tags": []
   },
   "outputs": [],
   "source": [
    "bernoulli_nb_model = BernoulliNB()\n",
    "bernoulli_nb_model.fit(x_train, y_train)\n",
    "bernoulli_pred = bernoulli_nb_model.predict(x_test)"
   ]
  },
  {
   "cell_type": "code",
   "execution_count": 17,
   "id": "f8b96859",
   "metadata": {
    "execution": {
     "iopub.execute_input": "2025-03-02T17:08:41.937396Z",
     "iopub.status.busy": "2025-03-02T17:08:41.936900Z",
     "iopub.status.idle": "2025-03-02T17:08:41.942633Z",
     "shell.execute_reply": "2025-03-02T17:08:41.941236Z"
    },
    "papermill": {
     "duration": 0.015337,
     "end_time": "2025-03-02T17:08:41.944877",
     "exception": false,
     "start_time": "2025-03-02T17:08:41.929540",
     "status": "completed"
    },
    "tags": []
   },
   "outputs": [],
   "source": [
    "def evaluate_model(name, y_true, y_pred):\n",
    "    print(f\"{name}\")\n",
    "    print(f\"Accuracy score: {accuracy_score(y_true, y_pred):.2f}\")\n",
    "    print(f\"Precision score: {precision_score(y_true, y_pred):.2f}\")\n",
    "    print(f\"Recall score: {recall_score(y_true, y_pred):.2f}\")\n",
    "    print(f\"F1 score: {f1_score(y_true, y_pred):.2f}\\n\")"
   ]
  },
  {
   "cell_type": "code",
   "execution_count": 18,
   "id": "bc5513b9",
   "metadata": {
    "execution": {
     "iopub.execute_input": "2025-03-02T17:08:41.959010Z",
     "iopub.status.busy": "2025-03-02T17:08:41.958624Z",
     "iopub.status.idle": "2025-03-02T17:08:41.999173Z",
     "shell.execute_reply": "2025-03-02T17:08:41.997377Z"
    },
    "papermill": {
     "duration": 0.049826,
     "end_time": "2025-03-02T17:08:42.001215",
     "exception": false,
     "start_time": "2025-03-02T17:08:41.951389",
     "status": "completed"
    },
    "tags": []
   },
   "outputs": [
    {
     "name": "stdout",
     "output_type": "stream",
     "text": [
      "MLP Classifier\n",
      "Accuracy score: 0.98\n",
      "Precision score: 0.99\n",
      "Recall score: 0.85\n",
      "F1 score: 0.91\n",
      "\n",
      "Multinomial NB\n",
      "Accuracy score: 0.97\n",
      "Precision score: 0.86\n",
      "Recall score: 0.91\n",
      "F1 score: 0.88\n",
      "\n",
      "Bernoulli NB\n",
      "Accuracy score: 0.97\n",
      "Precision score: 0.97\n",
      "Recall score: 0.79\n",
      "F1 score: 0.87\n",
      "\n"
     ]
    }
   ],
   "source": [
    "evaluate_model(\"MLP Classifier\", y_test, mlp_pred)\n",
    "evaluate_model(\"Multinomial NB\", y_test, multinomial_pred)\n",
    "evaluate_model(\"Bernoulli NB\", y_test, bernoulli_pred)"
   ]
  },
  {
   "cell_type": "code",
   "execution_count": 19,
   "id": "d7efae4c",
   "metadata": {
    "execution": {
     "iopub.execute_input": "2025-03-02T17:08:42.016499Z",
     "iopub.status.busy": "2025-03-02T17:08:42.016060Z",
     "iopub.status.idle": "2025-03-02T17:08:42.552040Z",
     "shell.execute_reply": "2025-03-02T17:08:42.550808Z"
    },
    "papermill": {
     "duration": 0.545409,
     "end_time": "2025-03-02T17:08:42.554094",
     "exception": false,
     "start_time": "2025-03-02T17:08:42.008685",
     "status": "completed"
    },
    "tags": []
   },
   "outputs": [
    {
     "data": {
      "image/png": "[encoded data removed]",
      "text/plain": [
       "<Figure size 1000x300 with 3 Axes>"
      ]
     },
     "metadata": {},
     "output_type": "display_data"
    }
   ],
   "source": [
    "models = [(\"Multinomial NB\", multinomial_nb_model), (\"Bernoulli NB\", bernoulli_nb_model), (\"MLP Classifier\", mlp_classifier_model)]\n",
    "fig, axes = plt.subplots(1, 3, figsize=(10, 3))\n",
    "for i, (model_name, model) in enumerate(models):\n",
    "    cm = confusion_matrix(y_test, model.predict(x_test))\n",
    "    sns.heatmap(cm, annot=True, fmt=\"d\", cmap=\"Blues\", cbar=False, ax=axes[i])\n",
    "    axes[i].set_title(f\"{model_name} - Confusion Matrix\")\n",
    "    axes[i].set_xlabel(\"Predicted\")\n",
    "    axes[i].set_ylabel(\"Actual\")\n",
    "plt.tight_layout()\n",
    "plt.show()"
   ]
  },
  {
   "cell_type": "code",
   "execution_count": 20,
   "id": "4b7e241f",
   "metadata": {
    "execution": {
     "iopub.execute_input": "2025-03-02T17:08:42.569604Z",
     "iopub.status.busy": "2025-03-02T17:08:42.569222Z",
     "iopub.status.idle": "2025-03-02T17:08:42.757991Z",
     "shell.execute_reply": "2025-03-02T17:08:42.756799Z"
    },
    "papermill": {
     "duration": 0.198536,
     "end_time": "2025-03-02T17:08:42.759719",
     "exception": false,
     "start_time": "2025-03-02T17:08:42.561183",
     "status": "completed"
    },
    "tags": []
   },
   "outputs": [
    {
     "data": {
      "image/png": "[encoded data removed]",
      "text/plain": [
       "<Figure size 600x300 with 1 Axes>"
      ]
     },
     "metadata": {},
     "output_type": "display_data"
    }
   ],
   "source": [
    "metric_data = []\n",
    "for model_name, model in models:\n",
    "    pred = model.predict(x_test)\n",
    "    metric_data.append([accuracy_score(y_test, pred), precision_score(y_test, pred), recall_score(y_test, pred), f1_score(y_test, pred)])\n",
    "\n",
    "plt.figure(figsize=(6, 3))\n",
    "sns.heatmap(metric_data, annot=True, fmt=\".2f\", cbar=False, cmap=\"summer_r\", xticklabels=[\"Accuracy\", \"Precision\", \"Recall\", \"F1 Score\"], yticklabels=[model_name for model_name, _ in models])\n",
    "plt.title(\"Metric Comparison\")\n",
    "plt.yticks(rotation=0)\n",
    "plt.xlabel(\"Metrics\")\n",
    "plt.ylabel(\"Models\")\n",
    "plt.tight_layout()\n",
    "plt.show()"
   ]
  },
  {
   "cell_type": "code",
   "execution_count": 21,
   "id": "668a00e9",
   "metadata": {
    "execution": {
     "iopub.execute_input": "2025-03-02T17:08:42.776154Z",
     "iopub.status.busy": "2025-03-02T17:08:42.775763Z",
     "iopub.status.idle": "2025-03-02T17:08:42.808923Z",
     "shell.execute_reply": "2025-03-02T17:08:42.807657Z"
    },
    "papermill": {
     "duration": 0.043339,
     "end_time": "2025-03-02T17:08:42.810858",
     "exception": false,
     "start_time": "2025-03-02T17:08:42.767519",
     "status": "completed"
    },
    "tags": []
   },
   "outputs": [],
   "source": [
    "df.to_csv(\"spam_detection.csv\")"
   ]
  },
  {
   "cell_type": "code",
   "execution_count": null,
   "id": "7c8267e4",
   "metadata": {
    "papermill": {
     "duration": 0.007251,
     "end_time": "2025-03-02T17:08:42.825858",
     "exception": false,
     "start_time": "2025-03-02T17:08:42.818607",
     "status": "completed"
    },
    "tags": []
   },
   "outputs": [],
   "source": []
  }
 ],
 "metadata": {
  "kaggle": {
   "accelerator": "none",
   "dataSources": [
    {
     "datasetId": 1961542,
     "sourceId": 3235802,
     "sourceType": "datasetVersion"
    }
   ],
   "dockerImageVersionId": 30918,
   "isGpuEnabled": false,
   "isInternetEnabled": true,
   "language": "python",
   "sourceType": "notebook"
  },
  "kernelspec": {
   "display_name": "Python 3",
   "language": "python",
   "name": "python3"
  },
  "language_info": {
   "codemirror_mode": {
    "name": "ipython",
    "version": 3
   },
   "file_extension": ".py",
   "mimetype": "text/x-python",
   "name": "python",
   "nbconvert_exporter": "python",
   "pygments_lexer": "ipython3",
   "version": "3.10.12"
  },
  "papermill": {
   "default_parameters": {},
   "duration": 21.204546,
   "end_time": "2025-03-02T17:08:43.656235",
   "environment_variables": {},
   "exception": null,
   "input_path": "__notebook__.ipynb",
   "output_path": "__notebook__.ipynb",
   "parameters": {},
   "start_time": "2025-03-02T17:08:22.451689",
   "version": "2.6.0"
  }
 },
 "nbformat": 4,
 "nbformat_minor": 5
}
